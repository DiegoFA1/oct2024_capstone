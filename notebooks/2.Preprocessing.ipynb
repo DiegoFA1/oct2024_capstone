{
 "cells": [
  {
   "cell_type": "markdown",
   "id": "9d58c2ed-9a4f-44e5-b26f-a335f04b80ca",
   "metadata": {},
   "source": [
    "# Data Preprocessing\n",
    "\n",
    "We pick up where we left off by importing the cleaned BookEDA dataset and re-acquanting ourselves with the variables present in the data."
   ]
  },
  {
   "cell_type": "code",
   "execution_count": 1,
   "id": "6fb62378-843f-4d0e-a9eb-ca49b5c216e8",
   "metadata": {},
   "outputs": [],
   "source": [
    "import numpy as np \n",
    "import pandas as pd\n",
    "import matplotlib.pyplot as plt\n",
    "import seaborn as sns\n",
    "import re\n",
    "\n",
    "# library to convert contries to continents\n",
    "import pycountry\n",
    "import pycountry_convert as pc\n",
    "\n",
    "from scipy import stats"
   ]
  },
  {
   "cell_type": "code",
   "execution_count": 2,
   "id": "ee2cde6d-cf12-458b-867f-dbbc21e24238",
   "metadata": {},
   "outputs": [],
   "source": [
    "# Read in the data and refresh our memories\n",
    "df = pd.read_csv('../data/BooksEDA.csv', index_col=0)"
   ]
  },
  {
   "cell_type": "code",
   "execution_count": 3,
   "id": "3ae963db-f513-428b-8123-69b8644b5a53",
   "metadata": {},
   "outputs": [
    {
     "data": {
      "text/html": [
       "<div>\n",
       "<style scoped>\n",
       "    .dataframe tbody tr th:only-of-type {\n",
       "        vertical-align: middle;\n",
       "    }\n",
       "\n",
       "    .dataframe tbody tr th {\n",
       "        vertical-align: top;\n",
       "    }\n",
       "\n",
       "    .dataframe thead th {\n",
       "        text-align: right;\n",
       "    }\n",
       "</style>\n",
       "<table border=\"1\" class=\"dataframe\">\n",
       "  <thead>\n",
       "    <tr style=\"text-align: right;\">\n",
       "      <th></th>\n",
       "      <th>user_id</th>\n",
       "      <th>age</th>\n",
       "      <th>isbn</th>\n",
       "      <th>rating</th>\n",
       "      <th>book_title</th>\n",
       "      <th>book_author</th>\n",
       "      <th>year_of_publication</th>\n",
       "      <th>publisher</th>\n",
       "      <th>img_s</th>\n",
       "      <th>img_m</th>\n",
       "      <th>img_l</th>\n",
       "      <th>language</th>\n",
       "      <th>city</th>\n",
       "      <th>state</th>\n",
       "      <th>country</th>\n",
       "      <th>category</th>\n",
       "    </tr>\n",
       "  </thead>\n",
       "  <tbody>\n",
       "    <tr>\n",
       "      <th>0</th>\n",
       "      <td>2</td>\n",
       "      <td>18.0000</td>\n",
       "      <td>0195153448</td>\n",
       "      <td>0</td>\n",
       "      <td>Classical Mythology</td>\n",
       "      <td>Mark P. O. Morford</td>\n",
       "      <td>2002.0</td>\n",
       "      <td>Oxford University Press</td>\n",
       "      <td>http://images.amazon.com/images/P/0195153448.0...</td>\n",
       "      <td>http://images.amazon.com/images/P/0195153448.0...</td>\n",
       "      <td>http://images.amazon.com/images/P/0195153448.0...</td>\n",
       "      <td>en</td>\n",
       "      <td>stockton</td>\n",
       "      <td>california</td>\n",
       "      <td>usa</td>\n",
       "      <td>science &amp; technology</td>\n",
       "    </tr>\n",
       "    <tr>\n",
       "      <th>1</th>\n",
       "      <td>8</td>\n",
       "      <td>34.7439</td>\n",
       "      <td>0002005018</td>\n",
       "      <td>5</td>\n",
       "      <td>Clara Callan</td>\n",
       "      <td>Richard Bruce Wright</td>\n",
       "      <td>2001.0</td>\n",
       "      <td>HarperFlamingo Canada</td>\n",
       "      <td>http://images.amazon.com/images/P/0002005018.0...</td>\n",
       "      <td>http://images.amazon.com/images/P/0002005018.0...</td>\n",
       "      <td>http://images.amazon.com/images/P/0002005018.0...</td>\n",
       "      <td>en</td>\n",
       "      <td>timmins</td>\n",
       "      <td>ontario</td>\n",
       "      <td>canada</td>\n",
       "      <td>unknown_category</td>\n",
       "    </tr>\n",
       "    <tr>\n",
       "      <th>2</th>\n",
       "      <td>11400</td>\n",
       "      <td>49.0000</td>\n",
       "      <td>0002005018</td>\n",
       "      <td>0</td>\n",
       "      <td>Clara Callan</td>\n",
       "      <td>Richard Bruce Wright</td>\n",
       "      <td>2001.0</td>\n",
       "      <td>HarperFlamingo Canada</td>\n",
       "      <td>http://images.amazon.com/images/P/0002005018.0...</td>\n",
       "      <td>http://images.amazon.com/images/P/0002005018.0...</td>\n",
       "      <td>http://images.amazon.com/images/P/0002005018.0...</td>\n",
       "      <td>en</td>\n",
       "      <td>ottawa</td>\n",
       "      <td>ontario</td>\n",
       "      <td>canada</td>\n",
       "      <td>unknown_category</td>\n",
       "    </tr>\n",
       "    <tr>\n",
       "      <th>4</th>\n",
       "      <td>41385</td>\n",
       "      <td>34.7439</td>\n",
       "      <td>0002005018</td>\n",
       "      <td>0</td>\n",
       "      <td>Clara Callan</td>\n",
       "      <td>Richard Bruce Wright</td>\n",
       "      <td>2001.0</td>\n",
       "      <td>HarperFlamingo Canada</td>\n",
       "      <td>http://images.amazon.com/images/P/0002005018.0...</td>\n",
       "      <td>http://images.amazon.com/images/P/0002005018.0...</td>\n",
       "      <td>http://images.amazon.com/images/P/0002005018.0...</td>\n",
       "      <td>en</td>\n",
       "      <td>sudbury</td>\n",
       "      <td>ontario</td>\n",
       "      <td>canada</td>\n",
       "      <td>unknown_category</td>\n",
       "    </tr>\n",
       "    <tr>\n",
       "      <th>5</th>\n",
       "      <td>67544</td>\n",
       "      <td>30.0000</td>\n",
       "      <td>0002005018</td>\n",
       "      <td>8</td>\n",
       "      <td>Clara Callan</td>\n",
       "      <td>Richard Bruce Wright</td>\n",
       "      <td>2001.0</td>\n",
       "      <td>HarperFlamingo Canada</td>\n",
       "      <td>http://images.amazon.com/images/P/0002005018.0...</td>\n",
       "      <td>http://images.amazon.com/images/P/0002005018.0...</td>\n",
       "      <td>http://images.amazon.com/images/P/0002005018.0...</td>\n",
       "      <td>en</td>\n",
       "      <td>toronto</td>\n",
       "      <td>ontario</td>\n",
       "      <td>canada</td>\n",
       "      <td>unknown_category</td>\n",
       "    </tr>\n",
       "  </tbody>\n",
       "</table>\n",
       "</div>"
      ],
      "text/plain": [
       "   user_id      age        isbn  rating           book_title  \\\n",
       "0        2  18.0000  0195153448       0  Classical Mythology   \n",
       "1        8  34.7439  0002005018       5         Clara Callan   \n",
       "2    11400  49.0000  0002005018       0         Clara Callan   \n",
       "4    41385  34.7439  0002005018       0         Clara Callan   \n",
       "5    67544  30.0000  0002005018       8         Clara Callan   \n",
       "\n",
       "            book_author  year_of_publication                publisher  \\\n",
       "0    Mark P. O. Morford               2002.0  Oxford University Press   \n",
       "1  Richard Bruce Wright               2001.0    HarperFlamingo Canada   \n",
       "2  Richard Bruce Wright               2001.0    HarperFlamingo Canada   \n",
       "4  Richard Bruce Wright               2001.0    HarperFlamingo Canada   \n",
       "5  Richard Bruce Wright               2001.0    HarperFlamingo Canada   \n",
       "\n",
       "                                               img_s  \\\n",
       "0  http://images.amazon.com/images/P/0195153448.0...   \n",
       "1  http://images.amazon.com/images/P/0002005018.0...   \n",
       "2  http://images.amazon.com/images/P/0002005018.0...   \n",
       "4  http://images.amazon.com/images/P/0002005018.0...   \n",
       "5  http://images.amazon.com/images/P/0002005018.0...   \n",
       "\n",
       "                                               img_m  \\\n",
       "0  http://images.amazon.com/images/P/0195153448.0...   \n",
       "1  http://images.amazon.com/images/P/0002005018.0...   \n",
       "2  http://images.amazon.com/images/P/0002005018.0...   \n",
       "4  http://images.amazon.com/images/P/0002005018.0...   \n",
       "5  http://images.amazon.com/images/P/0002005018.0...   \n",
       "\n",
       "                                               img_l language      city  \\\n",
       "0  http://images.amazon.com/images/P/0195153448.0...       en  stockton   \n",
       "1  http://images.amazon.com/images/P/0002005018.0...       en   timmins   \n",
       "2  http://images.amazon.com/images/P/0002005018.0...       en    ottawa   \n",
       "4  http://images.amazon.com/images/P/0002005018.0...       en   sudbury   \n",
       "5  http://images.amazon.com/images/P/0002005018.0...       en   toronto   \n",
       "\n",
       "        state country              category  \n",
       "0  california     usa  science & technology  \n",
       "1     ontario  canada      unknown_category  \n",
       "2     ontario  canada      unknown_category  \n",
       "4     ontario  canada      unknown_category  \n",
       "5     ontario  canada      unknown_category  "
      ]
     },
     "execution_count": 3,
     "metadata": {},
     "output_type": "execute_result"
    }
   ],
   "source": [
    "df.head()"
   ]
  },
  {
   "cell_type": "code",
   "execution_count": 4,
   "id": "44d2a213-b0a3-4cd2-9a5f-c7d16190a1c4",
   "metadata": {},
   "outputs": [
    {
     "name": "stdout",
     "output_type": "stream",
     "text": [
      "<class 'pandas.core.frame.DataFrame'>\n",
      "Index: 982278 entries, 0 to 1031174\n",
      "Data columns (total 16 columns):\n",
      " #   Column               Non-Null Count   Dtype  \n",
      "---  ------               --------------   -----  \n",
      " 0   user_id              982278 non-null  int64  \n",
      " 1   age                  982278 non-null  float64\n",
      " 2   isbn                 982278 non-null  object \n",
      " 3   rating               982278 non-null  int64  \n",
      " 4   book_title           982278 non-null  object \n",
      " 5   book_author          982278 non-null  object \n",
      " 6   year_of_publication  982278 non-null  float64\n",
      " 7   publisher            982278 non-null  object \n",
      " 8   img_s                982278 non-null  object \n",
      " 9   img_m                982278 non-null  object \n",
      " 10  img_l                982278 non-null  object \n",
      " 11  language             982278 non-null  object \n",
      " 12  city                 982278 non-null  object \n",
      " 13  state                982278 non-null  object \n",
      " 14  country              982278 non-null  object \n",
      " 15  category             982278 non-null  object \n",
      "dtypes: float64(2), int64(2), object(12)\n",
      "memory usage: 127.4+ MB\n"
     ]
    }
   ],
   "source": [
    "df.info()"
   ]
  },
  {
   "cell_type": "code",
   "execution_count": 5,
   "id": "1235d8c2-c45e-4aed-b81c-88a2eab07c87",
   "metadata": {},
   "outputs": [
    {
     "data": {
      "text/plain": [
       "user_id                0\n",
       "age                    0\n",
       "isbn                   0\n",
       "rating                 0\n",
       "book_title             0\n",
       "book_author            0\n",
       "year_of_publication    0\n",
       "publisher              0\n",
       "img_s                  0\n",
       "img_m                  0\n",
       "img_l                  0\n",
       "language               0\n",
       "city                   0\n",
       "state                  0\n",
       "country                0\n",
       "category               0\n",
       "dtype: int64"
      ]
     },
     "execution_count": 5,
     "metadata": {},
     "output_type": "execute_result"
    }
   ],
   "source": [
    "df.isna().sum()"
   ]
  },
  {
   "cell_type": "markdown",
   "id": "53fe7bba-5745-454f-af0a-ad2550b85346",
   "metadata": {},
   "source": [
    "## Basic models that we will create\n",
    "\n",
    "1. **Logistic Regression**  \n",
    "   - Purpose: To predict the likelihood of users leaving a review.  \n",
    "   - Output: Probability of whether a user will leave a review or not.  \n",
    "\n",
    "2. **Decision Tree**  \n",
    "   - Purpose: To classify reviews as positive or negative based on features.  \n",
    "   - Output: A clear decision-making framework to determine the sentiment of reviews.  "
   ]
  },
  {
   "cell_type": "markdown",
   "id": "8f9f52df-bf11-4e6a-adb0-48f788c2d5c4",
   "metadata": {},
   "source": [
    "## Preprocessing\n",
    "As we can see, even though our data is clean, we are dealing with a large number of categorical values (stored as object type in pandas). We will somehow convert these values to numerical representations such that we can apply statistical modeling. \n",
    "\n",
    "During the preprocessing stage, we will maintain two separate dataframes:\n",
    "\n",
    "1. **`df`**: The clean, preprocessed dataframe with original features for reference and analysis.  \n",
    "2. **`df_encoded`**: The encoded version of the dataframe, where categorical variables and other features are transformed into a format suitable for modeling.\n",
    "\n",
    "This approach ensures flexibility by preserving the raw data while enabling us to work seamlessly with the encoded data for building models."
   ]
  },
  {
   "cell_type": "markdown",
   "id": "b5408271-92cf-468d-817a-bdfb9da3147c",
   "metadata": {},
   "source": [
    "## Country, state and city\n",
    "\n",
    "For our models, we will work with continent-level data rather than focusing solely on U.S. states. This broader geographic categorization allows us to capture global patterns and reduces complexity, making our model more generalizable and easier to interpret.\n",
    "\n",
    "To reduce the number of unique values in our `country` column, we will transform each country into its corresponding continent. This approach simplifies our data by grouping countries into broader categories, making it easier to analyze patterns across regions."
   ]
  },
  {
   "cell_type": "code",
   "execution_count": 6,
   "id": "6458ea99-0f06-4efe-9b2e-d4939ecede12",
   "metadata": {},
   "outputs": [
    {
     "data": {
      "text/plain": [
       "country\n",
       "usa                     742313\n",
       "canada                   92461\n",
       "united kingdom           30453\n",
       "germany                  27255\n",
       "australia                18191\n",
       "                         ...  \n",
       "ventura county               1\n",
       "lkjlj                        1\n",
       "ouranos                      1\n",
       "victoria, australia          1\n",
       "päijät-häme, finland         1\n",
       "Name: count, Length: 394, dtype: int64"
      ]
     },
     "execution_count": 6,
     "metadata": {},
     "output_type": "execute_result"
    }
   ],
   "source": [
    "df['country'].value_counts()"
   ]
  },
  {
   "cell_type": "code",
   "execution_count": 7,
   "id": "f8a8a06e-37d8-4e1f-96e6-015959be5bf9",
   "metadata": {},
   "outputs": [],
   "source": [
    "# takes a country name as an argument and returns the name of the continent that the country belongs to\n",
    "def country_to_continent(country_name):\n",
    "    try:\n",
    "        country_alpha2 = pycountry.countries.lookup(country_name).alpha_2\n",
    "        continent_code = pc.country_alpha2_to_continent_code(country_alpha2)\n",
    "        continent_name = pc.convert_continent_code_to_continent_name(continent_code)\n",
    "        return continent_name\n",
    "    except:\n",
    "        return None"
   ]
  },
  {
   "cell_type": "code",
   "execution_count": 8,
   "id": "9128971b-c87f-4590-b7ca-034e4147914d",
   "metadata": {},
   "outputs": [],
   "source": [
    "df['continent'] = df['country'].apply(country_to_continent)"
   ]
  },
  {
   "cell_type": "code",
   "execution_count": 9,
   "id": "cc9fcd84-7bab-468a-97e3-a1414c66f65d",
   "metadata": {},
   "outputs": [
    {
     "data": {
      "text/plain": [
       "continent\n",
       "North America    836650\n",
       "Europe           107638\n",
       "Oceania           23411\n",
       "Asia               9534\n",
       "South America      1317\n",
       "Africa              309\n",
       "Name: count, dtype: int64"
      ]
     },
     "execution_count": 9,
     "metadata": {},
     "output_type": "execute_result"
    }
   ],
   "source": [
    "df['continent'].value_counts()"
   ]
  },
  {
   "cell_type": "code",
   "execution_count": 10,
   "id": "fbf05041-869a-4b07-9515-9545c467b88f",
   "metadata": {},
   "outputs": [
    {
     "data": {
      "text/plain": [
       "3419"
      ]
     },
     "execution_count": 10,
     "metadata": {},
     "output_type": "execute_result"
    }
   ],
   "source": [
    "df['continent'].isnull().sum()"
   ]
  },
  {
   "cell_type": "markdown",
   "id": "9d78bc4d-31f7-4a6a-b580-c6f73784a969",
   "metadata": {},
   "source": [
    "Since 3,419 rows represent a small percentage of our dataset (out of 982,278 rows), we can safely drop these rows with irregular or unrecognized `country` values. This step will help maintain data quality without significantly impacting the overall analysis."
   ]
  },
  {
   "cell_type": "code",
   "execution_count": 11,
   "id": "d59b0ae7-a3aa-445c-bd95-d4eda4ce08dd",
   "metadata": {},
   "outputs": [],
   "source": [
    "df = df.dropna(subset=['continent'])"
   ]
  },
  {
   "cell_type": "markdown",
   "id": "cf7d0952-b69c-4347-8749-3e3f7436b273",
   "metadata": {},
   "source": [
    "#### Visualization and Insights"
   ]
  },
  {
   "cell_type": "code",
   "execution_count": 12,
   "id": "1d20414f-51fd-4cbf-8fa7-5789e528e3f2",
   "metadata": {},
   "outputs": [
    {
     "data": {
      "image/png": "[encoded data removed]",
      "text/plain": [
       "<Figure size 1000x600 with 1 Axes>"
      ]
     },
     "metadata": {},
     "output_type": "display_data"
    }
   ],
   "source": [
    "# Get the frequencies of the countries\n",
    "country_counts = df['country'].value_counts().head(15)\n",
    "\n",
    "# Create a bar chart with publishers on the y-axis and their counts on the x-axis\n",
    "plt.figure(figsize=(10, 6))\n",
    "plt.barh(country_counts.index, country_counts.values, color='skyblue')\n",
    "plt.xlabel('Count of Reviews')\n",
    "plt.ylabel('Country')\n",
    "plt.title('Countries with More Frequency')\n",
    "plt.gca().invert_yaxis() \n",
    "\n",
    "# Customize layout\n",
    "for i, value in enumerate(country_counts.values):\n",
    "    plt.text(value + 5, i, str(value), va='center')\n",
    "\n",
    "plt.tight_layout()\n",
    "plt.show()\n"
   ]
  },
  {
   "cell_type": "code",
   "execution_count": 13,
   "id": "f8e01219-0c3a-4041-8a84-6232a75a848f",
   "metadata": {},
   "outputs": [
    {
     "data": {
      "image/png": "[encoded data removed]",
      "text/plain": [
       "<Figure size 1000x600 with 1 Axes>"
      ]
     },
     "metadata": {},
     "output_type": "display_data"
    }
   ],
   "source": [
    "category_counts = df['continent'].value_counts()\n",
    "\n",
    "# Create a horizontal bar chart with matplotlib\n",
    "plt.figure(figsize=(10, 6))\n",
    "plt.barh(category_counts.index, category_counts.values, color='skyblue')\n",
    "plt.xlabel('Count')\n",
    "plt.ylabel('Continent')\n",
    "plt.title('Continents with More Reviews')\n",
    "\n",
    "# Add values on the bars\n",
    "for i, value in enumerate(category_counts.values):\n",
    "    plt.text(value + 5, i, str(value), va='center')\n",
    "\n",
    "plt.tight_layout()\n",
    "plt.show()"
   ]
  },
  {
   "cell_type": "markdown",
   "id": "b45ccac4-dc98-4899-b4ab-247d11c88ab6",
   "metadata": {},
   "source": [
    "By grouping by Continents we will help our models to identify broader trends and patterns (e.g., user engagement levels, reading habits, or popular genres) across regions rather than being hyper-focused on specific countries.\n",
    "\n",
    "In this case the country USA (with a disproportionately high review count) can overshadow smaller nations. Grouping countries into continents balances this by pooling data, making smaller contributors more visible within their regional context.\n",
    "\n",
    "Insights:\n",
    "\n",
    "North America accounts for 836,650 reviews, far surpassing all other continents. This mirrors the large contributions from the USA and Canada in the first chart.\n",
    "\n",
    "Underrepresented regions like Africa, South America, and parts of Asia present opportunities for expansion, either by engaging users in those regions or including more books from those areas."
   ]
  },
  {
   "cell_type": "markdown",
   "id": "1d5db973-ac1d-49ad-a213-2c12b9b31ffc",
   "metadata": {},
   "source": [
    "### One-hot encoding for continents"
   ]
  },
  {
   "cell_type": "code",
   "execution_count": 14,
   "id": "5fdfa101-fdd6-4e33-909d-f7f3d2aa42e8",
   "metadata": {},
   "outputs": [
    {
     "name": "stdout",
     "output_type": "stream",
     "text": [
      "<class 'pandas.core.frame.DataFrame'>\n",
      "Index: 978859 entries, 0 to 1031174\n",
      "Data columns (total 17 columns):\n",
      " #   Column               Non-Null Count   Dtype  \n",
      "---  ------               --------------   -----  \n",
      " 0   user_id              978859 non-null  int64  \n",
      " 1   age                  978859 non-null  float64\n",
      " 2   isbn                 978859 non-null  object \n",
      " 3   rating               978859 non-null  int64  \n",
      " 4   book_title           978859 non-null  object \n",
      " 5   book_author          978859 non-null  object \n",
      " 6   year_of_publication  978859 non-null  float64\n",
      " 7   publisher            978859 non-null  object \n",
      " 8   img_s                978859 non-null  object \n",
      " 9   img_m                978859 non-null  object \n",
      " 10  img_l                978859 non-null  object \n",
      " 11  language             978859 non-null  object \n",
      " 12  city                 978859 non-null  object \n",
      " 13  state                978859 non-null  object \n",
      " 14  country              978859 non-null  object \n",
      " 15  category             978859 non-null  object \n",
      " 16  continent            978859 non-null  object \n",
      "dtypes: float64(2), int64(2), object(13)\n",
      "memory usage: 134.4+ MB\n"
     ]
    }
   ],
   "source": [
    "df.info()"
   ]
  },
  {
   "cell_type": "code",
   "execution_count": 15,
   "id": "58ed3acf-ae0b-48f5-9e6a-121645667b34",
   "metadata": {},
   "outputs": [],
   "source": [
    "# Drop the categories that we are not going to use\n",
    "df.drop(columns=['city','state','country'], inplace=True)"
   ]
  },
  {
   "cell_type": "markdown",
   "id": "998dad86-134b-4cbd-a72f-f8c70eccc250",
   "metadata": {},
   "source": [
    "After mapping and cleaning, we've reduced the original 394 unique `country` values down to 6 continent-based categories. This transformation provides clearer indicators of regional data trends and makes encoding much simpler, allowing for more efficient analysis and modeling."
   ]
  },
  {
   "cell_type": "code",
   "execution_count": 16,
   "id": "56e9d8f2-2ea6-4d12-81a2-d4a6dfa8b751",
   "metadata": {},
   "outputs": [
    {
     "data": {
      "text/html": [
       "<div>\n",
       "<style scoped>\n",
       "    .dataframe tbody tr th:only-of-type {\n",
       "        vertical-align: middle;\n",
       "    }\n",
       "\n",
       "    .dataframe tbody tr th {\n",
       "        vertical-align: top;\n",
       "    }\n",
       "\n",
       "    .dataframe thead th {\n",
       "        text-align: right;\n",
       "    }\n",
       "</style>\n",
       "<table border=\"1\" class=\"dataframe\">\n",
       "  <thead>\n",
       "    <tr style=\"text-align: right;\">\n",
       "      <th></th>\n",
       "      <th>Africa</th>\n",
       "      <th>Asia</th>\n",
       "      <th>Europe</th>\n",
       "      <th>North America</th>\n",
       "      <th>Oceania</th>\n",
       "      <th>South America</th>\n",
       "    </tr>\n",
       "  </thead>\n",
       "  <tbody>\n",
       "    <tr>\n",
       "      <th>0</th>\n",
       "      <td>0</td>\n",
       "      <td>0</td>\n",
       "      <td>0</td>\n",
       "      <td>1</td>\n",
       "      <td>0</td>\n",
       "      <td>0</td>\n",
       "    </tr>\n",
       "    <tr>\n",
       "      <th>1</th>\n",
       "      <td>0</td>\n",
       "      <td>0</td>\n",
       "      <td>0</td>\n",
       "      <td>1</td>\n",
       "      <td>0</td>\n",
       "      <td>0</td>\n",
       "    </tr>\n",
       "    <tr>\n",
       "      <th>2</th>\n",
       "      <td>0</td>\n",
       "      <td>0</td>\n",
       "      <td>0</td>\n",
       "      <td>1</td>\n",
       "      <td>0</td>\n",
       "      <td>0</td>\n",
       "    </tr>\n",
       "    <tr>\n",
       "      <th>4</th>\n",
       "      <td>0</td>\n",
       "      <td>0</td>\n",
       "      <td>0</td>\n",
       "      <td>1</td>\n",
       "      <td>0</td>\n",
       "      <td>0</td>\n",
       "    </tr>\n",
       "    <tr>\n",
       "      <th>5</th>\n",
       "      <td>0</td>\n",
       "      <td>0</td>\n",
       "      <td>0</td>\n",
       "      <td>1</td>\n",
       "      <td>0</td>\n",
       "      <td>0</td>\n",
       "    </tr>\n",
       "    <tr>\n",
       "      <th>...</th>\n",
       "      <td>...</td>\n",
       "      <td>...</td>\n",
       "      <td>...</td>\n",
       "      <td>...</td>\n",
       "      <td>...</td>\n",
       "      <td>...</td>\n",
       "    </tr>\n",
       "    <tr>\n",
       "      <th>1031170</th>\n",
       "      <td>0</td>\n",
       "      <td>0</td>\n",
       "      <td>0</td>\n",
       "      <td>1</td>\n",
       "      <td>0</td>\n",
       "      <td>0</td>\n",
       "    </tr>\n",
       "    <tr>\n",
       "      <th>1031171</th>\n",
       "      <td>0</td>\n",
       "      <td>0</td>\n",
       "      <td>0</td>\n",
       "      <td>1</td>\n",
       "      <td>0</td>\n",
       "      <td>0</td>\n",
       "    </tr>\n",
       "    <tr>\n",
       "      <th>1031172</th>\n",
       "      <td>0</td>\n",
       "      <td>0</td>\n",
       "      <td>0</td>\n",
       "      <td>1</td>\n",
       "      <td>0</td>\n",
       "      <td>0</td>\n",
       "    </tr>\n",
       "    <tr>\n",
       "      <th>1031173</th>\n",
       "      <td>0</td>\n",
       "      <td>0</td>\n",
       "      <td>0</td>\n",
       "      <td>1</td>\n",
       "      <td>0</td>\n",
       "      <td>0</td>\n",
       "    </tr>\n",
       "    <tr>\n",
       "      <th>1031174</th>\n",
       "      <td>0</td>\n",
       "      <td>0</td>\n",
       "      <td>0</td>\n",
       "      <td>1</td>\n",
       "      <td>0</td>\n",
       "      <td>0</td>\n",
       "    </tr>\n",
       "  </tbody>\n",
       "</table>\n",
       "<p>978859 rows × 6 columns</p>\n",
       "</div>"
      ],
      "text/plain": [
       "         Africa  Asia  Europe  North America  Oceania  South America\n",
       "0             0     0       0              1        0              0\n",
       "1             0     0       0              1        0              0\n",
       "2             0     0       0              1        0              0\n",
       "4             0     0       0              1        0              0\n",
       "5             0     0       0              1        0              0\n",
       "...         ...   ...     ...            ...      ...            ...\n",
       "1031170       0     0       0              1        0              0\n",
       "1031171       0     0       0              1        0              0\n",
       "1031172       0     0       0              1        0              0\n",
       "1031173       0     0       0              1        0              0\n",
       "1031174       0     0       0              1        0              0\n",
       "\n",
       "[978859 rows x 6 columns]"
      ]
     },
     "execution_count": 16,
     "metadata": {},
     "output_type": "execute_result"
    }
   ],
   "source": [
    "pd.get_dummies(df['continent'], dtype='int')"
   ]
  },
  {
   "cell_type": "code",
   "execution_count": 17,
   "id": "4ea5012f-87da-49ac-a960-83ea8c185973",
   "metadata": {},
   "outputs": [],
   "source": [
    "# Apply one-hot encoding\n",
    "continent_dummies = pd.get_dummies(df['continent'], dtype='int')\n",
    "\n",
    "# Creation of new DF,  Concatenate the dummy variables with the original DataFrame\n",
    "df_encoded = pd.concat([df, continent_dummies], axis=1)\n",
    "\n",
    "df_encoded = df_encoded.drop(columns=['continent'], axis=1)"
   ]
  },
  {
   "cell_type": "code",
   "execution_count": 18,
   "id": "816d2ea5-a6d2-45a4-83e5-9a9572402909",
   "metadata": {},
   "outputs": [
    {
     "name": "stdout",
     "output_type": "stream",
     "text": [
      "<class 'pandas.core.frame.DataFrame'>\n",
      "Index: 978859 entries, 0 to 1031174\n",
      "Data columns (total 19 columns):\n",
      " #   Column               Non-Null Count   Dtype  \n",
      "---  ------               --------------   -----  \n",
      " 0   user_id              978859 non-null  int64  \n",
      " 1   age                  978859 non-null  float64\n",
      " 2   isbn                 978859 non-null  object \n",
      " 3   rating               978859 non-null  int64  \n",
      " 4   book_title           978859 non-null  object \n",
      " 5   book_author          978859 non-null  object \n",
      " 6   year_of_publication  978859 non-null  float64\n",
      " 7   publisher            978859 non-null  object \n",
      " 8   img_s                978859 non-null  object \n",
      " 9   img_m                978859 non-null  object \n",
      " 10  img_l                978859 non-null  object \n",
      " 11  language             978859 non-null  object \n",
      " 12  category             978859 non-null  object \n",
      " 13  Africa               978859 non-null  int32  \n",
      " 14  Asia                 978859 non-null  int32  \n",
      " 15  Europe               978859 non-null  int32  \n",
      " 16  North America        978859 non-null  int32  \n",
      " 17  Oceania              978859 non-null  int32  \n",
      " 18  South America        978859 non-null  int32  \n",
      "dtypes: float64(2), int32(6), int64(2), object(9)\n",
      "memory usage: 127.0+ MB\n"
     ]
    }
   ],
   "source": [
    "df_encoded.info()"
   ]
  },
  {
   "cell_type": "markdown",
   "id": "f43c751c-4182-4660-99ce-749cb9b77aed",
   "metadata": {},
   "source": [
    "## Book Authors"
   ]
  },
  {
   "cell_type": "markdown",
   "id": "0ea2ecef-50e0-4022-8746-f1eb73d3bcce",
   "metadata": {},
   "source": [
    "### Frequency Encoding\n",
    "\n",
    "We will use **Frequency Encoding** to transform categorical variables, in this case authors, into numerical values based on their frequency in the dataset. This encoding can help us analyze whether popular authors correlate with higher (or lower) ratings, depending on the data patterns."
   ]
  },
  {
   "cell_type": "code",
   "execution_count": 19,
   "id": "b03321c7-8b96-4284-b4c3-d97b12703c72",
   "metadata": {},
   "outputs": [
    {
     "data": {
      "text/plain": [
       "author_frequency\n",
       "1      49037\n",
       "2      32754\n",
       "3      23907\n",
       "4      19152\n",
       "5      15830\n",
       "       ...  \n",
       "233      233\n",
       "221      221\n",
       "210      210\n",
       "192      192\n",
       "147      147\n",
       "Name: count, Length: 635, dtype: int64"
      ]
     },
     "execution_count": 19,
     "metadata": {},
     "output_type": "execute_result"
    }
   ],
   "source": [
    "# Calculate frequency for each unique author\n",
    "author_frequencies = df['book_author'].value_counts()\n",
    "\n",
    "# Map the frequencies back to the original column\n",
    "df['author_frequency'] = df['book_author'].map(author_frequencies)\n",
    "\n",
    "# Add the column to df_encoded\n",
    "df_encoded['author_frequency'] = df['author_frequency']\n",
    "\n",
    "# Sanity Check\n",
    "df['author_frequency'].value_counts()"
   ]
  },
  {
   "cell_type": "code",
   "execution_count": 20,
   "id": "9e87ffc2-117f-490d-98c9-1695d55a2445",
   "metadata": {},
   "outputs": [
    {
     "data": {
      "text/html": [
       "<div>\n",
       "<style scoped>\n",
       "    .dataframe tbody tr th:only-of-type {\n",
       "        vertical-align: middle;\n",
       "    }\n",
       "\n",
       "    .dataframe tbody tr th {\n",
       "        vertical-align: top;\n",
       "    }\n",
       "\n",
       "    .dataframe thead th {\n",
       "        text-align: right;\n",
       "    }\n",
       "</style>\n",
       "<table border=\"1\" class=\"dataframe\">\n",
       "  <thead>\n",
       "    <tr style=\"text-align: right;\">\n",
       "      <th></th>\n",
       "      <th>user_id</th>\n",
       "      <th>age</th>\n",
       "      <th>isbn</th>\n",
       "      <th>rating</th>\n",
       "      <th>book_title</th>\n",
       "      <th>book_author</th>\n",
       "      <th>year_of_publication</th>\n",
       "      <th>publisher</th>\n",
       "      <th>img_s</th>\n",
       "      <th>img_m</th>\n",
       "      <th>img_l</th>\n",
       "      <th>language</th>\n",
       "      <th>category</th>\n",
       "      <th>continent</th>\n",
       "      <th>author_frequency</th>\n",
       "    </tr>\n",
       "  </thead>\n",
       "  <tbody>\n",
       "    <tr>\n",
       "      <th>0</th>\n",
       "      <td>2</td>\n",
       "      <td>18.0000</td>\n",
       "      <td>0195153448</td>\n",
       "      <td>0</td>\n",
       "      <td>Classical Mythology</td>\n",
       "      <td>Mark P. O. Morford</td>\n",
       "      <td>2002.0</td>\n",
       "      <td>Oxford University Press</td>\n",
       "      <td>http://images.amazon.com/images/P/0195153448.0...</td>\n",
       "      <td>http://images.amazon.com/images/P/0195153448.0...</td>\n",
       "      <td>http://images.amazon.com/images/P/0195153448.0...</td>\n",
       "      <td>en</td>\n",
       "      <td>science &amp; technology</td>\n",
       "      <td>North America</td>\n",
       "      <td>2</td>\n",
       "    </tr>\n",
       "    <tr>\n",
       "      <th>1</th>\n",
       "      <td>8</td>\n",
       "      <td>34.7439</td>\n",
       "      <td>0002005018</td>\n",
       "      <td>5</td>\n",
       "      <td>Clara Callan</td>\n",
       "      <td>Richard Bruce Wright</td>\n",
       "      <td>2001.0</td>\n",
       "      <td>HarperFlamingo Canada</td>\n",
       "      <td>http://images.amazon.com/images/P/0002005018.0...</td>\n",
       "      <td>http://images.amazon.com/images/P/0002005018.0...</td>\n",
       "      <td>http://images.amazon.com/images/P/0002005018.0...</td>\n",
       "      <td>en</td>\n",
       "      <td>unknown_category</td>\n",
       "      <td>North America</td>\n",
       "      <td>13</td>\n",
       "    </tr>\n",
       "    <tr>\n",
       "      <th>2</th>\n",
       "      <td>11400</td>\n",
       "      <td>49.0000</td>\n",
       "      <td>0002005018</td>\n",
       "      <td>0</td>\n",
       "      <td>Clara Callan</td>\n",
       "      <td>Richard Bruce Wright</td>\n",
       "      <td>2001.0</td>\n",
       "      <td>HarperFlamingo Canada</td>\n",
       "      <td>http://images.amazon.com/images/P/0002005018.0...</td>\n",
       "      <td>http://images.amazon.com/images/P/0002005018.0...</td>\n",
       "      <td>http://images.amazon.com/images/P/0002005018.0...</td>\n",
       "      <td>en</td>\n",
       "      <td>unknown_category</td>\n",
       "      <td>North America</td>\n",
       "      <td>13</td>\n",
       "    </tr>\n",
       "    <tr>\n",
       "      <th>4</th>\n",
       "      <td>41385</td>\n",
       "      <td>34.7439</td>\n",
       "      <td>0002005018</td>\n",
       "      <td>0</td>\n",
       "      <td>Clara Callan</td>\n",
       "      <td>Richard Bruce Wright</td>\n",
       "      <td>2001.0</td>\n",
       "      <td>HarperFlamingo Canada</td>\n",
       "      <td>http://images.amazon.com/images/P/0002005018.0...</td>\n",
       "      <td>http://images.amazon.com/images/P/0002005018.0...</td>\n",
       "      <td>http://images.amazon.com/images/P/0002005018.0...</td>\n",
       "      <td>en</td>\n",
       "      <td>unknown_category</td>\n",
       "      <td>North America</td>\n",
       "      <td>13</td>\n",
       "    </tr>\n",
       "    <tr>\n",
       "      <th>5</th>\n",
       "      <td>67544</td>\n",
       "      <td>30.0000</td>\n",
       "      <td>0002005018</td>\n",
       "      <td>8</td>\n",
       "      <td>Clara Callan</td>\n",
       "      <td>Richard Bruce Wright</td>\n",
       "      <td>2001.0</td>\n",
       "      <td>HarperFlamingo Canada</td>\n",
       "      <td>http://images.amazon.com/images/P/0002005018.0...</td>\n",
       "      <td>http://images.amazon.com/images/P/0002005018.0...</td>\n",
       "      <td>http://images.amazon.com/images/P/0002005018.0...</td>\n",
       "      <td>en</td>\n",
       "      <td>unknown_category</td>\n",
       "      <td>North America</td>\n",
       "      <td>13</td>\n",
       "    </tr>\n",
       "  </tbody>\n",
       "</table>\n",
       "</div>"
      ],
      "text/plain": [
       "   user_id      age        isbn  rating           book_title  \\\n",
       "0        2  18.0000  0195153448       0  Classical Mythology   \n",
       "1        8  34.7439  0002005018       5         Clara Callan   \n",
       "2    11400  49.0000  0002005018       0         Clara Callan   \n",
       "4    41385  34.7439  0002005018       0         Clara Callan   \n",
       "5    67544  30.0000  0002005018       8         Clara Callan   \n",
       "\n",
       "            book_author  year_of_publication                publisher  \\\n",
       "0    Mark P. O. Morford               2002.0  Oxford University Press   \n",
       "1  Richard Bruce Wright               2001.0    HarperFlamingo Canada   \n",
       "2  Richard Bruce Wright               2001.0    HarperFlamingo Canada   \n",
       "4  Richard Bruce Wright               2001.0    HarperFlamingo Canada   \n",
       "5  Richard Bruce Wright               2001.0    HarperFlamingo Canada   \n",
       "\n",
       "                                               img_s  \\\n",
       "0  http://images.amazon.com/images/P/0195153448.0...   \n",
       "1  http://images.amazon.com/images/P/0002005018.0...   \n",
       "2  http://images.amazon.com/images/P/0002005018.0...   \n",
       "4  http://images.amazon.com/images/P/0002005018.0...   \n",
       "5  http://images.amazon.com/images/P/0002005018.0...   \n",
       "\n",
       "                                               img_m  \\\n",
       "0  http://images.amazon.com/images/P/0195153448.0...   \n",
       "1  http://images.amazon.com/images/P/0002005018.0...   \n",
       "2  http://images.amazon.com/images/P/0002005018.0...   \n",
       "4  http://images.amazon.com/images/P/0002005018.0...   \n",
       "5  http://images.amazon.com/images/P/0002005018.0...   \n",
       "\n",
       "                                               img_l language  \\\n",
       "0  http://images.amazon.com/images/P/0195153448.0...       en   \n",
       "1  http://images.amazon.com/images/P/0002005018.0...       en   \n",
       "2  http://images.amazon.com/images/P/0002005018.0...       en   \n",
       "4  http://images.amazon.com/images/P/0002005018.0...       en   \n",
       "5  http://images.amazon.com/images/P/0002005018.0...       en   \n",
       "\n",
       "               category      continent  author_frequency  \n",
       "0  science & technology  North America                 2  \n",
       "1      unknown_category  North America                13  \n",
       "2      unknown_category  North America                13  \n",
       "4      unknown_category  North America                13  \n",
       "5      unknown_category  North America                13  "
      ]
     },
     "execution_count": 20,
     "metadata": {},
     "output_type": "execute_result"
    }
   ],
   "source": [
    "df.head()"
   ]
  },
  {
   "cell_type": "markdown",
   "id": "ccfaaa5a-a9c9-4ada-a07f-f5b44e11738b",
   "metadata": {},
   "source": [
    "#### Visualizations and Insights"
   ]
  },
  {
   "cell_type": "code",
   "execution_count": 21,
   "id": "39819492-392b-409f-a5de-21b3af1981a1",
   "metadata": {},
   "outputs": [
    {
     "data": {
      "text/plain": [
       "author_frequency\n",
       "1      49037\n",
       "2      32754\n",
       "3      23907\n",
       "4      19152\n",
       "5      15830\n",
       "       ...  \n",
       "233      233\n",
       "221      221\n",
       "210      210\n",
       "192      192\n",
       "147      147\n",
       "Name: count, Length: 635, dtype: int64"
      ]
     },
     "execution_count": 21,
     "metadata": {},
     "output_type": "execute_result"
    }
   ],
   "source": [
    "df['author_frequency'].value_counts()"
   ]
  },
  {
   "cell_type": "code",
   "execution_count": 22,
   "id": "fe5fff0d-f0ff-4303-a350-962265804d8b",
   "metadata": {},
   "outputs": [
    {
     "data": {
      "image/png": "[encoded data removed]",
      "text/plain": [
       "<Figure size 1200x600 with 1 Axes>"
      ]
     },
     "metadata": {},
     "output_type": "display_data"
    }
   ],
   "source": [
    "plt.figure(figsize=(12, 6))\n",
    "plt.hist(df['author_frequency'], bins=200, color='skyblue', edgecolor='black')\n",
    "plt.title('Author Review Frequencies')\n",
    "plt.xlabel('Frequency')\n",
    "plt.ylabel('Total Reviews')\n",
    "\n",
    "plt.tight_layout()\n",
    "plt.show()"
   ]
  },
  {
   "cell_type": "code",
   "execution_count": 23,
   "id": "6e0227ff-e446-469d-add5-f5588638aa5a",
   "metadata": {},
   "outputs": [
    {
     "data": {
      "image/png": "[encoded data removed]",
      "text/plain": [
       "<Figure size 1200x400 with 1 Axes>"
      ]
     },
     "metadata": {},
     "output_type": "display_data"
    }
   ],
   "source": [
    "# Sample the top 15 authors by frequency\n",
    "sample = df['author_frequency'].value_counts().sort_values(ascending=False).head(15)\n",
    "\n",
    "# Create a bar chart with author ratings on x-axis and their counts on y-axis\n",
    "plt.figure(figsize=(12, 4))\n",
    "plt.bar(sample.index, sample.values, color='lightblue', edgecolor='black')\n",
    "plt.title('Author Reviews Frequency 0-20')\n",
    "plt.xlabel('Frequency')\n",
    "plt.ylabel('Count')\n",
    "plt.gca().set_xlim([0, 20])\n",
    "\n",
    "\n",
    "# Show the chart\n",
    "plt.tight_layout()\n",
    "plt.show()"
   ]
  },
  {
   "cell_type": "markdown",
   "id": "0d10d98d-5079-4f85-b9d7-661024c7cfa5",
   "metadata": {},
   "source": [
    "The data suggests that the majority of authors do not receive high engagement, indicating either limited popularity, low discoverability, or possibly a large number of authors in genres or niches with smaller audiences.\n",
    "\n",
    "For authors with only 1 or 2 reviews, there might be opportunities to increase visibility, such as through targeted recommendations, genre-based promotions, or highlighting them alongside more popular books.\n",
    "\n",
    "The long tail extending to very high frequencies (e.g., 5,000–9,000 reviews) highlights a few highly popular or prolific authors. These outliers may represent best-selling authors or authors with large catalogs of books."
   ]
  },
  {
   "cell_type": "markdown",
   "id": "0670333d-ab89-427a-a625-611b4a71dfb6",
   "metadata": {},
   "source": [
    "### Target Encoding\n",
    "\n",
    "We will use **Target Encoding** to capture the average rating for each author. This technique calculates the mean of the target variable (`rating`) grouped by a categorical feature (`book_author`) and maps it back to the dataset. "
   ]
  },
  {
   "cell_type": "markdown",
   "id": "16454cdc-4ece-49c4-a637-392fcec6f9a0",
   "metadata": {},
   "source": [
    "### Calculate Implicit Reviews Encoding\n",
    "\n",
    "To account for **implicit feedback**, we will calculate the proportion of implicit interactions for cases where `rating == 0`. This represents the percentage of times a book was interacted with (e.g., viewed or clicked) without an explicit rating being provided. \n"
   ]
  },
  {
   "cell_type": "code",
   "execution_count": 24,
   "id": "e7fa7664-7366-4577-b6c1-2ea03a412ee7",
   "metadata": {},
   "outputs": [],
   "source": [
    "# Filter implicit feedback (rating == 0)\n",
    "implicit_df = df[df['rating'] == 0]\n",
    "\n",
    "# Calculate the total reviews and implicit interactions for each author\n",
    "author_total_reviews = df.groupby('book_author')['rating'].count()  # Total reviews (all ratings)\n",
    "author_implicit_reviews = implicit_df['book_author'].value_counts()  # Total implicit reviews (rating == 0)\n",
    "\n",
    "# Calculate the proportion of implicit interactions for each author\n",
    "author_implicit_proportion = author_implicit_reviews / author_total_reviews\n",
    "\n",
    "# Map the proportions back to the main DataFrame\n",
    "df['author_implicit_encoded'] = df['book_author'].map(author_implicit_proportion)\n",
    "\n",
    "# Fill missing values with 0 (for authors with no implicit interactions)\n",
    "df['author_implicit_encoded'].fillna(0, inplace=True)\n",
    "\n",
    "# Add the column to df_encoded\n",
    "\n",
    "df_encoded['author_implicit_encoded'] = df['author_implicit_encoded']"
   ]
  },
  {
   "cell_type": "markdown",
   "id": "59d3f55d-e417-49d9-86b3-b408e5548115",
   "metadata": {},
   "source": [
    "#### Visualization and insights"
   ]
  },
  {
   "cell_type": "code",
   "execution_count": 25,
   "id": "ee4f8f60-5b8f-4840-9b5a-679391255eb6",
   "metadata": {},
   "outputs": [
    {
     "data": {
      "image/png": "[encoded data removed]",
      "text/plain": [
       "<Figure size 1000x400 with 1 Axes>"
      ]
     },
     "metadata": {},
     "output_type": "display_data"
    }
   ],
   "source": [
    "plt.figure(figsize=(10, 4))\n",
    "plt.hist(df['author_implicit_encoded'], bins=35, color='skyblue', edgecolor='black')\n",
    "plt.title('Author Implicit Ratio')\n",
    "plt.xlabel('Proportion')\n",
    "plt.ylabel('Count')\n",
    "\n",
    "# Show the chart\n",
    "plt.tight_layout()\n",
    "plt.show()"
   ]
  },
  {
   "cell_type": "markdown",
   "id": "51b33ac8-444d-4179-8afa-ad4a0339ed62",
   "metadata": {},
   "source": [
    "The histogram indicates that many authors have a moderate proportion of implicit interactions (centered around ~0.6). This suggests that for these authors, a significant portion of their ratings on the dataframe comes from implicit feedback rather than explicit ratings.\n",
    "\n",
    "Authors with author_implicit_encoded values close to 0 likely have very few implicit interactions or a higher proportion of explicit ratings. These could be well-known authors with many explicit reviews or lesser-known ones with fewer overall interactions.\n",
    "\n",
    "The spike near author_implicit_encoded = 1 suggests there are authors whose interactions are almost entirely implicit, otherwise for the spike near 0"
   ]
  },
  {
   "cell_type": "markdown",
   "id": "7cd4833a-2db9-456e-8d8a-5957be10487e",
   "metadata": {},
   "source": [
    "### Explicit Reviews encoding\n",
    "\n",
    "To capture the **mean reviews per author**, we will focus only on explicit reviews (`rating > 0`). By grouping the data based on explicit reviews, we can calculate the average rating for each author and append this information to the dataframe."
   ]
  },
  {
   "cell_type": "code",
   "execution_count": 26,
   "id": "0daa621f-729d-452b-8977-762ffec22e49",
   "metadata": {},
   "outputs": [
    {
     "data": {
      "text/plain": [
       "author_explicit_encoded\n",
       "8.000000     36803\n",
       "7.000000     30028\n",
       "9.000000     16383\n",
       "7.500000     16329\n",
       "10.000000    14742\n",
       "             ...  \n",
       "5.300000        10\n",
       "1.666667         8\n",
       "2.333333         6\n",
       "4.400000         6\n",
       "2.666667         4\n",
       "Name: count, Length: 1801, dtype: int64"
      ]
     },
     "execution_count": 26,
     "metadata": {},
     "output_type": "execute_result"
    }
   ],
   "source": [
    "# Filter explicit reviews (rating > 0)\n",
    "explicit_df = df[df['rating'] > 0]\n",
    "\n",
    "# Calculate mean explicit rating for each author\n",
    "author_explicit_mean_rating = explicit_df.groupby('book_author')['rating'].mean()\n",
    "\n",
    "# Map mean explicit ratings back to the main DataFrame\n",
    "df['author_explicit_encoded'] = df['book_author'].map(author_explicit_mean_rating)\n",
    "\n",
    "df['author_explicit_encoded'].value_counts()"
   ]
  },
  {
   "cell_type": "code",
   "execution_count": 27,
   "id": "1f814f13-5bd8-4fda-9a53-88716e75d5e6",
   "metadata": {},
   "outputs": [
    {
     "data": {
      "image/png": "[encoded data removed]",
      "text/plain": [
       "<Figure size 1000x400 with 1 Axes>"
      ]
     },
     "metadata": {},
     "output_type": "display_data"
    }
   ],
   "source": [
    "plt.figure(figsize=(10, 4))\n",
    "plt.hist(df['author_explicit_encoded'], bins=20, color='skyblue', edgecolor='black')\n",
    "plt.title('Author Explicit Ratings Frequency')\n",
    "plt.xlabel('Ratings')\n",
    "plt.ylabel('Count')\n",
    "\n",
    "# Show the chart\n",
    "plt.tight_layout()\n",
    "plt.show()"
   ]
  },
  {
   "cell_type": "code",
   "execution_count": 28,
   "id": "bd6d14a5-a390-47fd-94dd-f605a1cfd533",
   "metadata": {},
   "outputs": [
    {
     "data": {
      "text/plain": [
       "60999"
      ]
     },
     "execution_count": 28,
     "metadata": {},
     "output_type": "execute_result"
    }
   ],
   "source": [
    "df['author_explicit_encoded'].isna().sum()"
   ]
  },
  {
   "cell_type": "code",
   "execution_count": 29,
   "id": "7dcea845-7937-4652-aa2e-2d488e3167aa",
   "metadata": {},
   "outputs": [],
   "source": [
    "# for the null cases (where the authors only have implicit reviews) we are going to assign them the median."
   ]
  },
  {
   "cell_type": "code",
   "execution_count": 30,
   "id": "93e946a4-acaf-4b53-b1b0-877de28c54bd",
   "metadata": {},
   "outputs": [
    {
     "data": {
      "text/plain": [
       "0"
      ]
     },
     "execution_count": 30,
     "metadata": {},
     "output_type": "execute_result"
    }
   ],
   "source": [
    "df['author_explicit_encoded'].fillna(explicit_df['rating'].mean(), inplace=True)\n",
    "\n",
    "# Add the column to df_encoded\n",
    "df_encoded['author_explicit_encoded'] = df['author_explicit_encoded']\n",
    "\n",
    "df['author_explicit_encoded'].isna().sum()\n"
   ]
  },
  {
   "cell_type": "markdown",
   "id": "a71a77a7-3704-4247-a73a-b22927a0e917",
   "metadata": {},
   "source": [
    "#### Visualization and insights"
   ]
  },
  {
   "cell_type": "code",
   "execution_count": 31,
   "id": "2ae52b36-ca85-4ab6-8aba-13388c7108bb",
   "metadata": {},
   "outputs": [
    {
     "data": {
      "image/png": "[encoded data removed]",
      "text/plain": [
       "<Figure size 1000x400 with 1 Axes>"
      ]
     },
     "metadata": {},
     "output_type": "display_data"
    }
   ],
   "source": [
    "plt.figure(figsize=(10, 4))\n",
    "plt.hist(df['author_explicit_encoded'], bins=20, color='skyblue', edgecolor='black')\n",
    "plt.title('Author Explicit Ratings Frequency')\n",
    "plt.xlabel('Ratings')\n",
    "plt.ylabel('Count')\n",
    "\n",
    "# Show the chart\n",
    "plt.tight_layout()\n",
    "plt.show()"
   ]
  },
  {
   "cell_type": "markdown",
   "id": "d6a19d57-fd3c-4696-b4c7-5b7b5c1cc377",
   "metadata": {},
   "source": [
    "The distribution is centered around a rating of 7, where the highest count of explicit ratings occurs. This suggests that most users tend to give authors relatively positive ratings.\n",
    "\n",
    "Ratings in the range of 1–4 are minimal, showing that users either rarely assign such low scores or that books/authors in this dataset generally receive favorable feedback.\n",
    "\n",
    "Bias Towards Positive Ratings: The data indicates a tendency for users to favor higher ratings, which could be due to a positive bias or a preference for rating only books they enjoyed."
   ]
  },
  {
   "cell_type": "markdown",
   "id": "1b528cf4-221a-4c2c-9be9-0855826cb3b4",
   "metadata": {},
   "source": [
    "### Average of All Reviews Authors"
   ]
  },
  {
   "cell_type": "code",
   "execution_count": 32,
   "id": "f639caee-ae8d-406b-9d4c-b4a904b4d174",
   "metadata": {},
   "outputs": [],
   "source": [
    "# Average of all reviews (including implicit feedback)\n",
    "author_mean_rating_all = df.groupby('book_author')['rating'].mean()\n",
    "df['author_avg_all_reviews'] = df['book_author'].map(author_mean_rating_all)\n",
    "\n",
    "# Add the column to df_encoded\n",
    "df_encoded['author_avg_all_reviews'] = df['author_avg_all_reviews']"
   ]
  },
  {
   "cell_type": "code",
   "execution_count": 33,
   "id": "93396c9f-b29a-4e3e-a6c8-979a5a86bfed",
   "metadata": {},
   "outputs": [
    {
     "data": {
      "image/png": "[encoded data removed]",
      "text/plain": [
       "<Figure size 1000x400 with 1 Axes>"
      ]
     },
     "metadata": {},
     "output_type": "display_data"
    }
   ],
   "source": [
    "plt.figure(figsize=(10, 4))\n",
    "plt.hist(df['author_avg_all_reviews'], bins=20, color='skyblue', edgecolor='black')\n",
    "plt.title('Author Avg All Ratings Frequency')\n",
    "plt.xlabel('Ratings')\n",
    "plt.ylabel('Count')\n",
    "\n",
    "# Show the chart\n",
    "plt.tight_layout()\n",
    "plt.show()"
   ]
  },
  {
   "cell_type": "markdown",
   "id": "26aff383-0f7c-4c02-8320-00b053491699",
   "metadata": {},
   "source": [
    "The distribution peaks around an average rating of 2 an 3, indicating that the majority of authors have relatively low average ratings when implicit feedback is included.\n",
    "\n",
    "The distribution has a significant drop-off as the average rating increases beyond 4. Higher average ratings (6–10) are rare, which might indicate that implicit interactions typically dilute overall ratings compared to explicit ratings alone.\n",
    "\n",
    "Including implicit reviews in the average ratings likely provides a more balanced view of user engagement. Explicit ratings alone tend to skew higher (as seen in the previous chart), while implicit reviews seem to moderate these averages."
   ]
  },
  {
   "cell_type": "code",
   "execution_count": 34,
   "id": "284988a8-f1bb-4f73-976b-3dafd0820f6e",
   "metadata": {},
   "outputs": [],
   "source": [
    "# Drop book_author column for encoded dataframe\n",
    "df_encoded = df_encoded.drop(columns=['book_author'], axis=1)"
   ]
  },
  {
   "cell_type": "code",
   "execution_count": 35,
   "id": "7f197a84-034f-4cd6-bd02-638454c39db5",
   "metadata": {},
   "outputs": [
    {
     "data": {
      "text/html": [
       "<div>\n",
       "<style scoped>\n",
       "    .dataframe tbody tr th:only-of-type {\n",
       "        vertical-align: middle;\n",
       "    }\n",
       "\n",
       "    .dataframe tbody tr th {\n",
       "        vertical-align: top;\n",
       "    }\n",
       "\n",
       "    .dataframe thead th {\n",
       "        text-align: right;\n",
       "    }\n",
       "</style>\n",
       "<table border=\"1\" class=\"dataframe\">\n",
       "  <thead>\n",
       "    <tr style=\"text-align: right;\">\n",
       "      <th></th>\n",
       "      <th>user_id</th>\n",
       "      <th>age</th>\n",
       "      <th>isbn</th>\n",
       "      <th>rating</th>\n",
       "      <th>book_title</th>\n",
       "      <th>year_of_publication</th>\n",
       "      <th>publisher</th>\n",
       "      <th>img_s</th>\n",
       "      <th>img_m</th>\n",
       "      <th>img_l</th>\n",
       "      <th>...</th>\n",
       "      <th>Africa</th>\n",
       "      <th>Asia</th>\n",
       "      <th>Europe</th>\n",
       "      <th>North America</th>\n",
       "      <th>Oceania</th>\n",
       "      <th>South America</th>\n",
       "      <th>author_frequency</th>\n",
       "      <th>author_implicit_encoded</th>\n",
       "      <th>author_explicit_encoded</th>\n",
       "      <th>author_avg_all_reviews</th>\n",
       "    </tr>\n",
       "  </thead>\n",
       "  <tbody>\n",
       "    <tr>\n",
       "      <th>0</th>\n",
       "      <td>2</td>\n",
       "      <td>18.0000</td>\n",
       "      <td>0195153448</td>\n",
       "      <td>0</td>\n",
       "      <td>Classical Mythology</td>\n",
       "      <td>2002.0</td>\n",
       "      <td>Oxford University Press</td>\n",
       "      <td>http://images.amazon.com/images/P/0195153448.0...</td>\n",
       "      <td>http://images.amazon.com/images/P/0195153448.0...</td>\n",
       "      <td>http://images.amazon.com/images/P/0195153448.0...</td>\n",
       "      <td>...</td>\n",
       "      <td>0</td>\n",
       "      <td>0</td>\n",
       "      <td>0</td>\n",
       "      <td>1</td>\n",
       "      <td>0</td>\n",
       "      <td>0</td>\n",
       "      <td>2</td>\n",
       "      <td>0.500000</td>\n",
       "      <td>7.000000</td>\n",
       "      <td>3.5</td>\n",
       "    </tr>\n",
       "    <tr>\n",
       "      <th>1</th>\n",
       "      <td>8</td>\n",
       "      <td>34.7439</td>\n",
       "      <td>0002005018</td>\n",
       "      <td>5</td>\n",
       "      <td>Clara Callan</td>\n",
       "      <td>2001.0</td>\n",
       "      <td>HarperFlamingo Canada</td>\n",
       "      <td>http://images.amazon.com/images/P/0002005018.0...</td>\n",
       "      <td>http://images.amazon.com/images/P/0002005018.0...</td>\n",
       "      <td>http://images.amazon.com/images/P/0002005018.0...</td>\n",
       "      <td>...</td>\n",
       "      <td>0</td>\n",
       "      <td>0</td>\n",
       "      <td>0</td>\n",
       "      <td>1</td>\n",
       "      <td>0</td>\n",
       "      <td>0</td>\n",
       "      <td>13</td>\n",
       "      <td>0.461538</td>\n",
       "      <td>7.428571</td>\n",
       "      <td>4.0</td>\n",
       "    </tr>\n",
       "    <tr>\n",
       "      <th>2</th>\n",
       "      <td>11400</td>\n",
       "      <td>49.0000</td>\n",
       "      <td>0002005018</td>\n",
       "      <td>0</td>\n",
       "      <td>Clara Callan</td>\n",
       "      <td>2001.0</td>\n",
       "      <td>HarperFlamingo Canada</td>\n",
       "      <td>http://images.amazon.com/images/P/0002005018.0...</td>\n",
       "      <td>http://images.amazon.com/images/P/0002005018.0...</td>\n",
       "      <td>http://images.amazon.com/images/P/0002005018.0...</td>\n",
       "      <td>...</td>\n",
       "      <td>0</td>\n",
       "      <td>0</td>\n",
       "      <td>0</td>\n",
       "      <td>1</td>\n",
       "      <td>0</td>\n",
       "      <td>0</td>\n",
       "      <td>13</td>\n",
       "      <td>0.461538</td>\n",
       "      <td>7.428571</td>\n",
       "      <td>4.0</td>\n",
       "    </tr>\n",
       "    <tr>\n",
       "      <th>4</th>\n",
       "      <td>41385</td>\n",
       "      <td>34.7439</td>\n",
       "      <td>0002005018</td>\n",
       "      <td>0</td>\n",
       "      <td>Clara Callan</td>\n",
       "      <td>2001.0</td>\n",
       "      <td>HarperFlamingo Canada</td>\n",
       "      <td>http://images.amazon.com/images/P/0002005018.0...</td>\n",
       "      <td>http://images.amazon.com/images/P/0002005018.0...</td>\n",
       "      <td>http://images.amazon.com/images/P/0002005018.0...</td>\n",
       "      <td>...</td>\n",
       "      <td>0</td>\n",
       "      <td>0</td>\n",
       "      <td>0</td>\n",
       "      <td>1</td>\n",
       "      <td>0</td>\n",
       "      <td>0</td>\n",
       "      <td>13</td>\n",
       "      <td>0.461538</td>\n",
       "      <td>7.428571</td>\n",
       "      <td>4.0</td>\n",
       "    </tr>\n",
       "    <tr>\n",
       "      <th>5</th>\n",
       "      <td>67544</td>\n",
       "      <td>30.0000</td>\n",
       "      <td>0002005018</td>\n",
       "      <td>8</td>\n",
       "      <td>Clara Callan</td>\n",
       "      <td>2001.0</td>\n",
       "      <td>HarperFlamingo Canada</td>\n",
       "      <td>http://images.amazon.com/images/P/0002005018.0...</td>\n",
       "      <td>http://images.amazon.com/images/P/0002005018.0...</td>\n",
       "      <td>http://images.amazon.com/images/P/0002005018.0...</td>\n",
       "      <td>...</td>\n",
       "      <td>0</td>\n",
       "      <td>0</td>\n",
       "      <td>0</td>\n",
       "      <td>1</td>\n",
       "      <td>0</td>\n",
       "      <td>0</td>\n",
       "      <td>13</td>\n",
       "      <td>0.461538</td>\n",
       "      <td>7.428571</td>\n",
       "      <td>4.0</td>\n",
       "    </tr>\n",
       "  </tbody>\n",
       "</table>\n",
       "<p>5 rows × 22 columns</p>\n",
       "</div>"
      ],
      "text/plain": [
       "   user_id      age        isbn  rating           book_title  \\\n",
       "0        2  18.0000  0195153448       0  Classical Mythology   \n",
       "1        8  34.7439  0002005018       5         Clara Callan   \n",
       "2    11400  49.0000  0002005018       0         Clara Callan   \n",
       "4    41385  34.7439  0002005018       0         Clara Callan   \n",
       "5    67544  30.0000  0002005018       8         Clara Callan   \n",
       "\n",
       "   year_of_publication                publisher  \\\n",
       "0               2002.0  Oxford University Press   \n",
       "1               2001.0    HarperFlamingo Canada   \n",
       "2               2001.0    HarperFlamingo Canada   \n",
       "4               2001.0    HarperFlamingo Canada   \n",
       "5               2001.0    HarperFlamingo Canada   \n",
       "\n",
       "                                               img_s  \\\n",
       "0  http://images.amazon.com/images/P/0195153448.0...   \n",
       "1  http://images.amazon.com/images/P/0002005018.0...   \n",
       "2  http://images.amazon.com/images/P/0002005018.0...   \n",
       "4  http://images.amazon.com/images/P/0002005018.0...   \n",
       "5  http://images.amazon.com/images/P/0002005018.0...   \n",
       "\n",
       "                                               img_m  \\\n",
       "0  http://images.amazon.com/images/P/0195153448.0...   \n",
       "1  http://images.amazon.com/images/P/0002005018.0...   \n",
       "2  http://images.amazon.com/images/P/0002005018.0...   \n",
       "4  http://images.amazon.com/images/P/0002005018.0...   \n",
       "5  http://images.amazon.com/images/P/0002005018.0...   \n",
       "\n",
       "                                               img_l  ... Africa Asia  Europe  \\\n",
       "0  http://images.amazon.com/images/P/0195153448.0...  ...      0    0       0   \n",
       "1  http://images.amazon.com/images/P/0002005018.0...  ...      0    0       0   \n",
       "2  http://images.amazon.com/images/P/0002005018.0...  ...      0    0       0   \n",
       "4  http://images.amazon.com/images/P/0002005018.0...  ...      0    0       0   \n",
       "5  http://images.amazon.com/images/P/0002005018.0...  ...      0    0       0   \n",
       "\n",
       "   North America  Oceania  South America  author_frequency  \\\n",
       "0              1        0              0                 2   \n",
       "1              1        0              0                13   \n",
       "2              1        0              0                13   \n",
       "4              1        0              0                13   \n",
       "5              1        0              0                13   \n",
       "\n",
       "   author_implicit_encoded  author_explicit_encoded  author_avg_all_reviews  \n",
       "0                 0.500000                 7.000000                     3.5  \n",
       "1                 0.461538                 7.428571                     4.0  \n",
       "2                 0.461538                 7.428571                     4.0  \n",
       "4                 0.461538                 7.428571                     4.0  \n",
       "5                 0.461538                 7.428571                     4.0  \n",
       "\n",
       "[5 rows x 22 columns]"
      ]
     },
     "execution_count": 35,
     "metadata": {},
     "output_type": "execute_result"
    }
   ],
   "source": [
    "df_encoded.head()"
   ]
  },
  {
   "cell_type": "markdown",
   "id": "126c2cd1-2900-4be9-8eab-9a09f23a6a33",
   "metadata": {},
   "source": [
    "#### Summary Author Encoding\n",
    "\n",
    "- Frequency: Number of reviews per author, serving as a measure for scale.\n",
    "- Implicit encoded: Proportion of implicit interactions (rating == 0) for the author. Useful for capturing engagement signals or as a proxy for popularity.\n",
    "- Average All Reviews: Combines average of implicit and explicit ratings. It gives a well-rounded view that might reflect how popular or well-liked an author is.\n",
    "- Explicit encoded: Focuses only on average of explicit ratings (rating > 0). Strongly indicative of quality or satisfaction, especially when predicting user preferences."
   ]
  },
  {
   "cell_type": "markdown",
   "id": "b85a958a-5b96-44db-838c-6f6aa3fa6d30",
   "metadata": {},
   "source": [
    "## Publisher Encoding"
   ]
  },
  {
   "cell_type": "markdown",
   "id": "2a28e46f-9e6f-45c5-b73b-1b75f0556fbb",
   "metadata": {},
   "source": [
    "### Frequency Encoding"
   ]
  },
  {
   "cell_type": "markdown",
   "id": "16fc4ed7-c688-4138-bcfc-fa2cbcd2ca0f",
   "metadata": {},
   "source": [
    "We will use Frequency Encoding to transform the `Publisher` column into numerical values based on their frequency in the dataset, similar to how it was applied to the `Author` column. By assigning values according to the occurrence of each publisher, we can analyze whether the popularity of publishers correlates with higher (or lower) ratings, depending on the data patterns."
   ]
  },
  {
   "cell_type": "code",
   "execution_count": 36,
   "id": "d1022fa0-c6d7-42c5-bd86-f8e1cd49f3ba",
   "metadata": {},
   "outputs": [
    {
     "data": {
      "text/plain": [
       "publisher_frequency\n",
       "32988    32988\n",
       "30543    30543\n",
       "27270    27270\n",
       "24452    24452\n",
       "24214    24214\n",
       "Name: count, dtype: int64"
      ]
     },
     "execution_count": 36,
     "metadata": {},
     "output_type": "execute_result"
    }
   ],
   "source": [
    "# Calculate frequency for each unique author\n",
    "publisher_frequencies = df['publisher'].value_counts()\n",
    "\n",
    "# Map the frequencies back to the original column\n",
    "df['publisher_frequency'] = df['publisher'].map(publisher_frequencies)\n",
    "\n",
    "# Add the column to df_encoded\n",
    "df_encoded['publisher_frequency'] = df['publisher_frequency']\n",
    "\n",
    "# Sanity Check\n",
    "df['publisher_frequency'].value_counts().head()"
   ]
  },
  {
   "cell_type": "markdown",
   "id": "11d6fe4a-ca21-4b3f-a933-92b4f0d4c359",
   "metadata": {},
   "source": [
    "#### Visualization and Insights"
   ]
  },
  {
   "cell_type": "code",
   "execution_count": 37,
   "id": "53c0e7bb-4bae-4585-b09c-f717a8a96388",
   "metadata": {},
   "outputs": [
    {
     "data": {
      "image/png": "[encoded data removed]",
      "text/plain": [
       "<Figure size 1000x400 with 1 Axes>"
      ]
     },
     "metadata": {},
     "output_type": "display_data"
    }
   ],
   "source": [
    "plt.figure(figsize=(10, 4))\n",
    "plt.hist(df['publisher_frequency'].value_counts(), bins=100, color='skyblue', edgecolor='black')\n",
    "plt.title('Publisher Review Frequencies')\n",
    "plt.xlabel('Frequency')\n",
    "plt.ylabel('Count')\n",
    "\n",
    "# Show the chart\n",
    "plt.tight_layout()\n",
    "plt.show()"
   ]
  },
  {
   "cell_type": "markdown",
   "id": "7f04439f-c8f8-465d-b321-e9c0d270616a",
   "metadata": {},
   "source": [
    "We can see a prevalence of a small number of reviews per publisher in the database with a significant tail extends toward publishers with higher review frequencies (15,000–30,000+ reviews). These represent a few highly popular publishers that dominate user engagement and feedback.\n",
    "\n",
    "This distribution could provide valuable insights for the models, as they may identify a relationship between the frequency of reviews and the tendency of those reviews (e.g., positive or negative). By incorporating this information, the models could better understand how the volume of reviews for a publisher influences user ratings and feedback patterns."
   ]
  },
  {
   "cell_type": "markdown",
   "id": "1c340091-6cbc-493a-99d6-0ae5fc9a7a8a",
   "metadata": {},
   "source": [
    "### Target encoding\n",
    "\n",
    "Considering that publishers often have distinct reputations (e.g., some focus on quality literature, while others might publish mass-market content). It may be useful to see the individual ratings for each publishers as we did with authors. This new columns could reveal patterns or trends that highlight whether certain publishers consistently receive higher or lower ratings, helping the model better understand the impact of publisher reputation on reviews."
   ]
  },
  {
   "cell_type": "markdown",
   "id": "978f86d5-1373-43b6-bdf2-b63aab464e60",
   "metadata": {},
   "source": [
    "### Calculate Implicit Reviews Encoding"
   ]
  },
  {
   "cell_type": "markdown",
   "id": "33fc828b-c053-496f-a5d8-f2f0f736cad1",
   "metadata": {},
   "source": [
    "We will use Target Encoding to capture the average rating for each publisher. This technique calculates the mean of the target variable (rating) grouped by a categorical feature (publisher) and maps it back to the dataset. "
   ]
  },
  {
   "cell_type": "code",
   "execution_count": 38,
   "id": "e151a61b-8a72-4621-b1ab-9f039d8c9ba3",
   "metadata": {},
   "outputs": [],
   "source": [
    "# Filter implicit feedback (rating == 0)\n",
    "implicit_df = df[df['rating'] == 0]\n",
    "\n",
    "# Calculate the total reviews and implicit interactions for each author\n",
    "publisher_total_reviews = df.groupby('publisher')['rating'].count()  # Total reviews (all ratings)\n",
    "publisher_implicit_reviews = implicit_df['publisher'].value_counts()  # Total implicit reviews (rating == 0)\n",
    "\n",
    "# Calculate the proportion of implicit interactions for each author\n",
    "publisher_implicit_proportion = publisher_implicit_reviews / publisher_total_reviews\n",
    "\n",
    "# Map the proportions back to the main DataFrame\n",
    "df['publisher_implicit_encoded'] = df['publisher'].map(publisher_implicit_proportion)\n",
    "\n",
    "# Fill missing values with 0 (for authors with no implicit interactions)\n",
    "df['publisher_implicit_encoded'].fillna(0, inplace=True)\n",
    "\n",
    "# Add the column to df_encoded\n",
    "\n",
    "df_encoded['publisher_implicit_encoded'] = df['publisher_implicit_encoded']"
   ]
  },
  {
   "cell_type": "markdown",
   "id": "4ef7171d-b498-4aed-844e-d83ac98277b3",
   "metadata": {},
   "source": [
    "#### Visualization and Insights"
   ]
  },
  {
   "cell_type": "code",
   "execution_count": 39,
   "id": "51fe2073-367e-43b6-8a9f-560e6fd00c2b",
   "metadata": {},
   "outputs": [
    {
     "data": {
      "image/png": "[encoded data removed]",
      "text/plain": [
       "<Figure size 1000x400 with 1 Axes>"
      ]
     },
     "metadata": {},
     "output_type": "display_data"
    }
   ],
   "source": [
    "plt.figure(figsize=(10, 4))\n",
    "plt.hist(df['publisher_implicit_encoded'], bins=50, color='skyblue', edgecolor='black')\n",
    "plt.title('Publisher Implicit Ratio')\n",
    "plt.xlabel('Proportion')\n",
    "plt.ylabel('Count')\n",
    "\n",
    "# Show the chart\n",
    "plt.tight_layout()\n",
    "plt.show()"
   ]
  },
  {
   "cell_type": "markdown",
   "id": "5d54dd39-0b08-443d-9da8-2f60b9e83f44",
   "metadata": {},
   "source": [
    "The majority of publishers have an implicit ratio between 0.6 and 0.8. This indicates that implicit reviews dominate, constituting 60% to 80% of the total reviews for most publishers. The distribution skews slightly to the right, emphasizing that publishers often rely more heavily on implicit ratings than explicit ones."
   ]
  },
  {
   "cell_type": "markdown",
   "id": "52e09e08-e86c-4772-b598-ac07febf6a58",
   "metadata": {},
   "source": [
    "### Calculate Explicit Reviews Encoding"
   ]
  },
  {
   "cell_type": "markdown",
   "id": "1a90b2c8-2cd6-46f2-a8e6-2b055899881b",
   "metadata": {},
   "source": [
    "To capture the mean reviews per publisher, we will focus only on explicit reviews (rating > 0). By grouping the data based on explicit reviews, we can calculate the average rating for each publisher and append this information to the dataframe."
   ]
  },
  {
   "cell_type": "code",
   "execution_count": 40,
   "id": "0254a938-8d6d-403c-8a11-d3eba1dd2ba2",
   "metadata": {},
   "outputs": [
    {
     "data": {
      "text/plain": [
       "publisher_explicit_encoded\n",
       "7.605043    32988\n",
       "7.572321    30543\n",
       "7.449518    27270\n",
       "7.183622    24452\n",
       "7.546411    24214\n",
       "            ...  \n",
       "5.222222        9\n",
       "2.500000        7\n",
       "5.571429        7\n",
       "5.166667        6\n",
       "3.666667        4\n",
       "Name: count, Length: 1152, dtype: int64"
      ]
     },
     "execution_count": 40,
     "metadata": {},
     "output_type": "execute_result"
    }
   ],
   "source": [
    "# Filter explicit reviews (rating > 0)\n",
    "explicit_df = df[df['rating'] > 0]\n",
    "\n",
    "# Calculate mean explicit rating for each author\n",
    "publisher_explicit_mean_rating = explicit_df.groupby('publisher')['rating'].mean()\n",
    "\n",
    "# Map mean explicit ratings back to the main DataFrame\n",
    "df['publisher_explicit_encoded'] = df['publisher'].map(publisher_explicit_mean_rating)\n",
    "\n",
    "df['publisher_explicit_encoded'].value_counts()"
   ]
  },
  {
   "cell_type": "code",
   "execution_count": 41,
   "id": "054ff9ac-e17d-4bd6-a52c-8c7e4ae36904",
   "metadata": {},
   "outputs": [
    {
     "data": {
      "text/plain": [
       "7799"
      ]
     },
     "execution_count": 41,
     "metadata": {},
     "output_type": "execute_result"
    }
   ],
   "source": [
    "df['publisher_explicit_encoded'].isna().sum()"
   ]
  },
  {
   "cell_type": "code",
   "execution_count": 42,
   "id": "757e2a4f-7277-450b-be7f-9e35bfb152e9",
   "metadata": {},
   "outputs": [
    {
     "data": {
      "text/plain": [
       "0"
      ]
     },
     "execution_count": 42,
     "metadata": {},
     "output_type": "execute_result"
    }
   ],
   "source": [
    "# for the null cases we are going to assign them the median as assigning them to 0 would misrepresent the data, implying that they are explicitly low ratings.\n",
    "df['publisher_explicit_encoded'].fillna(explicit_df['rating'].mean(), inplace=True)\n",
    "\n",
    "# Add the column to df_encoded\n",
    "df_encoded['publisher_explicit_encoded'] = df['publisher_explicit_encoded']\n",
    "\n",
    "df['publisher_explicit_encoded'].isna().sum()"
   ]
  },
  {
   "cell_type": "markdown",
   "id": "154f9b1a-829d-44af-9d89-77155e3e770d",
   "metadata": {},
   "source": [
    "#### Visualization and Insight"
   ]
  },
  {
   "cell_type": "code",
   "execution_count": 43,
   "id": "c702b726-5682-4c2e-9cd3-5378e4c09d09",
   "metadata": {},
   "outputs": [
    {
     "data": {
      "image/png": "[encoded data removed]",
      "text/plain": [
       "<Figure size 1200x600 with 1 Axes>"
      ]
     },
     "metadata": {},
     "output_type": "display_data"
    }
   ],
   "source": [
    "plt.figure(figsize=(12, 6))\n",
    "plt.hist(df['publisher_explicit_encoded'], bins=35, color='skyblue', edgecolor='black')\n",
    "plt.title('Publisher Explicit Ratings Frequency')\n",
    "plt.xlabel('Ratings')\n",
    "plt.ylabel('Count')\n",
    "\n",
    "# Show the chart\n",
    "plt.tight_layout()\n",
    "plt.show()"
   ]
  },
  {
   "cell_type": "markdown",
   "id": "0f50518e-f96b-41d7-b925-b05a116d143a",
   "metadata": {},
   "source": [
    "The majority of explicit ratings are clustered around the higher end of the scale, particularly between 7 and 8. This suggests that most explicit feedback is positive or very favorable."
   ]
  },
  {
   "cell_type": "markdown",
   "id": "89b94d8b-97b9-44ff-a2b2-818b9d490286",
   "metadata": {},
   "source": [
    "### Average of All Reviews Publisher"
   ]
  },
  {
   "cell_type": "code",
   "execution_count": 44,
   "id": "994261f4-8e3a-4ee1-a842-91554bbea2f9",
   "metadata": {},
   "outputs": [],
   "source": [
    "# Average of all reviews (including implicit feedback)\n",
    "publisher_mean_rating_all = df.groupby('publisher')['rating'].mean()\n",
    "df['publisher_avg_all_reviews'] = df['publisher'].map(publisher_mean_rating_all)\n",
    "\n",
    "# Add the column to df_encoded\n",
    "df_encoded['publisher_avg_all_reviews'] = df['publisher_avg_all_reviews']"
   ]
  },
  {
   "cell_type": "code",
   "execution_count": 45,
   "id": "531410b7-31e8-483b-9c12-b29c4762f729",
   "metadata": {},
   "outputs": [
    {
     "data": {
      "image/png": "[encoded data removed]",
      "text/plain": [
       "<Figure size 1000x400 with 1 Axes>"
      ]
     },
     "metadata": {},
     "output_type": "display_data"
    }
   ],
   "source": [
    "plt.figure(figsize=(10, 4))\n",
    "plt.hist(df['publisher_avg_all_reviews'], bins=35, color='skyblue', edgecolor='black')\n",
    "plt.title('Publisher Avg All Ratings Frequency')\n",
    "plt.xlabel('Ratings')\n",
    "plt.ylabel('Count')\n",
    "\n",
    "# Show the chart\n",
    "plt.tight_layout()\n",
    "plt.show()"
   ]
  },
  {
   "cell_type": "markdown",
   "id": "d812a235-db41-4736-86b2-ac5bfaad91c9",
   "metadata": {},
   "source": [
    "The distribution appears closer to a normal curve, with the majority of average ratings falling between 2 and 4. Furthermore, the clustering of ratings between 2 and 4 is heavily influenced by the inclusion of implicit reviews. Since most reviews are implicit, they dominate the overall average, diluting the impact of explicit ratings."
   ]
  },
  {
   "cell_type": "code",
   "execution_count": 46,
   "id": "836ecb53-6957-4240-b0dd-f1f516e45e73",
   "metadata": {},
   "outputs": [],
   "source": [
    "# drop publisher column for encoded dataframe\n",
    "df_encoded = df_encoded.drop(columns=['publisher'], axis=1)"
   ]
  },
  {
   "cell_type": "code",
   "execution_count": 47,
   "id": "ebcb01de-de86-4f06-bbb7-fb56c3241a77",
   "metadata": {},
   "outputs": [
    {
     "data": {
      "text/html": [
       "<div>\n",
       "<style scoped>\n",
       "    .dataframe tbody tr th:only-of-type {\n",
       "        vertical-align: middle;\n",
       "    }\n",
       "\n",
       "    .dataframe tbody tr th {\n",
       "        vertical-align: top;\n",
       "    }\n",
       "\n",
       "    .dataframe thead th {\n",
       "        text-align: right;\n",
       "    }\n",
       "</style>\n",
       "<table border=\"1\" class=\"dataframe\">\n",
       "  <thead>\n",
       "    <tr style=\"text-align: right;\">\n",
       "      <th></th>\n",
       "      <th>user_id</th>\n",
       "      <th>age</th>\n",
       "      <th>isbn</th>\n",
       "      <th>rating</th>\n",
       "      <th>book_title</th>\n",
       "      <th>year_of_publication</th>\n",
       "      <th>img_s</th>\n",
       "      <th>img_m</th>\n",
       "      <th>img_l</th>\n",
       "      <th>language</th>\n",
       "      <th>...</th>\n",
       "      <th>Oceania</th>\n",
       "      <th>South America</th>\n",
       "      <th>author_frequency</th>\n",
       "      <th>author_implicit_encoded</th>\n",
       "      <th>author_explicit_encoded</th>\n",
       "      <th>author_avg_all_reviews</th>\n",
       "      <th>publisher_frequency</th>\n",
       "      <th>publisher_implicit_encoded</th>\n",
       "      <th>publisher_explicit_encoded</th>\n",
       "      <th>publisher_avg_all_reviews</th>\n",
       "    </tr>\n",
       "  </thead>\n",
       "  <tbody>\n",
       "    <tr>\n",
       "      <th>0</th>\n",
       "      <td>2</td>\n",
       "      <td>18.0000</td>\n",
       "      <td>0195153448</td>\n",
       "      <td>0</td>\n",
       "      <td>Classical Mythology</td>\n",
       "      <td>2002.0</td>\n",
       "      <td>http://images.amazon.com/images/P/0195153448.0...</td>\n",
       "      <td>http://images.amazon.com/images/P/0195153448.0...</td>\n",
       "      <td>http://images.amazon.com/images/P/0195153448.0...</td>\n",
       "      <td>en</td>\n",
       "      <td>...</td>\n",
       "      <td>0</td>\n",
       "      <td>0</td>\n",
       "      <td>2</td>\n",
       "      <td>0.500000</td>\n",
       "      <td>7.000000</td>\n",
       "      <td>3.5</td>\n",
       "      <td>2542</td>\n",
       "      <td>0.564123</td>\n",
       "      <td>7.750000</td>\n",
       "      <td>3.378049</td>\n",
       "    </tr>\n",
       "    <tr>\n",
       "      <th>1</th>\n",
       "      <td>8</td>\n",
       "      <td>34.7439</td>\n",
       "      <td>0002005018</td>\n",
       "      <td>5</td>\n",
       "      <td>Clara Callan</td>\n",
       "      <td>2001.0</td>\n",
       "      <td>http://images.amazon.com/images/P/0002005018.0...</td>\n",
       "      <td>http://images.amazon.com/images/P/0002005018.0...</td>\n",
       "      <td>http://images.amazon.com/images/P/0002005018.0...</td>\n",
       "      <td>en</td>\n",
       "      <td>...</td>\n",
       "      <td>0</td>\n",
       "      <td>0</td>\n",
       "      <td>13</td>\n",
       "      <td>0.461538</td>\n",
       "      <td>7.428571</td>\n",
       "      <td>4.0</td>\n",
       "      <td>45</td>\n",
       "      <td>0.533333</td>\n",
       "      <td>7.333333</td>\n",
       "      <td>3.422222</td>\n",
       "    </tr>\n",
       "    <tr>\n",
       "      <th>2</th>\n",
       "      <td>11400</td>\n",
       "      <td>49.0000</td>\n",
       "      <td>0002005018</td>\n",
       "      <td>0</td>\n",
       "      <td>Clara Callan</td>\n",
       "      <td>2001.0</td>\n",
       "      <td>http://images.amazon.com/images/P/0002005018.0...</td>\n",
       "      <td>http://images.amazon.com/images/P/0002005018.0...</td>\n",
       "      <td>http://images.amazon.com/images/P/0002005018.0...</td>\n",
       "      <td>en</td>\n",
       "      <td>...</td>\n",
       "      <td>0</td>\n",
       "      <td>0</td>\n",
       "      <td>13</td>\n",
       "      <td>0.461538</td>\n",
       "      <td>7.428571</td>\n",
       "      <td>4.0</td>\n",
       "      <td>45</td>\n",
       "      <td>0.533333</td>\n",
       "      <td>7.333333</td>\n",
       "      <td>3.422222</td>\n",
       "    </tr>\n",
       "    <tr>\n",
       "      <th>4</th>\n",
       "      <td>41385</td>\n",
       "      <td>34.7439</td>\n",
       "      <td>0002005018</td>\n",
       "      <td>0</td>\n",
       "      <td>Clara Callan</td>\n",
       "      <td>2001.0</td>\n",
       "      <td>http://images.amazon.com/images/P/0002005018.0...</td>\n",
       "      <td>http://images.amazon.com/images/P/0002005018.0...</td>\n",
       "      <td>http://images.amazon.com/images/P/0002005018.0...</td>\n",
       "      <td>en</td>\n",
       "      <td>...</td>\n",
       "      <td>0</td>\n",
       "      <td>0</td>\n",
       "      <td>13</td>\n",
       "      <td>0.461538</td>\n",
       "      <td>7.428571</td>\n",
       "      <td>4.0</td>\n",
       "      <td>45</td>\n",
       "      <td>0.533333</td>\n",
       "      <td>7.333333</td>\n",
       "      <td>3.422222</td>\n",
       "    </tr>\n",
       "    <tr>\n",
       "      <th>5</th>\n",
       "      <td>67544</td>\n",
       "      <td>30.0000</td>\n",
       "      <td>0002005018</td>\n",
       "      <td>8</td>\n",
       "      <td>Clara Callan</td>\n",
       "      <td>2001.0</td>\n",
       "      <td>http://images.amazon.com/images/P/0002005018.0...</td>\n",
       "      <td>http://images.amazon.com/images/P/0002005018.0...</td>\n",
       "      <td>http://images.amazon.com/images/P/0002005018.0...</td>\n",
       "      <td>en</td>\n",
       "      <td>...</td>\n",
       "      <td>0</td>\n",
       "      <td>0</td>\n",
       "      <td>13</td>\n",
       "      <td>0.461538</td>\n",
       "      <td>7.428571</td>\n",
       "      <td>4.0</td>\n",
       "      <td>45</td>\n",
       "      <td>0.533333</td>\n",
       "      <td>7.333333</td>\n",
       "      <td>3.422222</td>\n",
       "    </tr>\n",
       "  </tbody>\n",
       "</table>\n",
       "<p>5 rows × 25 columns</p>\n",
       "</div>"
      ],
      "text/plain": [
       "   user_id      age        isbn  rating           book_title  \\\n",
       "0        2  18.0000  0195153448       0  Classical Mythology   \n",
       "1        8  34.7439  0002005018       5         Clara Callan   \n",
       "2    11400  49.0000  0002005018       0         Clara Callan   \n",
       "4    41385  34.7439  0002005018       0         Clara Callan   \n",
       "5    67544  30.0000  0002005018       8         Clara Callan   \n",
       "\n",
       "   year_of_publication                                              img_s  \\\n",
       "0               2002.0  http://images.amazon.com/images/P/0195153448.0...   \n",
       "1               2001.0  http://images.amazon.com/images/P/0002005018.0...   \n",
       "2               2001.0  http://images.amazon.com/images/P/0002005018.0...   \n",
       "4               2001.0  http://images.amazon.com/images/P/0002005018.0...   \n",
       "5               2001.0  http://images.amazon.com/images/P/0002005018.0...   \n",
       "\n",
       "                                               img_m  \\\n",
       "0  http://images.amazon.com/images/P/0195153448.0...   \n",
       "1  http://images.amazon.com/images/P/0002005018.0...   \n",
       "2  http://images.amazon.com/images/P/0002005018.0...   \n",
       "4  http://images.amazon.com/images/P/0002005018.0...   \n",
       "5  http://images.amazon.com/images/P/0002005018.0...   \n",
       "\n",
       "                                               img_l language  ... Oceania  \\\n",
       "0  http://images.amazon.com/images/P/0195153448.0...       en  ...       0   \n",
       "1  http://images.amazon.com/images/P/0002005018.0...       en  ...       0   \n",
       "2  http://images.amazon.com/images/P/0002005018.0...       en  ...       0   \n",
       "4  http://images.amazon.com/images/P/0002005018.0...       en  ...       0   \n",
       "5  http://images.amazon.com/images/P/0002005018.0...       en  ...       0   \n",
       "\n",
       "   South America  author_frequency  author_implicit_encoded  \\\n",
       "0              0                 2                 0.500000   \n",
       "1              0                13                 0.461538   \n",
       "2              0                13                 0.461538   \n",
       "4              0                13                 0.461538   \n",
       "5              0                13                 0.461538   \n",
       "\n",
       "   author_explicit_encoded  author_avg_all_reviews  publisher_frequency  \\\n",
       "0                 7.000000                     3.5                 2542   \n",
       "1                 7.428571                     4.0                   45   \n",
       "2                 7.428571                     4.0                   45   \n",
       "4                 7.428571                     4.0                   45   \n",
       "5                 7.428571                     4.0                   45   \n",
       "\n",
       "   publisher_implicit_encoded  publisher_explicit_encoded  \\\n",
       "0                    0.564123                    7.750000   \n",
       "1                    0.533333                    7.333333   \n",
       "2                    0.533333                    7.333333   \n",
       "4                    0.533333                    7.333333   \n",
       "5                    0.533333                    7.333333   \n",
       "\n",
       "   publisher_avg_all_reviews  \n",
       "0                   3.378049  \n",
       "1                   3.422222  \n",
       "2                   3.422222  \n",
       "4                   3.422222  \n",
       "5                   3.422222  \n",
       "\n",
       "[5 rows x 25 columns]"
      ]
     },
     "execution_count": 47,
     "metadata": {},
     "output_type": "execute_result"
    }
   ],
   "source": [
    "df_encoded.head()"
   ]
  },
  {
   "cell_type": "markdown",
   "id": "7300fbdb-480c-4bbc-ad2e-57b5f6bd71b8",
   "metadata": {},
   "source": [
    "### Publisher Encoding Summary \n",
    "- Frequency encoded: Number of books or interactions per publisher. Reflects publisher scale.\n",
    "- Implicit encoded: Proportion of implicit interactions (rating == 0) per publisher. Useful for capturing engagement signals or as a proxy for popularity.\n",
    "- Explicit encoded: Average of explicit ratings (rating > 0) per publisher. Strongly indicative of quality or satisfaction.\n",
    "- Average All Reviews: Combines the average of implicit and explicit ratings. Provides a well-rounded view of how publishers are perceived overall."
   ]
  },
  {
   "cell_type": "markdown",
   "id": "e65ec9a0-76b5-4684-90ca-da16b84ac33c",
   "metadata": {},
   "source": [
    "## Language encoding\n"
   ]
  },
  {
   "cell_type": "markdown",
   "id": "6ce196ea-4e02-408d-9a28-531a0223e850",
   "metadata": {},
   "source": [
    "To encode the language column, I plan to group less common languages together with the \"NA\" values under a single category labeled as \"unknown.\" The more frequently occurring languages will be retained as individual categories, allowing for one-hot encoding to be applied later."
   ]
  },
  {
   "cell_type": "code",
   "execution_count": 48,
   "id": "9f0de9d5-64c4-42fe-aa26-f34e281e9897",
   "metadata": {},
   "outputs": [
    {
     "data": {
      "text/plain": [
       "language\n",
       "en       588439\n",
       "na       377911\n",
       "de         5321\n",
       "es         3171\n",
       "fr         2815\n",
       "it          647\n",
       "nl          212\n",
       "da          108\n",
       "pt           79\n",
       "ca           41\n",
       "ru           23\n",
       "ms           11\n",
       "gl           11\n",
       "no           10\n",
       "la            9\n",
       "zh-CN         8\n",
       "th            6\n",
       "ja            6\n",
       "el            5\n",
       "ga            4\n",
       "vi            3\n",
       "ar            3\n",
       "ro            2\n",
       "fa            2\n",
       "eo            2\n",
       "gd            2\n",
       "zh-TW         2\n",
       "pl            1\n",
       "tl            1\n",
       "cy            1\n",
       "hi            1\n",
       "ko            1\n",
       "sv            1\n",
       "Name: count, dtype: int64"
      ]
     },
     "execution_count": 48,
     "metadata": {},
     "output_type": "execute_result"
    }
   ],
   "source": [
    "df['language'].value_counts()"
   ]
  },
  {
   "cell_type": "code",
   "execution_count": 49,
   "id": "4dabd345-d5a8-4ebc-9a98-cc313b779493",
   "metadata": {},
   "outputs": [],
   "source": [
    "language_counts = df['language'].value_counts()"
   ]
  },
  {
   "cell_type": "code",
   "execution_count": 50,
   "id": "3ec5c0ab-25e9-4a3a-afd0-b43ff33a6cbd",
   "metadata": {},
   "outputs": [],
   "source": [
    "df['language_grouped'] = df['language'].apply(\n",
    "    lambda x: x if language_counts[x] > 500 else 'unknown_lg'\n",
    ")"
   ]
  },
  {
   "cell_type": "code",
   "execution_count": 51,
   "id": "eb7e4eee-f6e5-463f-ab8c-18e08f2b346e",
   "metadata": {},
   "outputs": [],
   "source": [
    "df['language_grouped'] = df['language_grouped'].replace(['na'], 'unknown_lg')"
   ]
  },
  {
   "cell_type": "code",
   "execution_count": 52,
   "id": "e6e1a467-26cb-451e-9b24-0f6d6314ea83",
   "metadata": {},
   "outputs": [
    {
     "data": {
      "text/plain": [
       "language_grouped\n",
       "en            588439\n",
       "unknown_lg    378466\n",
       "de              5321\n",
       "es              3171\n",
       "fr              2815\n",
       "it               647\n",
       "Name: count, dtype: int64"
      ]
     },
     "execution_count": 52,
     "metadata": {},
     "output_type": "execute_result"
    }
   ],
   "source": [
    "df['language_grouped'].value_counts()"
   ]
  },
  {
   "cell_type": "code",
   "execution_count": 53,
   "id": "4d0aa31e-7488-41bf-a0ca-b648bf868705",
   "metadata": {},
   "outputs": [],
   "source": [
    "# Apply one-hot encoding\n",
    "continent_dummies = pd.get_dummies(df['language_grouped'], dtype='int')\n",
    "\n",
    "# Concatenate the dummy variables with the original DataFrame\n",
    "df_encoded = pd.concat([df_encoded, continent_dummies], axis=1)\n",
    "\n",
    "df_encoded = df_encoded.drop(columns=['language'], axis=1)"
   ]
  },
  {
   "cell_type": "code",
   "execution_count": 54,
   "id": "fde28b76-1b38-4d96-bef4-ab8756dd8c6f",
   "metadata": {},
   "outputs": [],
   "source": [
    "df['language'] = df['language_grouped']\n",
    "df.drop(columns=['language_grouped'], axis=1, inplace=True)"
   ]
  },
  {
   "cell_type": "code",
   "execution_count": 55,
   "id": "4f430345-f913-4fee-9bb3-a6213bebd8a3",
   "metadata": {},
   "outputs": [
    {
     "name": "stdout",
     "output_type": "stream",
     "text": [
      "<class 'pandas.core.frame.DataFrame'>\n",
      "Index: 978859 entries, 0 to 1031174\n",
      "Data columns (total 30 columns):\n",
      " #   Column                      Non-Null Count   Dtype  \n",
      "---  ------                      --------------   -----  \n",
      " 0   user_id                     978859 non-null  int64  \n",
      " 1   age                         978859 non-null  float64\n",
      " 2   isbn                        978859 non-null  object \n",
      " 3   rating                      978859 non-null  int64  \n",
      " 4   book_title                  978859 non-null  object \n",
      " 5   year_of_publication         978859 non-null  float64\n",
      " 6   img_s                       978859 non-null  object \n",
      " 7   img_m                       978859 non-null  object \n",
      " 8   img_l                       978859 non-null  object \n",
      " 9   category                    978859 non-null  object \n",
      " 10  Africa                      978859 non-null  int32  \n",
      " 11  Asia                        978859 non-null  int32  \n",
      " 12  Europe                      978859 non-null  int32  \n",
      " 13  North America               978859 non-null  int32  \n",
      " 14  Oceania                     978859 non-null  int32  \n",
      " 15  South America               978859 non-null  int32  \n",
      " 16  author_frequency            978859 non-null  int64  \n",
      " 17  author_implicit_encoded     978859 non-null  float64\n",
      " 18  author_explicit_encoded     978859 non-null  float64\n",
      " 19  author_avg_all_reviews      978859 non-null  float64\n",
      " 20  publisher_frequency         978859 non-null  int64  \n",
      " 21  publisher_implicit_encoded  978859 non-null  float64\n",
      " 22  publisher_explicit_encoded  978859 non-null  float64\n",
      " 23  publisher_avg_all_reviews   978859 non-null  float64\n",
      " 24  de                          978859 non-null  int32  \n",
      " 25  en                          978859 non-null  int32  \n",
      " 26  es                          978859 non-null  int32  \n",
      " 27  fr                          978859 non-null  int32  \n",
      " 28  it                          978859 non-null  int32  \n",
      " 29  unknown_lg                  978859 non-null  int32  \n",
      "dtypes: float64(8), int32(12), int64(4), object(6)\n",
      "memory usage: 186.7+ MB\n"
     ]
    }
   ],
   "source": [
    "df_encoded.info()"
   ]
  },
  {
   "cell_type": "code",
   "execution_count": 56,
   "id": "12a87a94-809a-4a66-9969-34195ef276a0",
   "metadata": {},
   "outputs": [
    {
     "name": "stdout",
     "output_type": "stream",
     "text": [
      "<class 'pandas.core.frame.DataFrame'>\n",
      "Index: 978859 entries, 0 to 1031174\n",
      "Data columns (total 22 columns):\n",
      " #   Column                      Non-Null Count   Dtype  \n",
      "---  ------                      --------------   -----  \n",
      " 0   user_id                     978859 non-null  int64  \n",
      " 1   age                         978859 non-null  float64\n",
      " 2   isbn                        978859 non-null  object \n",
      " 3   rating                      978859 non-null  int64  \n",
      " 4   book_title                  978859 non-null  object \n",
      " 5   book_author                 978859 non-null  object \n",
      " 6   year_of_publication         978859 non-null  float64\n",
      " 7   publisher                   978859 non-null  object \n",
      " 8   img_s                       978859 non-null  object \n",
      " 9   img_m                       978859 non-null  object \n",
      " 10  img_l                       978859 non-null  object \n",
      " 11  language                    978859 non-null  object \n",
      " 12  category                    978859 non-null  object \n",
      " 13  continent                   978859 non-null  object \n",
      " 14  author_frequency            978859 non-null  int64  \n",
      " 15  author_implicit_encoded     978859 non-null  float64\n",
      " 16  author_explicit_encoded     978859 non-null  float64\n",
      " 17  author_avg_all_reviews      978859 non-null  float64\n",
      " 18  publisher_frequency         978859 non-null  int64  \n",
      " 19  publisher_implicit_encoded  978859 non-null  float64\n",
      " 20  publisher_explicit_encoded  978859 non-null  float64\n",
      " 21  publisher_avg_all_reviews   978859 non-null  float64\n",
      "dtypes: float64(8), int64(4), object(10)\n",
      "memory usage: 171.8+ MB\n"
     ]
    }
   ],
   "source": [
    "df.info()"
   ]
  },
  {
   "cell_type": "markdown",
   "id": "9c5b9883-06fe-44ad-a488-964794cde436",
   "metadata": {},
   "source": [
    "## Category encoding"
   ]
  },
  {
   "cell_type": "markdown",
   "id": "055c1889-ceb7-4105-aa22-aad121463c99",
   "metadata": {},
   "source": [
    "The category column has already been grouped into the most common book categories based on related keywords, and one-hot encoding will be applied to this column."
   ]
  },
  {
   "cell_type": "code",
   "execution_count": 57,
   "id": "ada04454-e7dd-497e-85bf-ee84f84c5b8e",
   "metadata": {},
   "outputs": [
    {
     "data": {
      "text/plain": [
       "category\n",
       "unknown_category           461468\n",
       "fiction                    423425\n",
       "non-fiction                 42688\n",
       "science & technology        11992\n",
       "art & culture                9334\n",
       "religion & spirituality      9278\n",
       "self-help                    7249\n",
       "business & economics         5233\n",
       "cookbooks                    3031\n",
       "children's books             2663\n",
       "poetry                       2451\n",
       "health & fitness               47\n",
       "Name: count, dtype: int64"
      ]
     },
     "execution_count": 57,
     "metadata": {},
     "output_type": "execute_result"
    }
   ],
   "source": [
    "df['category'].value_counts()"
   ]
  },
  {
   "cell_type": "code",
   "execution_count": 58,
   "id": "1cae67f9-eeb4-4fd4-b424-5cd6827013ca",
   "metadata": {},
   "outputs": [
    {
     "data": {
      "image/png": "[encoded data removed]",
      "text/plain": [
       "<Figure size 1200x400 with 1 Axes>"
      ]
     },
     "metadata": {},
     "output_type": "display_data"
    }
   ],
   "source": [
    "# Get the frequencies of the categories\n",
    "category_counts = df['category'].value_counts()\n",
    "\n",
    "# Create a horizontal bar chart\n",
    "plt.figure(figsize=(12, 4))\n",
    "plt.barh(category_counts.index, category_counts.values, color='skyblue', edgecolor='black')\n",
    "plt.title('Categories with More Reviews')\n",
    "plt.xlabel('Count')\n",
    "plt.ylabel('Category')\n",
    "\n",
    "# Add values to the bars\n",
    "for i, value in enumerate(category_counts.values):\n",
    "    plt.text(value + 5, i, str(value), va='center')\n",
    "\n",
    "# Show the chart\n",
    "plt.tight_layout()\n",
    "plt.show()"
   ]
  },
  {
   "cell_type": "markdown",
   "id": "10576044-b555-4e96-b96c-d90448131984",
   "metadata": {},
   "source": [
    "The category column reveals a significant prevalence of unknown values. Following this, the fiction category has the highest number of reviews, and there is a substantial drop to the juvenile fiction category. This distribution underscores the challenge of analyzing category trends due to the high number of unknown entries."
   ]
  },
  {
   "cell_type": "code",
   "execution_count": 59,
   "id": "6cb234b4-f17e-4478-aea2-c9c6f6b63a6a",
   "metadata": {},
   "outputs": [],
   "source": [
    "# Apply one-hot encoding\n",
    "category_dummies = pd.get_dummies(df['category'], dtype='int')\n",
    "\n",
    "# Concatenate the dummy variables with the original DataFrame\n",
    "df_encoded = pd.concat([df_encoded, category_dummies], axis=1)\n",
    "\n",
    "df_encoded = df_encoded.drop(columns=['category'], axis=1)"
   ]
  },
  {
   "cell_type": "code",
   "execution_count": 60,
   "id": "1f9eef50-ebcb-4433-8d41-45eac8174928",
   "metadata": {},
   "outputs": [
    {
     "name": "stdout",
     "output_type": "stream",
     "text": [
      "<class 'pandas.core.frame.DataFrame'>\n",
      "Index: 978859 entries, 0 to 1031174\n",
      "Data columns (total 41 columns):\n",
      " #   Column                      Non-Null Count   Dtype  \n",
      "---  ------                      --------------   -----  \n",
      " 0   user_id                     978859 non-null  int64  \n",
      " 1   age                         978859 non-null  float64\n",
      " 2   isbn                        978859 non-null  object \n",
      " 3   rating                      978859 non-null  int64  \n",
      " 4   book_title                  978859 non-null  object \n",
      " 5   year_of_publication         978859 non-null  float64\n",
      " 6   img_s                       978859 non-null  object \n",
      " 7   img_m                       978859 non-null  object \n",
      " 8   img_l                       978859 non-null  object \n",
      " 9   Africa                      978859 non-null  int32  \n",
      " 10  Asia                        978859 non-null  int32  \n",
      " 11  Europe                      978859 non-null  int32  \n",
      " 12  North America               978859 non-null  int32  \n",
      " 13  Oceania                     978859 non-null  int32  \n",
      " 14  South America               978859 non-null  int32  \n",
      " 15  author_frequency            978859 non-null  int64  \n",
      " 16  author_implicit_encoded     978859 non-null  float64\n",
      " 17  author_explicit_encoded     978859 non-null  float64\n",
      " 18  author_avg_all_reviews      978859 non-null  float64\n",
      " 19  publisher_frequency         978859 non-null  int64  \n",
      " 20  publisher_implicit_encoded  978859 non-null  float64\n",
      " 21  publisher_explicit_encoded  978859 non-null  float64\n",
      " 22  publisher_avg_all_reviews   978859 non-null  float64\n",
      " 23  de                          978859 non-null  int32  \n",
      " 24  en                          978859 non-null  int32  \n",
      " 25  es                          978859 non-null  int32  \n",
      " 26  fr                          978859 non-null  int32  \n",
      " 27  it                          978859 non-null  int32  \n",
      " 28  unknown_lg                  978859 non-null  int32  \n",
      " 29  art & culture               978859 non-null  int32  \n",
      " 30  business & economics        978859 non-null  int32  \n",
      " 31  children's books            978859 non-null  int32  \n",
      " 32  cookbooks                   978859 non-null  int32  \n",
      " 33  fiction                     978859 non-null  int32  \n",
      " 34  health & fitness            978859 non-null  int32  \n",
      " 35  non-fiction                 978859 non-null  int32  \n",
      " 36  poetry                      978859 non-null  int32  \n",
      " 37  religion & spirituality     978859 non-null  int32  \n",
      " 38  science & technology        978859 non-null  int32  \n",
      " 39  self-help                   978859 non-null  int32  \n",
      " 40  unknown_category            978859 non-null  int32  \n",
      "dtypes: float64(8), int32(24), int64(4), object(5)\n",
      "memory usage: 224.0+ MB\n"
     ]
    }
   ],
   "source": [
    "df_encoded.info()"
   ]
  },
  {
   "cell_type": "markdown",
   "id": "5fcd3ed1-43e5-4cbf-ace1-0205ae5ad3d5",
   "metadata": {},
   "source": [
    "## Book Title "
   ]
  },
  {
   "cell_type": "code",
   "execution_count": 61,
   "id": "6a1b2d8e-25bd-4882-845d-f7f85ebc385b",
   "metadata": {},
   "outputs": [
    {
     "data": {
      "text/plain": [
       "count    235672.000000\n",
       "mean          4.153480\n",
       "std          16.063072\n",
       "min           1.000000\n",
       "25%           1.000000\n",
       "50%           1.000000\n",
       "75%           3.000000\n",
       "max        2365.000000\n",
       "Name: count, dtype: float64"
      ]
     },
     "execution_count": 61,
     "metadata": {},
     "output_type": "execute_result"
    }
   ],
   "source": [
    "df.book_title.value_counts().describe()"
   ]
  },
  {
   "cell_type": "markdown",
   "id": "e308e646-e5f0-4dff-af8f-de6b10655d05",
   "metadata": {},
   "source": [
    "Considering that book title contains a High Cardinality I am going to drop it and that 75% of book titles appear 3 or fewer times. These rare values contribute little statistical or predictive value unless explicitly analyzed. However, since they may be useful for content-based recommendations, we will retain them in the original dataframe while excluding them from the encoded version."
   ]
  },
  {
   "cell_type": "code",
   "execution_count": 62,
   "id": "c1f8e836-a051-4a54-b573-0d1eae21fe53",
   "metadata": {},
   "outputs": [],
   "source": [
    "df_encoded = df_encoded.drop(columns=['book_title'], axis=1)"
   ]
  },
  {
   "cell_type": "markdown",
   "id": "748e7125-8a47-4ad6-a8ad-40a396e932ec",
   "metadata": {},
   "source": [
    "## User Id and ISBN"
   ]
  },
  {
   "cell_type": "markdown",
   "id": "8250a677-4978-4bfe-b96b-4daf40f06892",
   "metadata": {},
   "source": [
    "For the initial models we will be building, User ID and ISBN will not be needed since they are merely identifiers and do not have meaningful relationships with the target variable. Therefore, we will drop them before modeling."
   ]
  },
  {
   "cell_type": "code",
   "execution_count": 63,
   "id": "0f9e6d40-ba6a-424a-b5a1-e238767d76fb",
   "metadata": {},
   "outputs": [],
   "source": [
    "df_encoded = df_encoded.drop(columns=['user_id','isbn'], axis=1)"
   ]
  },
  {
   "cell_type": "markdown",
   "id": "fa56bfc7-faf1-4eef-834e-1843cb8d02e5",
   "metadata": {},
   "source": [
    "## Dataframe for Recommender System"
   ]
  },
  {
   "cell_type": "markdown",
   "id": "2873b13e-50a8-4d27-b7b8-0bb260c47b55",
   "metadata": {},
   "source": [
    "As we approach building the recommender models, our goal is to provide users with comprehensive book metadata. To achieve this, we will include the book images from the original dataframe. Additionally, we will group the data by book information, calculating the average explicit rating and the total number of interactions (explicit + implicit)."
   ]
  },
  {
   "cell_type": "code",
   "execution_count": 64,
   "id": "25643705-c585-4819-8fe0-5df02862c203",
   "metadata": {},
   "outputs": [],
   "source": [
    "# Compute explicit ratings (only rows with explicit ratings)\n",
    "explicit_aggregated = df[df[\"rating\"] > 0]  # Filter for explicit ratings\n",
    "explicit_aggregated = (\n",
    "    explicit_aggregated.groupby([\"isbn\", \"book_title\", \"book_author\", \"year_of_publication\", \"publisher\", \"language\", \"category\", 'img_s','img_m','img_l'])\n",
    "    .agg(\n",
    "        avg_rating=(\"rating\", \"mean\"),  # Average explicit rating\n",
    "        explicit_rating_count=(\"rating\", \"count\")  # Count of explicit ratings\n",
    "    )\n",
    "    .reset_index()\n",
    ")\n",
    "\n",
    "# Compute total interactions (all interactions, including implicit)\n",
    "total_interactions_aggregated = (\n",
    "    df.groupby([\"isbn\", \"book_title\", \"book_author\", \"year_of_publication\", \"publisher\", \"language\", \"category\",'img_s','img_m','img_l'])\n",
    "    .agg(\n",
    "        total_interactions=(\"isbn\", \"count\")  # Count of all interactions\n",
    "    )\n",
    "    .reset_index()\n",
    ")\n",
    "\n",
    "# Merge explicit ratings with total interactions\n",
    "df_books = pd.merge(explicit_aggregated, total_interactions_aggregated, on=[\"isbn\", \"book_title\", \"book_author\", \"year_of_publication\", \"publisher\", \"language\", \"category\",'img_s','img_m','img_l'], how='right')\n",
    "df_books = df_books[df_books['total_interactions']>5]\n",
    "\n",
    "df_books.to_csv('../data/Books_data.csv')"
   ]
  },
  {
   "cell_type": "code",
   "execution_count": 65,
   "id": "de4a049d-1291-4b93-a283-29a80398a353",
   "metadata": {},
   "outputs": [
    {
     "data": {
      "text/html": [
       "<div>\n",
       "<style scoped>\n",
       "    .dataframe tbody tr th:only-of-type {\n",
       "        vertical-align: middle;\n",
       "    }\n",
       "\n",
       "    .dataframe tbody tr th {\n",
       "        vertical-align: top;\n",
       "    }\n",
       "\n",
       "    .dataframe thead th {\n",
       "        text-align: right;\n",
       "    }\n",
       "</style>\n",
       "<table border=\"1\" class=\"dataframe\">\n",
       "  <thead>\n",
       "    <tr style=\"text-align: right;\">\n",
       "      <th></th>\n",
       "      <th>isbn</th>\n",
       "      <th>book_title</th>\n",
       "      <th>book_author</th>\n",
       "      <th>year_of_publication</th>\n",
       "      <th>publisher</th>\n",
       "      <th>language</th>\n",
       "      <th>category</th>\n",
       "      <th>img_s</th>\n",
       "      <th>img_m</th>\n",
       "      <th>img_l</th>\n",
       "      <th>avg_rating</th>\n",
       "      <th>explicit_rating_count</th>\n",
       "      <th>total_interactions</th>\n",
       "    </tr>\n",
       "  </thead>\n",
       "  <tbody>\n",
       "    <tr>\n",
       "      <th>70</th>\n",
       "      <td>0002005018</td>\n",
       "      <td>Clara Callan</td>\n",
       "      <td>Richard Bruce Wright</td>\n",
       "      <td>2001.0</td>\n",
       "      <td>HarperFlamingo Canada</td>\n",
       "      <td>en</td>\n",
       "      <td>unknown_category</td>\n",
       "      <td>http://images.amazon.com/images/P/0002005018.0...</td>\n",
       "      <td>http://images.amazon.com/images/P/0002005018.0...</td>\n",
       "      <td>http://images.amazon.com/images/P/0002005018.0...</td>\n",
       "      <td>7.428571</td>\n",
       "      <td>7.0</td>\n",
       "      <td>12</td>\n",
       "    </tr>\n",
       "    <tr>\n",
       "      <th>228</th>\n",
       "      <td>0002243962</td>\n",
       "      <td>Girlfriend In a Coma</td>\n",
       "      <td>Douglas Coupland</td>\n",
       "      <td>1994.0</td>\n",
       "      <td>Harper Collins Publishers</td>\n",
       "      <td>unknown_lg</td>\n",
       "      <td>unknown_category</td>\n",
       "      <td>http://images.amazon.com/images/P/0002243962.0...</td>\n",
       "      <td>http://images.amazon.com/images/P/0002243962.0...</td>\n",
       "      <td>http://images.amazon.com/images/P/0002243962.0...</td>\n",
       "      <td>5.750000</td>\n",
       "      <td>4.0</td>\n",
       "      <td>6</td>\n",
       "    </tr>\n",
       "    <tr>\n",
       "      <th>230</th>\n",
       "      <td>0002244098</td>\n",
       "      <td>Dust to dust: Stories</td>\n",
       "      <td>Timothy Findley</td>\n",
       "      <td>1997.0</td>\n",
       "      <td>HarperCollins</td>\n",
       "      <td>unknown_lg</td>\n",
       "      <td>unknown_category</td>\n",
       "      <td>http://images.amazon.com/images/P/0002244098.0...</td>\n",
       "      <td>http://images.amazon.com/images/P/0002244098.0...</td>\n",
       "      <td>http://images.amazon.com/images/P/0002244098.0...</td>\n",
       "      <td>6.333333</td>\n",
       "      <td>3.0</td>\n",
       "      <td>8</td>\n",
       "    </tr>\n",
       "    <tr>\n",
       "      <th>246</th>\n",
       "      <td>0002251760</td>\n",
       "      <td>The Forgetting Room: A Fiction (Byzantium Book)</td>\n",
       "      <td>Nick Bantock</td>\n",
       "      <td>1997.0</td>\n",
       "      <td>Harpercollins</td>\n",
       "      <td>en</td>\n",
       "      <td>fiction</td>\n",
       "      <td>http://images.amazon.com/images/P/0002251760.0...</td>\n",
       "      <td>http://images.amazon.com/images/P/0002251760.0...</td>\n",
       "      <td>http://images.amazon.com/images/P/0002251760.0...</td>\n",
       "      <td>8.833333</td>\n",
       "      <td>6.0</td>\n",
       "      <td>12</td>\n",
       "    </tr>\n",
       "    <tr>\n",
       "      <th>269</th>\n",
       "      <td>0002255081</td>\n",
       "      <td>Spadework</td>\n",
       "      <td>Timothy Findley</td>\n",
       "      <td>2001.0</td>\n",
       "      <td>HarperFlamingo Canada</td>\n",
       "      <td>unknown_lg</td>\n",
       "      <td>unknown_category</td>\n",
       "      <td>http://images.amazon.com/images/P/0002255081.0...</td>\n",
       "      <td>http://images.amazon.com/images/P/0002255081.0...</td>\n",
       "      <td>http://images.amazon.com/images/P/0002255081.0...</td>\n",
       "      <td>6.250000</td>\n",
       "      <td>4.0</td>\n",
       "      <td>10</td>\n",
       "    </tr>\n",
       "  </tbody>\n",
       "</table>\n",
       "</div>"
      ],
      "text/plain": [
       "           isbn                                       book_title  \\\n",
       "70   0002005018                                     Clara Callan   \n",
       "228  0002243962                             Girlfriend In a Coma   \n",
       "230  0002244098                            Dust to dust: Stories   \n",
       "246  0002251760  The Forgetting Room: A Fiction (Byzantium Book)   \n",
       "269  0002255081                                        Spadework   \n",
       "\n",
       "              book_author  year_of_publication                  publisher  \\\n",
       "70   Richard Bruce Wright               2001.0      HarperFlamingo Canada   \n",
       "228      Douglas Coupland               1994.0  Harper Collins Publishers   \n",
       "230       Timothy Findley               1997.0              HarperCollins   \n",
       "246          Nick Bantock               1997.0              Harpercollins   \n",
       "269       Timothy Findley               2001.0      HarperFlamingo Canada   \n",
       "\n",
       "       language          category  \\\n",
       "70           en  unknown_category   \n",
       "228  unknown_lg  unknown_category   \n",
       "230  unknown_lg  unknown_category   \n",
       "246          en           fiction   \n",
       "269  unknown_lg  unknown_category   \n",
       "\n",
       "                                                 img_s  \\\n",
       "70   http://images.amazon.com/images/P/0002005018.0...   \n",
       "228  http://images.amazon.com/images/P/0002243962.0...   \n",
       "230  http://images.amazon.com/images/P/0002244098.0...   \n",
       "246  http://images.amazon.com/images/P/0002251760.0...   \n",
       "269  http://images.amazon.com/images/P/0002255081.0...   \n",
       "\n",
       "                                                 img_m  \\\n",
       "70   http://images.amazon.com/images/P/0002005018.0...   \n",
       "228  http://images.amazon.com/images/P/0002243962.0...   \n",
       "230  http://images.amazon.com/images/P/0002244098.0...   \n",
       "246  http://images.amazon.com/images/P/0002251760.0...   \n",
       "269  http://images.amazon.com/images/P/0002255081.0...   \n",
       "\n",
       "                                                 img_l  avg_rating  \\\n",
       "70   http://images.amazon.com/images/P/0002005018.0...    7.428571   \n",
       "228  http://images.amazon.com/images/P/0002243962.0...    5.750000   \n",
       "230  http://images.amazon.com/images/P/0002244098.0...    6.333333   \n",
       "246  http://images.amazon.com/images/P/0002251760.0...    8.833333   \n",
       "269  http://images.amazon.com/images/P/0002255081.0...    6.250000   \n",
       "\n",
       "     explicit_rating_count  total_interactions  \n",
       "70                     7.0                  12  \n",
       "228                    4.0                   6  \n",
       "230                    3.0                   8  \n",
       "246                    6.0                  12  \n",
       "269                    4.0                  10  "
      ]
     },
     "execution_count": 65,
     "metadata": {},
     "output_type": "execute_result"
    }
   ],
   "source": [
    "df_books.head()"
   ]
  },
  {
   "cell_type": "code",
   "execution_count": 66,
   "id": "4baa81d8-1740-49f3-9f75-1883c9e378f0",
   "metadata": {},
   "outputs": [
    {
     "name": "stdout",
     "output_type": "stream",
     "text": [
      "<class 'pandas.core.frame.DataFrame'>\n",
      "Index: 30902 entries, 70 to 263957\n",
      "Data columns (total 13 columns):\n",
      " #   Column                 Non-Null Count  Dtype  \n",
      "---  ------                 --------------  -----  \n",
      " 0   isbn                   30902 non-null  object \n",
      " 1   book_title             30902 non-null  object \n",
      " 2   book_author            30902 non-null  object \n",
      " 3   year_of_publication    30902 non-null  float64\n",
      " 4   publisher              30902 non-null  object \n",
      " 5   language               30902 non-null  object \n",
      " 6   category               30902 non-null  object \n",
      " 7   img_s                  30902 non-null  object \n",
      " 8   img_m                  30902 non-null  object \n",
      " 9   img_l                  30902 non-null  object \n",
      " 10  avg_rating             29441 non-null  float64\n",
      " 11  explicit_rating_count  29441 non-null  float64\n",
      " 12  total_interactions     30902 non-null  int64  \n",
      "dtypes: float64(3), int64(1), object(9)\n",
      "memory usage: 3.3+ MB\n"
     ]
    }
   ],
   "source": [
    "df_books.info()"
   ]
  },
  {
   "cell_type": "markdown",
   "id": "a4eb84a4-2518-4889-a4ba-4a176203336d",
   "metadata": {},
   "source": [
    "## Exporting The Preprocessed Dataframes"
   ]
  },
  {
   "cell_type": "markdown",
   "id": "2027d6ed-8dd0-4755-be25-96f7a05263e2",
   "metadata": {},
   "source": [
    "Additionally, since the image columns ('img_s', 'img_m', 'img_l') and summary are not relevant to the analysis, I will drop them to reduce unnecessary data and keep the dataframe focused on useful features."
   ]
  },
  {
   "cell_type": "code",
   "execution_count": 66,
   "id": "996968a1-5505-4e2a-8c80-c512972f6d77",
   "metadata": {},
   "outputs": [],
   "source": [
    "df.drop(['img_s','img_m','img_l'], axis=1, inplace=True)"
   ]
  },
  {
   "cell_type": "code",
   "execution_count": 67,
   "id": "f74629af-f6d6-4581-9a53-9e937d7ebc6c",
   "metadata": {},
   "outputs": [
    {
     "data": {
      "text/html": [
       "<div>\n",
       "<style scoped>\n",
       "    .dataframe tbody tr th:only-of-type {\n",
       "        vertical-align: middle;\n",
       "    }\n",
       "\n",
       "    .dataframe tbody tr th {\n",
       "        vertical-align: top;\n",
       "    }\n",
       "\n",
       "    .dataframe thead th {\n",
       "        text-align: right;\n",
       "    }\n",
       "</style>\n",
       "<table border=\"1\" class=\"dataframe\">\n",
       "  <thead>\n",
       "    <tr style=\"text-align: right;\">\n",
       "      <th></th>\n",
       "      <th>user_id</th>\n",
       "      <th>age</th>\n",
       "      <th>isbn</th>\n",
       "      <th>rating</th>\n",
       "      <th>book_title</th>\n",
       "      <th>book_author</th>\n",
       "      <th>year_of_publication</th>\n",
       "      <th>publisher</th>\n",
       "      <th>language</th>\n",
       "      <th>category</th>\n",
       "      <th>continent</th>\n",
       "      <th>author_frequency</th>\n",
       "      <th>author_implicit_encoded</th>\n",
       "      <th>author_explicit_encoded</th>\n",
       "      <th>author_avg_all_reviews</th>\n",
       "      <th>publisher_frequency</th>\n",
       "      <th>publisher_implicit_encoded</th>\n",
       "      <th>publisher_explicit_encoded</th>\n",
       "      <th>publisher_avg_all_reviews</th>\n",
       "    </tr>\n",
       "  </thead>\n",
       "  <tbody>\n",
       "    <tr>\n",
       "      <th>0</th>\n",
       "      <td>2</td>\n",
       "      <td>18.0000</td>\n",
       "      <td>0195153448</td>\n",
       "      <td>0</td>\n",
       "      <td>Classical Mythology</td>\n",
       "      <td>Mark P. O. Morford</td>\n",
       "      <td>2002.0</td>\n",
       "      <td>Oxford University Press</td>\n",
       "      <td>en</td>\n",
       "      <td>science &amp; technology</td>\n",
       "      <td>North America</td>\n",
       "      <td>2</td>\n",
       "      <td>0.500000</td>\n",
       "      <td>7.000000</td>\n",
       "      <td>3.5</td>\n",
       "      <td>2542</td>\n",
       "      <td>0.564123</td>\n",
       "      <td>7.750000</td>\n",
       "      <td>3.378049</td>\n",
       "    </tr>\n",
       "    <tr>\n",
       "      <th>1</th>\n",
       "      <td>8</td>\n",
       "      <td>34.7439</td>\n",
       "      <td>0002005018</td>\n",
       "      <td>5</td>\n",
       "      <td>Clara Callan</td>\n",
       "      <td>Richard Bruce Wright</td>\n",
       "      <td>2001.0</td>\n",
       "      <td>HarperFlamingo Canada</td>\n",
       "      <td>en</td>\n",
       "      <td>unknown_category</td>\n",
       "      <td>North America</td>\n",
       "      <td>13</td>\n",
       "      <td>0.461538</td>\n",
       "      <td>7.428571</td>\n",
       "      <td>4.0</td>\n",
       "      <td>45</td>\n",
       "      <td>0.533333</td>\n",
       "      <td>7.333333</td>\n",
       "      <td>3.422222</td>\n",
       "    </tr>\n",
       "    <tr>\n",
       "      <th>2</th>\n",
       "      <td>11400</td>\n",
       "      <td>49.0000</td>\n",
       "      <td>0002005018</td>\n",
       "      <td>0</td>\n",
       "      <td>Clara Callan</td>\n",
       "      <td>Richard Bruce Wright</td>\n",
       "      <td>2001.0</td>\n",
       "      <td>HarperFlamingo Canada</td>\n",
       "      <td>en</td>\n",
       "      <td>unknown_category</td>\n",
       "      <td>North America</td>\n",
       "      <td>13</td>\n",
       "      <td>0.461538</td>\n",
       "      <td>7.428571</td>\n",
       "      <td>4.0</td>\n",
       "      <td>45</td>\n",
       "      <td>0.533333</td>\n",
       "      <td>7.333333</td>\n",
       "      <td>3.422222</td>\n",
       "    </tr>\n",
       "    <tr>\n",
       "      <th>4</th>\n",
       "      <td>41385</td>\n",
       "      <td>34.7439</td>\n",
       "      <td>0002005018</td>\n",
       "      <td>0</td>\n",
       "      <td>Clara Callan</td>\n",
       "      <td>Richard Bruce Wright</td>\n",
       "      <td>2001.0</td>\n",
       "      <td>HarperFlamingo Canada</td>\n",
       "      <td>en</td>\n",
       "      <td>unknown_category</td>\n",
       "      <td>North America</td>\n",
       "      <td>13</td>\n",
       "      <td>0.461538</td>\n",
       "      <td>7.428571</td>\n",
       "      <td>4.0</td>\n",
       "      <td>45</td>\n",
       "      <td>0.533333</td>\n",
       "      <td>7.333333</td>\n",
       "      <td>3.422222</td>\n",
       "    </tr>\n",
       "    <tr>\n",
       "      <th>5</th>\n",
       "      <td>67544</td>\n",
       "      <td>30.0000</td>\n",
       "      <td>0002005018</td>\n",
       "      <td>8</td>\n",
       "      <td>Clara Callan</td>\n",
       "      <td>Richard Bruce Wright</td>\n",
       "      <td>2001.0</td>\n",
       "      <td>HarperFlamingo Canada</td>\n",
       "      <td>en</td>\n",
       "      <td>unknown_category</td>\n",
       "      <td>North America</td>\n",
       "      <td>13</td>\n",
       "      <td>0.461538</td>\n",
       "      <td>7.428571</td>\n",
       "      <td>4.0</td>\n",
       "      <td>45</td>\n",
       "      <td>0.533333</td>\n",
       "      <td>7.333333</td>\n",
       "      <td>3.422222</td>\n",
       "    </tr>\n",
       "  </tbody>\n",
       "</table>\n",
       "</div>"
      ],
      "text/plain": [
       "   user_id      age        isbn  rating           book_title  \\\n",
       "0        2  18.0000  0195153448       0  Classical Mythology   \n",
       "1        8  34.7439  0002005018       5         Clara Callan   \n",
       "2    11400  49.0000  0002005018       0         Clara Callan   \n",
       "4    41385  34.7439  0002005018       0         Clara Callan   \n",
       "5    67544  30.0000  0002005018       8         Clara Callan   \n",
       "\n",
       "            book_author  year_of_publication                publisher  \\\n",
       "0    Mark P. O. Morford               2002.0  Oxford University Press   \n",
       "1  Richard Bruce Wright               2001.0    HarperFlamingo Canada   \n",
       "2  Richard Bruce Wright               2001.0    HarperFlamingo Canada   \n",
       "4  Richard Bruce Wright               2001.0    HarperFlamingo Canada   \n",
       "5  Richard Bruce Wright               2001.0    HarperFlamingo Canada   \n",
       "\n",
       "  language              category      continent  author_frequency  \\\n",
       "0       en  science & technology  North America                 2   \n",
       "1       en      unknown_category  North America                13   \n",
       "2       en      unknown_category  North America                13   \n",
       "4       en      unknown_category  North America                13   \n",
       "5       en      unknown_category  North America                13   \n",
       "\n",
       "   author_implicit_encoded  author_explicit_encoded  author_avg_all_reviews  \\\n",
       "0                 0.500000                 7.000000                     3.5   \n",
       "1                 0.461538                 7.428571                     4.0   \n",
       "2                 0.461538                 7.428571                     4.0   \n",
       "4                 0.461538                 7.428571                     4.0   \n",
       "5                 0.461538                 7.428571                     4.0   \n",
       "\n",
       "   publisher_frequency  publisher_implicit_encoded  \\\n",
       "0                 2542                    0.564123   \n",
       "1                   45                    0.533333   \n",
       "2                   45                    0.533333   \n",
       "4                   45                    0.533333   \n",
       "5                   45                    0.533333   \n",
       "\n",
       "   publisher_explicit_encoded  publisher_avg_all_reviews  \n",
       "0                    7.750000                   3.378049  \n",
       "1                    7.333333                   3.422222  \n",
       "2                    7.333333                   3.422222  \n",
       "4                    7.333333                   3.422222  \n",
       "5                    7.333333                   3.422222  "
      ]
     },
     "execution_count": 67,
     "metadata": {},
     "output_type": "execute_result"
    }
   ],
   "source": [
    "df.head()"
   ]
  },
  {
   "cell_type": "code",
   "execution_count": 68,
   "id": "cb36d144-85bd-488f-a6b0-42d2b7f83619",
   "metadata": {},
   "outputs": [],
   "source": [
    "df.to_csv('../data/PostBooksEDA.csv')"
   ]
  },
  {
   "cell_type": "code",
   "execution_count": 69,
   "id": "286ddf04-a488-4647-abaa-bb0888dc97be",
   "metadata": {},
   "outputs": [],
   "source": [
    "df_encoded.drop(['img_s','img_m','img_l'], axis=1, inplace=True)"
   ]
  },
  {
   "cell_type": "code",
   "execution_count": 70,
   "id": "c274c59f-2c75-405c-88f8-634906f72604",
   "metadata": {},
   "outputs": [
    {
     "data": {
      "text/html": [
       "<div>\n",
       "<style scoped>\n",
       "    .dataframe tbody tr th:only-of-type {\n",
       "        vertical-align: middle;\n",
       "    }\n",
       "\n",
       "    .dataframe tbody tr th {\n",
       "        vertical-align: top;\n",
       "    }\n",
       "\n",
       "    .dataframe thead th {\n",
       "        text-align: right;\n",
       "    }\n",
       "</style>\n",
       "<table border=\"1\" class=\"dataframe\">\n",
       "  <thead>\n",
       "    <tr style=\"text-align: right;\">\n",
       "      <th></th>\n",
       "      <th>age</th>\n",
       "      <th>rating</th>\n",
       "      <th>year_of_publication</th>\n",
       "      <th>Africa</th>\n",
       "      <th>Asia</th>\n",
       "      <th>Europe</th>\n",
       "      <th>North America</th>\n",
       "      <th>Oceania</th>\n",
       "      <th>South America</th>\n",
       "      <th>author_frequency</th>\n",
       "      <th>...</th>\n",
       "      <th>children's books</th>\n",
       "      <th>cookbooks</th>\n",
       "      <th>fiction</th>\n",
       "      <th>health &amp; fitness</th>\n",
       "      <th>non-fiction</th>\n",
       "      <th>poetry</th>\n",
       "      <th>religion &amp; spirituality</th>\n",
       "      <th>science &amp; technology</th>\n",
       "      <th>self-help</th>\n",
       "      <th>unknown_category</th>\n",
       "    </tr>\n",
       "  </thead>\n",
       "  <tbody>\n",
       "    <tr>\n",
       "      <th>0</th>\n",
       "      <td>18.0000</td>\n",
       "      <td>0</td>\n",
       "      <td>2002.0</td>\n",
       "      <td>0</td>\n",
       "      <td>0</td>\n",
       "      <td>0</td>\n",
       "      <td>1</td>\n",
       "      <td>0</td>\n",
       "      <td>0</td>\n",
       "      <td>2</td>\n",
       "      <td>...</td>\n",
       "      <td>0</td>\n",
       "      <td>0</td>\n",
       "      <td>0</td>\n",
       "      <td>0</td>\n",
       "      <td>0</td>\n",
       "      <td>0</td>\n",
       "      <td>0</td>\n",
       "      <td>1</td>\n",
       "      <td>0</td>\n",
       "      <td>0</td>\n",
       "    </tr>\n",
       "    <tr>\n",
       "      <th>1</th>\n",
       "      <td>34.7439</td>\n",
       "      <td>5</td>\n",
       "      <td>2001.0</td>\n",
       "      <td>0</td>\n",
       "      <td>0</td>\n",
       "      <td>0</td>\n",
       "      <td>1</td>\n",
       "      <td>0</td>\n",
       "      <td>0</td>\n",
       "      <td>13</td>\n",
       "      <td>...</td>\n",
       "      <td>0</td>\n",
       "      <td>0</td>\n",
       "      <td>0</td>\n",
       "      <td>0</td>\n",
       "      <td>0</td>\n",
       "      <td>0</td>\n",
       "      <td>0</td>\n",
       "      <td>0</td>\n",
       "      <td>0</td>\n",
       "      <td>1</td>\n",
       "    </tr>\n",
       "    <tr>\n",
       "      <th>2</th>\n",
       "      <td>49.0000</td>\n",
       "      <td>0</td>\n",
       "      <td>2001.0</td>\n",
       "      <td>0</td>\n",
       "      <td>0</td>\n",
       "      <td>0</td>\n",
       "      <td>1</td>\n",
       "      <td>0</td>\n",
       "      <td>0</td>\n",
       "      <td>13</td>\n",
       "      <td>...</td>\n",
       "      <td>0</td>\n",
       "      <td>0</td>\n",
       "      <td>0</td>\n",
       "      <td>0</td>\n",
       "      <td>0</td>\n",
       "      <td>0</td>\n",
       "      <td>0</td>\n",
       "      <td>0</td>\n",
       "      <td>0</td>\n",
       "      <td>1</td>\n",
       "    </tr>\n",
       "    <tr>\n",
       "      <th>4</th>\n",
       "      <td>34.7439</td>\n",
       "      <td>0</td>\n",
       "      <td>2001.0</td>\n",
       "      <td>0</td>\n",
       "      <td>0</td>\n",
       "      <td>0</td>\n",
       "      <td>1</td>\n",
       "      <td>0</td>\n",
       "      <td>0</td>\n",
       "      <td>13</td>\n",
       "      <td>...</td>\n",
       "      <td>0</td>\n",
       "      <td>0</td>\n",
       "      <td>0</td>\n",
       "      <td>0</td>\n",
       "      <td>0</td>\n",
       "      <td>0</td>\n",
       "      <td>0</td>\n",
       "      <td>0</td>\n",
       "      <td>0</td>\n",
       "      <td>1</td>\n",
       "    </tr>\n",
       "    <tr>\n",
       "      <th>5</th>\n",
       "      <td>30.0000</td>\n",
       "      <td>8</td>\n",
       "      <td>2001.0</td>\n",
       "      <td>0</td>\n",
       "      <td>0</td>\n",
       "      <td>0</td>\n",
       "      <td>1</td>\n",
       "      <td>0</td>\n",
       "      <td>0</td>\n",
       "      <td>13</td>\n",
       "      <td>...</td>\n",
       "      <td>0</td>\n",
       "      <td>0</td>\n",
       "      <td>0</td>\n",
       "      <td>0</td>\n",
       "      <td>0</td>\n",
       "      <td>0</td>\n",
       "      <td>0</td>\n",
       "      <td>0</td>\n",
       "      <td>0</td>\n",
       "      <td>1</td>\n",
       "    </tr>\n",
       "  </tbody>\n",
       "</table>\n",
       "<p>5 rows × 35 columns</p>\n",
       "</div>"
      ],
      "text/plain": [
       "       age  rating  year_of_publication  Africa  Asia  Europe  North America  \\\n",
       "0  18.0000       0               2002.0       0     0       0              1   \n",
       "1  34.7439       5               2001.0       0     0       0              1   \n",
       "2  49.0000       0               2001.0       0     0       0              1   \n",
       "4  34.7439       0               2001.0       0     0       0              1   \n",
       "5  30.0000       8               2001.0       0     0       0              1   \n",
       "\n",
       "   Oceania  South America  author_frequency  ...  children's books  cookbooks  \\\n",
       "0        0              0                 2  ...                 0          0   \n",
       "1        0              0                13  ...                 0          0   \n",
       "2        0              0                13  ...                 0          0   \n",
       "4        0              0                13  ...                 0          0   \n",
       "5        0              0                13  ...                 0          0   \n",
       "\n",
       "   fiction  health & fitness  non-fiction  poetry  religion & spirituality  \\\n",
       "0        0                 0            0       0                        0   \n",
       "1        0                 0            0       0                        0   \n",
       "2        0                 0            0       0                        0   \n",
       "4        0                 0            0       0                        0   \n",
       "5        0                 0            0       0                        0   \n",
       "\n",
       "   science & technology  self-help  unknown_category  \n",
       "0                     1          0                 0  \n",
       "1                     0          0                 1  \n",
       "2                     0          0                 1  \n",
       "4                     0          0                 1  \n",
       "5                     0          0                 1  \n",
       "\n",
       "[5 rows x 35 columns]"
      ]
     },
     "execution_count": 70,
     "metadata": {},
     "output_type": "execute_result"
    }
   ],
   "source": [
    "df_encoded.head()"
   ]
  },
  {
   "cell_type": "code",
   "execution_count": 71,
   "id": "c82448cb-d9f4-4840-a07a-4a5d0d55d20b",
   "metadata": {},
   "outputs": [],
   "source": [
    "df_encoded.to_csv('../data/PostEncodedBooksEDA.csv')"
   ]
  }
 ],
 "metadata": {
  "kernelspec": {
   "display_name": "capstone_env",
   "language": "python",
   "name": "capstone_env"
  },
  "language_info": {
   "codemirror_mode": {
    "name": "ipython",
    "version": 3
   },
   "file_extension": ".py",
   "mimetype": "text/x-python",
   "name": "python",
   "nbconvert_exporter": "python",
   "pygments_lexer": "ipython3",
   "version": "3.8.20"
  }
 },
 "nbformat": 4,
 "nbformat_minor": 5
}
