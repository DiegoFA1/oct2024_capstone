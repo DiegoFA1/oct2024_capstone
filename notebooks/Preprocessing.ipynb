{
 "cells": [
  {
   "cell_type": "markdown",
   "id": "9d58c2ed-9a4f-44e5-b26f-a335f04b80ca",
   "metadata": {},
   "source": [
    "# Data Preprocessing\n",
    "\n",
    "We pick up where we left off by importing the cleaned BookEDA dataset and re-acquanting ourselves with the variables present in the data."
   ]
  },
  {
   "cell_type": "code",
   "execution_count": 2,
   "id": "6fb62378-843f-4d0e-a9eb-ca49b5c216e8",
   "metadata": {},
   "outputs": [],
   "source": [
    "import numpy as np \n",
    "import pandas as pd\n",
    "import matplotlib.pyplot as plt\n",
    "import seaborn as sns\n",
    "import plotly.express as px\n",
    "import plotly.graph_objects as go\n",
    "from scipy import stats"
   ]
  },
  {
   "cell_type": "code",
   "execution_count": 17,
   "id": "ee2cde6d-cf12-458b-867f-dbbc21e24238",
   "metadata": {},
   "outputs": [],
   "source": [
    "# Read in the data and refresh our memories\n",
    "df = pd.read_csv('../data/BooksEDA.csv', index_col=0)"
   ]
  },
  {
   "cell_type": "code",
   "execution_count": 19,
   "id": "3ae963db-f513-428b-8123-69b8644b5a53",
   "metadata": {},
   "outputs": [
    {
     "data": {
      "text/html": [
       "<div>\n",
       "<style scoped>\n",
       "    .dataframe tbody tr th:only-of-type {\n",
       "        vertical-align: middle;\n",
       "    }\n",
       "\n",
       "    .dataframe tbody tr th {\n",
       "        vertical-align: top;\n",
       "    }\n",
       "\n",
       "    .dataframe thead th {\n",
       "        text-align: right;\n",
       "    }\n",
       "</style>\n",
       "<table border=\"1\" class=\"dataframe\">\n",
       "  <thead>\n",
       "    <tr style=\"text-align: right;\">\n",
       "      <th></th>\n",
       "      <th>user_id</th>\n",
       "      <th>age</th>\n",
       "      <th>isbn</th>\n",
       "      <th>rating</th>\n",
       "      <th>book_title</th>\n",
       "      <th>book_author</th>\n",
       "      <th>year_of_publication</th>\n",
       "      <th>publisher</th>\n",
       "      <th>language</th>\n",
       "      <th>city</th>\n",
       "      <th>state</th>\n",
       "      <th>country</th>\n",
       "      <th>category</th>\n",
       "    </tr>\n",
       "  </thead>\n",
       "  <tbody>\n",
       "    <tr>\n",
       "      <th>0</th>\n",
       "      <td>2</td>\n",
       "      <td>18.0000</td>\n",
       "      <td>0195153448</td>\n",
       "      <td>0</td>\n",
       "      <td>Classical Mythology</td>\n",
       "      <td>Mark P. O. Morford</td>\n",
       "      <td>2002.0</td>\n",
       "      <td>Oxford University Press</td>\n",
       "      <td>en</td>\n",
       "      <td>stockton</td>\n",
       "      <td>california</td>\n",
       "      <td>usa</td>\n",
       "      <td>science &amp; technology</td>\n",
       "    </tr>\n",
       "    <tr>\n",
       "      <th>1</th>\n",
       "      <td>8</td>\n",
       "      <td>34.7439</td>\n",
       "      <td>0002005018</td>\n",
       "      <td>5</td>\n",
       "      <td>Clara Callan</td>\n",
       "      <td>Richard Bruce Wright</td>\n",
       "      <td>2001.0</td>\n",
       "      <td>HarperFlamingo Canada</td>\n",
       "      <td>en</td>\n",
       "      <td>timmins</td>\n",
       "      <td>ontario</td>\n",
       "      <td>canada</td>\n",
       "      <td>unknown</td>\n",
       "    </tr>\n",
       "    <tr>\n",
       "      <th>2</th>\n",
       "      <td>11400</td>\n",
       "      <td>49.0000</td>\n",
       "      <td>0002005018</td>\n",
       "      <td>0</td>\n",
       "      <td>Clara Callan</td>\n",
       "      <td>Richard Bruce Wright</td>\n",
       "      <td>2001.0</td>\n",
       "      <td>HarperFlamingo Canada</td>\n",
       "      <td>en</td>\n",
       "      <td>ottawa</td>\n",
       "      <td>ontario</td>\n",
       "      <td>canada</td>\n",
       "      <td>unknown</td>\n",
       "    </tr>\n",
       "    <tr>\n",
       "      <th>4</th>\n",
       "      <td>41385</td>\n",
       "      <td>34.7439</td>\n",
       "      <td>0002005018</td>\n",
       "      <td>0</td>\n",
       "      <td>Clara Callan</td>\n",
       "      <td>Richard Bruce Wright</td>\n",
       "      <td>2001.0</td>\n",
       "      <td>HarperFlamingo Canada</td>\n",
       "      <td>en</td>\n",
       "      <td>sudbury</td>\n",
       "      <td>ontario</td>\n",
       "      <td>canada</td>\n",
       "      <td>unknown</td>\n",
       "    </tr>\n",
       "    <tr>\n",
       "      <th>5</th>\n",
       "      <td>67544</td>\n",
       "      <td>30.0000</td>\n",
       "      <td>0002005018</td>\n",
       "      <td>8</td>\n",
       "      <td>Clara Callan</td>\n",
       "      <td>Richard Bruce Wright</td>\n",
       "      <td>2001.0</td>\n",
       "      <td>HarperFlamingo Canada</td>\n",
       "      <td>en</td>\n",
       "      <td>toronto</td>\n",
       "      <td>ontario</td>\n",
       "      <td>canada</td>\n",
       "      <td>unknown</td>\n",
       "    </tr>\n",
       "  </tbody>\n",
       "</table>\n",
       "</div>"
      ],
      "text/plain": [
       "   user_id      age        isbn  rating           book_title  \\\n",
       "0        2  18.0000  0195153448       0  Classical Mythology   \n",
       "1        8  34.7439  0002005018       5         Clara Callan   \n",
       "2    11400  49.0000  0002005018       0         Clara Callan   \n",
       "4    41385  34.7439  0002005018       0         Clara Callan   \n",
       "5    67544  30.0000  0002005018       8         Clara Callan   \n",
       "\n",
       "            book_author  year_of_publication                publisher  \\\n",
       "0    Mark P. O. Morford               2002.0  Oxford University Press   \n",
       "1  Richard Bruce Wright               2001.0    HarperFlamingo Canada   \n",
       "2  Richard Bruce Wright               2001.0    HarperFlamingo Canada   \n",
       "4  Richard Bruce Wright               2001.0    HarperFlamingo Canada   \n",
       "5  Richard Bruce Wright               2001.0    HarperFlamingo Canada   \n",
       "\n",
       "  language      city       state country              category  \n",
       "0       en  stockton  california     usa  science & technology  \n",
       "1       en   timmins     ontario  canada               unknown  \n",
       "2       en    ottawa     ontario  canada               unknown  \n",
       "4       en   sudbury     ontario  canada               unknown  \n",
       "5       en   toronto     ontario  canada               unknown  "
      ]
     },
     "execution_count": 19,
     "metadata": {},
     "output_type": "execute_result"
    }
   ],
   "source": [
    "df.head()"
   ]
  },
  {
   "cell_type": "code",
   "execution_count": 21,
   "id": "44d2a213-b0a3-4cd2-9a5f-c7d16190a1c4",
   "metadata": {},
   "outputs": [
    {
     "name": "stdout",
     "output_type": "stream",
     "text": [
      "<class 'pandas.core.frame.DataFrame'>\n",
      "Index: 982278 entries, 0 to 1031174\n",
      "Data columns (total 13 columns):\n",
      " #   Column               Non-Null Count   Dtype  \n",
      "---  ------               --------------   -----  \n",
      " 0   user_id              982278 non-null  int64  \n",
      " 1   age                  982278 non-null  float64\n",
      " 2   isbn                 982278 non-null  object \n",
      " 3   rating               982278 non-null  int64  \n",
      " 4   book_title           982278 non-null  object \n",
      " 5   book_author          982278 non-null  object \n",
      " 6   year_of_publication  982278 non-null  float64\n",
      " 7   publisher            982278 non-null  object \n",
      " 8   language             982278 non-null  object \n",
      " 9   city                 982278 non-null  object \n",
      " 10  state                982278 non-null  object \n",
      " 11  country              982278 non-null  object \n",
      " 12  category             982278 non-null  object \n",
      "dtypes: float64(2), int64(2), object(9)\n",
      "memory usage: 104.9+ MB\n"
     ]
    }
   ],
   "source": [
    "df.info()"
   ]
  },
  {
   "cell_type": "code",
   "execution_count": 23,
   "id": "1235d8c2-c45e-4aed-b81c-88a2eab07c87",
   "metadata": {},
   "outputs": [
    {
     "data": {
      "text/plain": [
       "user_id                0\n",
       "age                    0\n",
       "isbn                   0\n",
       "rating                 0\n",
       "book_title             0\n",
       "book_author            0\n",
       "year_of_publication    0\n",
       "publisher              0\n",
       "language               0\n",
       "city                   0\n",
       "state                  0\n",
       "country                0\n",
       "category               0\n",
       "dtype: int64"
      ]
     },
     "execution_count": 23,
     "metadata": {},
     "output_type": "execute_result"
    }
   ],
   "source": [
    "df.isna().sum()"
   ]
  },
  {
   "cell_type": "markdown",
   "id": "8f9f52df-bf11-4e6a-adb0-48f788c2d5c4",
   "metadata": {},
   "source": [
    "As we can see, even though our data is clean, we are dealing with a large number of categorical values (stored as object type in pandas). We will somehow convert these values to numerical representations such that we can apply statistical modeling. "
   ]
  },
  {
   "cell_type": "code",
   "execution_count": null,
   "id": "5daf5776-9ef4-49ad-9e3c-56d9754d9cdd",
   "metadata": {},
   "outputs": [],
   "source": []
  },
  {
   "cell_type": "code",
   "execution_count": null,
   "id": "6458ea99-0f06-4efe-9b2e-d4939ecede12",
   "metadata": {},
   "outputs": [],
   "source": []
  },
  {
   "cell_type": "code",
   "execution_count": null,
   "id": "f8a8a06e-37d8-4e1f-96e6-015959be5bf9",
   "metadata": {},
   "outputs": [],
   "source": []
  },
  {
   "cell_type": "code",
   "execution_count": null,
   "id": "9128971b-c87f-4590-b7ca-034e4147914d",
   "metadata": {},
   "outputs": [],
   "source": []
  },
  {
   "cell_type": "code",
   "execution_count": null,
   "id": "cc9fcd84-7bab-468a-97e3-a1414c66f65d",
   "metadata": {},
   "outputs": [],
   "source": []
  },
  {
   "cell_type": "code",
   "execution_count": null,
   "id": "fbf05041-869a-4b07-9515-9545c467b88f",
   "metadata": {},
   "outputs": [],
   "source": []
  },
  {
   "cell_type": "code",
   "execution_count": null,
   "id": "e5ea4929-4d32-4348-8a20-e63b7fbb9b20",
   "metadata": {},
   "outputs": [],
   "source": []
  },
  {
   "cell_type": "code",
   "execution_count": null,
   "id": "d59b0ae7-a3aa-445c-bd95-d4eda4ce08dd",
   "metadata": {},
   "outputs": [],
   "source": []
  },
  {
   "cell_type": "code",
   "execution_count": null,
   "id": "95892004-11cb-4d71-9a86-5153486cb16e",
   "metadata": {},
   "outputs": [],
   "source": []
  },
  {
   "cell_type": "code",
   "execution_count": null,
   "id": "0771e2e2-8cff-4314-b8e6-e36fc281bb52",
   "metadata": {},
   "outputs": [],
   "source": []
  },
  {
   "cell_type": "code",
   "execution_count": null,
   "id": "b2e4b61d-5919-404d-8cab-644ab7d4426e",
   "metadata": {},
   "outputs": [],
   "source": []
  },
  {
   "cell_type": "code",
   "execution_count": null,
   "id": "cd77b2c1-862f-469e-b4e6-c272a3ced6bd",
   "metadata": {},
   "outputs": [],
   "source": []
  },
  {
   "cell_type": "code",
   "execution_count": null,
   "id": "56e9d8f2-2ea6-4d12-81a2-d4a6dfa8b751",
   "metadata": {},
   "outputs": [],
   "source": []
  },
  {
   "cell_type": "code",
   "execution_count": null,
   "id": "4ea5012f-87da-49ac-a960-83ea8c185973",
   "metadata": {},
   "outputs": [],
   "source": []
  },
  {
   "cell_type": "code",
   "execution_count": null,
   "id": "816d2ea5-a6d2-45a4-83e5-9a9572402909",
   "metadata": {},
   "outputs": [],
   "source": []
  },
  {
   "cell_type": "code",
   "execution_count": null,
   "id": "a3667a35-93f8-4ef4-8983-13b3ca85fa7b",
   "metadata": {},
   "outputs": [],
   "source": []
  },
  {
   "cell_type": "code",
   "execution_count": null,
   "id": "b03321c7-8b96-4284-b4c3-d97b12703c72",
   "metadata": {},
   "outputs": [],
   "source": []
  }
 ],
 "metadata": {
  "kernelspec": {
   "display_name": "capstone_env",
   "language": "python",
   "name": "capstone_env"
  },
  "language_info": {
   "codemirror_mode": {
    "name": "ipython",
    "version": 3
   },
   "file_extension": ".py",
   "mimetype": "text/x-python",
   "name": "python",
   "nbconvert_exporter": "python",
   "pygments_lexer": "ipython3",
   "version": "3.8.20"
  }
 },
 "nbformat": 4,
 "nbformat_minor": 5
}
