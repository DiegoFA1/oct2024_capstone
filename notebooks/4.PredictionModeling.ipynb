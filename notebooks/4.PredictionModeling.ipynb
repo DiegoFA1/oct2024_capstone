{
 "cells": [
  {
   "cell_type": "markdown",
   "id": "6ae3328c-142a-47d5-81a4-40a44591cc8e",
   "metadata": {},
   "source": [
    "# Modeling for Predicting Ratings"
   ]
  },
  {
   "cell_type": "code",
   "execution_count": 20,
   "id": "e06e413c-7e65-4034-9ff8-c88300168973",
   "metadata": {},
   "outputs": [],
   "source": [
    "import numpy as np \n",
    "import pandas as pd\n",
    "import matplotlib.pyplot as plt\n",
    "import seaborn as sns\n",
    "import re\n",
    "from scipy import stats\n",
    "\n",
    "import numpy as np\n",
    "import pandas as pd\n",
    "import matplotlib.pyplot as plt\n",
    "\n",
    "#a bunch of imports!\n",
    "from sklearn.model_selection import train_test_split\n",
    "from sklearn.datasets import load_iris\n",
    "from sklearn.preprocessing import StandardScaler\n",
    "from sklearn.decomposition import PCA\n",
    "from sklearn.neighbors import KNeighborsClassifier\n",
    "from sklearn.tree import DecisionTreeClassifier\n",
    "from sklearn.linear_model import LogisticRegression\n",
    "from sklearn.pipeline import Pipeline\n",
    "from sklearn.model_selection import GridSearchCV\n",
    "from sklearn.metrics import confusion_matrix, ConfusionMatrixDisplay\n",
    "from sklearn.metrics import classification_report\n",
    "from sklearn.metrics import roc_curve, roc_auc_score\n",
    "\n",
    "\n",
    "# Ignore futurewarnings\n",
    "import warnings\n",
    "warnings.filterwarnings('ignore')"
   ]
  },
  {
   "cell_type": "code",
   "execution_count": 2,
   "id": "491c1cec-3bfc-452d-8ade-64654891cf1f",
   "metadata": {},
   "outputs": [
    {
     "name": "stdout",
     "output_type": "stream",
     "text": [
      "(978859, 37)\n"
     ]
    }
   ],
   "source": [
    "df = pd.read_csv('../data/PostBooksEDA.csv', index_col=0)\n",
    "df_encoded = pd.read_csv('../data/PostEncodedBooksEDA.csv', index_col=0)\n",
    "\n",
    "print(df_encoded.shape)"
   ]
  },
  {
   "cell_type": "markdown",
   "id": "1759be2f-fae1-4f3e-83a9-d5b35e8d58b3",
   "metadata": {},
   "source": [
    "For the initial models we will be building, User ID and ISBN will not be needed since they are merely identifiers and do not have meaningful relationships with the target variable. Additionally, we will work with a sample of the data to minimize computational requirements."
   ]
  },
  {
   "cell_type": "code",
   "execution_count": 3,
   "id": "9f5edf27-b13e-4785-8fb6-481609a6c595",
   "metadata": {},
   "outputs": [
    {
     "name": "stdout",
     "output_type": "stream",
     "text": [
      "(320000, 37)\n"
     ]
    }
   ],
   "source": [
    "# 1/3 of the data\n",
    "df_encoded = df_encoded.sample(n=320000, random_state=42)  # random_state for reproducibility\n",
    "\n",
    "# Sanity check\n",
    "print(df_encoded.shape)"
   ]
  },
  {
   "cell_type": "code",
   "execution_count": 4,
   "id": "4218ccd0-facd-43ea-9582-8de309c5c143",
   "metadata": {},
   "outputs": [],
   "source": [
    "df_encoded = df_encoded.drop(columns=['user_id','isbn'], axis=1)"
   ]
  },
  {
   "cell_type": "markdown",
   "id": "1c3b0a4c-d5f2-4f94-ad74-13c3af020b22",
   "metadata": {},
   "source": [
    "## Logistic model "
   ]
  },
  {
   "cell_type": "markdown",
   "id": "82758af0-1488-4c11-b6de-f34a11b62600",
   "metadata": {},
   "source": [
    "Since logistic models predict values between 0 and 1, we will convert the ratings into implicit (0) and explicit (1) categories to predict whether users are likely to leave a review or not."
   ]
  },
  {
   "cell_type": "markdown",
   "id": "4861b555-636d-4a93-bcdd-ba5c2b2d9f3d",
   "metadata": {},
   "source": [
    "To get the best values we are going to use a pipeline and a GridSearch"
   ]
  },
  {
   "cell_type": "code",
   "execution_count": 5,
   "id": "f30ffad1-a912-41cc-ab72-a6557b6f071d",
   "metadata": {},
   "outputs": [],
   "source": [
    "X = df_encoded.drop('rating', axis=1)\n",
    "y = df_encoded['rating'].copy()"
   ]
  },
  {
   "cell_type": "code",
   "execution_count": 6,
   "id": "552bd681-78fd-480d-83af-a33369014dfd",
   "metadata": {},
   "outputs": [
    {
     "data": {
      "text/plain": [
       "Index(['age', 'year_of_publication', 'Africa', 'Asia', 'Europe',\n",
       "       'North America', 'Oceania', 'South America', 'author_frequency',\n",
       "       'author_implicit_encoded', 'author_explicit_encoded',\n",
       "       'author_avg_all_reviews', 'publisher_frequency',\n",
       "       'publisher_implicit_encoded', 'publisher_explicit_encoded',\n",
       "       'publisher_avg_all_reviews', 'de', 'en', 'es', 'fr', 'it', 'unknown_lg',\n",
       "       'art & culture', 'business & economics', 'children's books',\n",
       "       'cookbooks', 'fiction', 'health & fitness', 'non-fiction', 'poetry',\n",
       "       'religion & spirituality', 'science & technology', 'self-help',\n",
       "       'unknown_category'],\n",
       "      dtype='object')"
      ]
     },
     "execution_count": 6,
     "metadata": {},
     "output_type": "execute_result"
    }
   ],
   "source": [
    "X.columns"
   ]
  },
  {
   "cell_type": "code",
   "execution_count": 7,
   "id": "1b7f1070-5831-4325-a49f-b32659247706",
   "metadata": {},
   "outputs": [],
   "source": [
    "y = y.apply(lambda x: 1 if 1 <= x <= 10 else x)"
   ]
  },
  {
   "cell_type": "code",
   "execution_count": 8,
   "id": "4536e200-21d1-48c8-8622-a98308d4e0e8",
   "metadata": {},
   "outputs": [
    {
     "data": {
      "text/plain": [
       "29353     1\n",
       "960339    0\n",
       "736352    1\n",
       "383026    0\n",
       "116871    1\n",
       "         ..\n",
       "617001    0\n",
       "594192    0\n",
       "800844    0\n",
       "86325     1\n",
       "765222    0\n",
       "Name: rating, Length: 320000, dtype: int64"
      ]
     },
     "execution_count": 8,
     "metadata": {},
     "output_type": "execute_result"
    }
   ],
   "source": [
    "y"
   ]
  },
  {
   "cell_type": "code",
   "execution_count": 9,
   "id": "664add07-18a2-4363-9628-9dd9590f18fc",
   "metadata": {},
   "outputs": [],
   "source": [
    "estimators = [('normalise', StandardScaler()),\n",
    "              ('reduce_dim', PCA()),\n",
    "              ('logreg', LogisticRegression())]\n",
    "\n",
    "pipe = Pipeline(estimators)\n",
    "\n",
    "params = {'logreg__C': [0.0001, 0.001, 0.1], \n",
    "          'logreg__penalty': ['l1', 'l2'],\n",
    "          'logreg__solver': ['saga', 'liblinear'],\n",
    "          'reduce_dim__n_components': [25, 27, 29]}\n",
    "\n",
    "grid_search = GridSearchCV(pipe, params, cv=5)"
   ]
  },
  {
   "cell_type": "code",
   "execution_count": 10,
   "id": "8987b2da-17b0-4b21-b9a9-032e96c1c60c",
   "metadata": {},
   "outputs": [],
   "source": [
    "X_train, X_test, y_train, y_test = train_test_split(X, y, test_size=0.4, random_state=10)\n",
    "    \n",
    "fitted_search = grid_search.fit(X_train, y_train)"
   ]
  },
  {
   "cell_type": "code",
   "execution_count": 11,
   "id": "d0989bad-eb98-4c05-9d6c-b3ab25d93e39",
   "metadata": {},
   "outputs": [
    {
     "data": {
      "text/plain": [
       "0.6838125"
      ]
     },
     "execution_count": 11,
     "metadata": {},
     "output_type": "execute_result"
    }
   ],
   "source": [
    "fitted_search.score(X_test, y_test)"
   ]
  },
  {
   "cell_type": "code",
   "execution_count": 12,
   "id": "1f721749-07e0-469c-82c2-37a46dbbfbeb",
   "metadata": {},
   "outputs": [
    {
     "data": {
      "text/plain": [
       "{'logreg__C': 0.001,\n",
       " 'logreg__penalty': 'l2',\n",
       " 'logreg__solver': 'saga',\n",
       " 'reduce_dim__n_components': 27}"
      ]
     },
     "execution_count": 12,
     "metadata": {},
     "output_type": "execute_result"
    }
   ],
   "source": [
    "# Best hyperparameters\n",
    "fitted_search.best_params_"
   ]
  },
  {
   "cell_type": "code",
   "execution_count": 13,
   "id": "95bab47d-7b4a-485c-b677-bd6f45b4188f",
   "metadata": {},
   "outputs": [
    {
     "data": {
      "text/plain": [
       "array([0.67191146, 0.6798125 , 0.68236979, 0.68291146, 0.68277083,\n",
       "       0.68276562, 0.67135417, 0.67953646, 0.68222396, 0.68268229,\n",
       "       0.68258854, 0.68258854, 0.67161979, 0.68002604, 0.68235417,\n",
       "       0.68385417, 0.68294271, 0.68295313, 0.67105729, 0.67995313,\n",
       "       0.68229688, 0.68339063, 0.68280729, 0.68272917, 0.67144271,\n",
       "       0.68011979, 0.68213542, 0.68352083, 0.68259896, 0.68246354,\n",
       "       0.67142187, 0.679875  , 0.682125  , 0.68357292, 0.68258333,\n",
       "       0.68255208, 0.67149479, 0.67995313, 0.68213542, 0.68352083,\n",
       "       0.68259896, 0.68252604, 0.67146875, 0.6799375 , 0.68213021,\n",
       "       0.68347917, 0.68254167, 0.68255729, 0.67141146, 0.67988542,\n",
       "       0.68213542, 0.68350521, 0.68257292, 0.68251562, 0.67147396,\n",
       "       0.68006771, 0.682125  , 0.68349479, 0.68256771, 0.68256771,\n",
       "       0.67146875, 0.67993229, 0.68211979, 0.68351562, 0.68255729,\n",
       "       0.68250521, 0.67145833, 0.68016146, 0.68211979, 0.68351042,\n",
       "       0.68255729, 0.68252604, 0.67145833, 0.68011979, 0.682125  ,\n",
       "       0.68351042, 0.68255729, 0.68251042, 0.67146875, 0.68008854,\n",
       "       0.68211458, 0.68351562, 0.6825625 , 0.68254688, 0.67145312,\n",
       "       0.67998958, 0.68211979, 0.68351042, 0.68255208, 0.68251042,\n",
       "       0.67145312, 0.6798125 , 0.68211979, 0.68351562, 0.68255208,\n",
       "       0.68254688])"
      ]
     },
     "execution_count": 13,
     "metadata": {},
     "output_type": "execute_result"
    }
   ],
   "source": [
    "# Mean test score for each CV fold\n",
    "fitted_search.cv_results_['mean_test_score']"
   ]
  },
  {
   "cell_type": "code",
   "execution_count": 14,
   "id": "55b74377-5c6f-4df2-9112-ddb49d046c49",
   "metadata": {},
   "outputs": [
    {
     "data": {
      "text/plain": [
       "0.6839739583333333"
      ]
     },
     "execution_count": 14,
     "metadata": {},
     "output_type": "execute_result"
    }
   ],
   "source": [
    "fitted_search.score(X_train, y_train)"
   ]
  },
  {
   "cell_type": "code",
   "execution_count": 15,
   "id": "311969de-f284-4462-bbae-28337140c9cc",
   "metadata": {},
   "outputs": [
    {
     "data": {
      "text/plain": [
       "0.6838125"
      ]
     },
     "execution_count": 15,
     "metadata": {},
     "output_type": "execute_result"
    }
   ],
   "source": [
    "fitted_search.score(X_test, y_test)"
   ]
  },
  {
   "cell_type": "markdown",
   "id": "1b537b8f-2403-460b-a4c2-e517a199892a",
   "metadata": {},
   "source": [
    "The best Logistic Regression model has..."
   ]
  },
  {
   "cell_type": "markdown",
   "id": "2286894a-0031-44bf-8e5d-5c8c3c81a665",
   "metadata": {},
   "source": [
    "### Evaluation"
   ]
  },
  {
   "cell_type": "code",
   "execution_count": 21,
   "id": "6b9f5957-c2ae-4909-92a0-8e8641af5afb",
   "metadata": {},
   "outputs": [
    {
     "data": {
      "image/png": "[encoded data removed]",
      "text/plain": [
       "<Figure size 640x480 with 1 Axes>"
      ]
     },
     "metadata": {},
     "output_type": "display_data"
    },
    {
     "name": "stdout",
     "output_type": "stream",
     "text": [
      "Area under curve (AUC):0.707320233088464\n",
      "\n"
     ]
    }
   ],
   "source": [
    "# Regenerate scores\n",
    "y_proba = fitted_search.predict_proba(X_test)[:,1]\n",
    "\n",
    "fprs, tprs, thresholds = roc_curve(y_test, y_proba)\n",
    "roc_auc = roc_auc_score(y_test, y_proba)\n",
    "\n",
    "plt.figure()\n",
    "plt.plot(fprs, tprs, color='darkorange',\n",
    "         lw=2, label='AUC = %0.2f' % roc_auc)\n",
    "plt.plot([0, 1], [0, 1], color='navy', lw=2, linestyle='--')\n",
    "plt.xlabel('False Positive Rate (FPR)')\n",
    "plt.ylabel('True Positive Rate (TPR)')\n",
    "plt.title('ROC Curve for Credit Fraud Prediction')\n",
    "plt.legend(loc=\"best\")\n",
    "plt.show()\n",
    "\n",
    "print(f'Area under curve (AUC):{roc_auc}')\n",
    "print()"
   ]
  },
  {
   "cell_type": "code",
   "execution_count": 29,
   "id": "1ca82ceb-fbcb-4845-a51e-c4d488b7efea",
   "metadata": {},
   "outputs": [
    {
     "data": {
      "image/png": "[encoded data removed]",
      "text/plain": [
       "<Figure size 640x480 with 2 Axes>"
      ]
     },
     "metadata": {},
     "output_type": "display_data"
    }
   ],
   "source": [
    "# evaluate on the original test set\n",
    "y_pred = fitted_search.predict(X_test)\n",
    "\n",
    "# Generate confusion matrix\n",
    "cf_matrix = confusion_matrix(y_test, y_pred)\n",
    "\n",
    "# Get target names\n",
    "cols = [\"0\",\"1\"]\n",
    "\n",
    "# Convert to a DataFrame\n",
    "cf_df = pd.DataFrame(\n",
    "    cf_matrix,\n",
    "    columns=['Predicted ' + x for x in cols],\n",
    "    index=['True ' + x for x in cols]\n",
    ")\n",
    "\n",
    "ConfusionMatrixDisplay(cf_matrix).plot()\n",
    "plt.show()"
   ]
  },
  {
   "cell_type": "code",
   "execution_count": 27,
   "id": "7fedd3c8-5e97-4f54-8ade-594ed64f6082",
   "metadata": {},
   "outputs": [
    {
     "name": "stdout",
     "output_type": "stream",
     "text": [
      "TEST SET\n",
      "              precision    recall  f1-score   support\n",
      "\n",
      "           0       0.69      0.90      0.78     81354\n",
      "           1       0.64      0.30      0.41     46646\n",
      "\n",
      "    accuracy                           0.68    128000\n",
      "   macro avg       0.67      0.60      0.60    128000\n",
      "weighted avg       0.67      0.68      0.65    128000\n",
      "\n"
     ]
    }
   ],
   "source": [
    "print(\"TEST SET\")\n",
    "print(classification_report(y_test, y_pred))"
   ]
  },
  {
   "cell_type": "markdown",
   "id": "c73aec1c-d515-41df-ae8e-2e88eadda66f",
   "metadata": {},
   "source": [
    "## KNeighbors Classifier"
   ]
  },
  {
   "cell_type": "markdown",
   "id": "73001d29-b37a-4928-b8d3-0421f4d51d15",
   "metadata": {},
   "source": [
    "This because...\n",
    "\n",
    "To get the best values we are going to use a pipeline and a GridSearch"
   ]
  },
  {
   "cell_type": "code",
   "execution_count": 32,
   "id": "2468a10c-55ad-4d67-bef4-3f261d7a25ce",
   "metadata": {},
   "outputs": [],
   "source": [
    "# Set X and y\n",
    "X = df_encoded.drop('rating', axis=1)\n",
    "y = df_encoded['rating'].copy()\n",
    "\n",
    "# Transform reviews to 0 and 1\n",
    "# y = y.apply(lambda x: 1 if 1 <= x <= 10 else x)\n",
    "\n",
    "# Split the data into train &  test\n",
    "X_train, X_test, y_train, y_test = train_test_split(X, y, test_size=0.4, random_state=10)\n",
    "\n",
    "# Pipeline with KNN\n",
    "estimators = [\n",
    "    ('normalise', StandardScaler()),\n",
    "    ('reduce_dim', PCA()),\n",
    "    ('knn', KNeighborsClassifier())\n",
    "]\n",
    "\n",
    "pipe = Pipeline(estimators)\n",
    "\n",
    "# Parameter grid for grid search\n",
    "params = {\n",
    "    'knn__n_neighbors': [3, 5, 7, 9, 11],\n",
    "    'reduce_dim__n_components': [3, 17, 25, 27, 29, 31]\n",
    "}\n",
    "\n",
    "# Perform the grid search\n",
    "grid_searchKn = GridSearchCV(pipe, params, cv=5)"
   ]
  },
  {
   "cell_type": "code",
   "execution_count": null,
   "id": "4c7abf84-f056-4e69-8b66-7834e4dd7827",
   "metadata": {},
   "outputs": [],
   "source": [
    "fitted_searchKn = grid_searchKn.fit(X_train, y_train)"
   ]
  },
  {
   "cell_type": "code",
   "execution_count": null,
   "id": "d47501b5-a63c-42bc-a61e-eb76a4950af4",
   "metadata": {},
   "outputs": [],
   "source": [
    "# Best estimator object\n",
    "fitted_searchKn.best_estimator_"
   ]
  },
  {
   "cell_type": "code",
   "execution_count": null,
   "id": "37dbfff4-3e86-4e78-8f06-1090effa6ee6",
   "metadata": {},
   "outputs": [],
   "source": [
    "# Best hyperparameters\n",
    "fitted_searchKn.best_params_"
   ]
  },
  {
   "cell_type": "code",
   "execution_count": null,
   "id": "9a9c7eda-d245-49f9-ad57-db147bcedd3d",
   "metadata": {},
   "outputs": [],
   "source": [
    "# Mean test score for each CV fold\n",
    "fitted_searchKn.cv_results_['mean_test_score']"
   ]
  },
  {
   "cell_type": "code",
   "execution_count": null,
   "id": "a26fcec6-ac24-457f-b6e0-fbc17859f257",
   "metadata": {},
   "outputs": [],
   "source": [
    "fitted_searchKn.score(X_train, y_train)"
   ]
  },
  {
   "cell_type": "code",
   "execution_count": null,
   "id": "fdef2c8e-2096-4b5c-8a24-3af283b61194",
   "metadata": {},
   "outputs": [],
   "source": [
    "fitted_searchKn.score(X_test, y_test)"
   ]
  },
  {
   "cell_type": "markdown",
   "id": "18fbf6f1-a967-4939-bccd-f0cca285f725",
   "metadata": {},
   "source": [
    "### Evaluation"
   ]
  },
  {
   "cell_type": "code",
   "execution_count": null,
   "id": "31d92959-99ea-45f1-963c-2faf02226c3a",
   "metadata": {},
   "outputs": [],
   "source": [
    "# Regenerate scores\n",
    "y_proba = fitted_searchKn.predict_proba(X_test)[:,1]\n",
    "\n",
    "fprs, tprs, thresholds = roc_curve(y_test, y_proba)\n",
    "roc_auc = roc_auc_score(y_test, y_proba)\n",
    "\n",
    "plt.figure()\n",
    "plt.plot(fprs, tprs, color='darkorange',\n",
    "         lw=2, label='AUC = %0.2f' % roc_auc)\n",
    "plt.plot([0, 1], [0, 1], color='navy', lw=2, linestyle='--')\n",
    "plt.xlabel('False Positive Rate (FPR)')\n",
    "plt.ylabel('True Positive Rate (TPR)')\n",
    "plt.title('ROC Curve for Credit Fraud Prediction')\n",
    "plt.legend(loc=\"best\")\n",
    "plt.show()\n",
    "\n",
    "print(f'Area under curve (AUC):{roc_auc}')\n",
    "print()"
   ]
  },
  {
   "cell_type": "code",
   "execution_count": null,
   "id": "267b439c-02e0-421f-82de-b391623d3a5b",
   "metadata": {},
   "outputs": [],
   "source": [
    "# evaluate on the original test set\n",
    "y_pred = fitted_searchKn.predict(X_test)\n",
    "\n",
    "# Generate confusion matrix\n",
    "cf_matrix = confusion_matrix(y_test, y_pred)\n",
    "\n",
    "# Get target names\n",
    "cols = [\"0\",\"1\"]\n",
    "\n",
    "# Convert to a DataFrame\n",
    "cf_df = pd.DataFrame(\n",
    "    cf_matrix,\n",
    "    columns=['Predicted ' + x for x in cols],\n",
    "    index=['True ' + x for x in cols]\n",
    ")\n",
    "\n",
    "ConfusionMatrixDisplay(cf_matrix).plot()\n",
    "plt.show()"
   ]
  },
  {
   "cell_type": "code",
   "execution_count": null,
   "id": "f030b4a1-46a3-4b32-aed7-11b4f19bc417",
   "metadata": {},
   "outputs": [],
   "source": [
    "print(\"TEST SET\")\n",
    "print(classification_report(y_test, y_pred))"
   ]
  },
  {
   "cell_type": "markdown",
   "id": "0674041d-cbd8-49be-a268-3983b59e3531",
   "metadata": {},
   "source": [
    "### Insights"
   ]
  },
  {
   "cell_type": "markdown",
   "id": "805f0dee-3200-4cee-ae89-b7683cd1da99",
   "metadata": {},
   "source": [
    "this.."
   ]
  },
  {
   "cell_type": "markdown",
   "id": "50b8b7b1-107d-47b0-9d7c-cca08d1bf03a",
   "metadata": {},
   "source": [
    "## Decision Tree Classifier."
   ]
  },
  {
   "cell_type": "code",
   "execution_count": null,
   "id": "553d17f0-3822-45f4-8b6f-7b5cb65c6a25",
   "metadata": {},
   "outputs": [],
   "source": [
    "# Set X and y\n",
    "X = df_encoded.drop('rating', axis=1)\n",
    "y = df_encoded['rating'].copy()\n",
    "\n",
    "# Transform reviews to 0 and 1\n",
    "# y = y.apply(lambda x: 1 if 1 <= x <= 10 else x)\n",
    "\n",
    "# Split the data into train &  test\n",
    "X_train, X_test, y_train, y_test = train_test_split(X, y, test_size=0.4, random_state=10)\n",
    "\n",
    "estimators = [\n",
    "              ('reduce_dim', PCA()),\n",
    "              ('model', DecisionTreeClassifier(random_state=20))\n",
    "             ]\n",
    "\n",
    "pipe = Pipeline(estimators)\n",
    "\n",
    "param_grid = { \n",
    "              'reduce_dim__n_components': [5, 15, 25],\n",
    "              'model__max_depth': [4, 8, 12, 16, 20],\n",
    "              'model__min_samples_leaf': [1, 3, 6, 9],\n",
    "              'model__min_samples_split': [3, 5, 7, 9] \n",
    "             }\n",
    "\n",
    "gridDTC = GridSearchCV(pipe, param_grid, cv=5)"
   ]
  },
  {
   "cell_type": "code",
   "execution_count": null,
   "id": "feb5cc20-97e3-459a-8fa8-95e11dbe4368",
   "metadata": {},
   "outputs": [],
   "source": [
    "fitted_searchDTC = gridDTC.fit(X_train, y_train)"
   ]
  },
  {
   "cell_type": "code",
   "execution_count": null,
   "id": "d4e68b90-c383-426e-822a-053356b21b00",
   "metadata": {},
   "outputs": [],
   "source": [
    "# Best estimator object\n",
    "fitted_searchDTC.best_estimator_"
   ]
  },
  {
   "cell_type": "code",
   "execution_count": null,
   "id": "0b5af84c-018c-45f5-9ed4-13d73b5cd25b",
   "metadata": {},
   "outputs": [],
   "source": [
    "# Best hyperparameters\n",
    "fitted_searchDTC.best_params_"
   ]
  },
  {
   "cell_type": "code",
   "execution_count": null,
   "id": "d43921a2-577e-465b-8999-65ac940749f5",
   "metadata": {},
   "outputs": [],
   "source": [
    "# Mean test score for each CV fold\n",
    "fitted_searchDTC.cv_results_['mean_test_score']"
   ]
  },
  {
   "cell_type": "code",
   "execution_count": null,
   "id": "33ebf31d-06da-45a1-a9e2-f68670bc32d0",
   "metadata": {},
   "outputs": [],
   "source": [
    "fitted_searchDTC.score(X_train, y_train)"
   ]
  },
  {
   "cell_type": "code",
   "execution_count": null,
   "id": "21e3f7ce-f2ad-48ee-bd73-7a10602703a7",
   "metadata": {},
   "outputs": [],
   "source": [
    "fitted_searchDTC.score(X_test, y_test)"
   ]
  },
  {
   "cell_type": "markdown",
   "id": "1cb76ffd-280e-4d03-8fa0-1631d6f0b444",
   "metadata": {},
   "source": [
    "### Insights"
   ]
  },
  {
   "cell_type": "markdown",
   "id": "8d9c07d8-648a-4e3a-bc9d-36e45bf535d7",
   "metadata": {},
   "source": [
    "the ..."
   ]
  },
  {
   "cell_type": "markdown",
   "id": "f55e534a-a9a6-467f-9f8b-f14b0f7c61ef",
   "metadata": {},
   "source": [
    "### Evaluation"
   ]
  },
  {
   "cell_type": "code",
   "execution_count": null,
   "id": "b99092d4-a532-4e1a-b565-4fc1b4545729",
   "metadata": {},
   "outputs": [],
   "source": [
    "# Regenerate scores\n",
    "y_proba = fitted_searchDTC.predict_proba(X_test)[:,1]\n",
    "\n",
    "fprs, tprs, thresholds = roc_curve(y_test, y_proba)\n",
    "roc_auc = roc_auc_score(y_test, y_proba)\n",
    "\n",
    "plt.figure()\n",
    "plt.plot(fprs, tprs, color='darkorange',\n",
    "         lw=2, label='AUC = %0.2f' % roc_auc)\n",
    "plt.plot([0, 1], [0, 1], color='navy', lw=2, linestyle='--')\n",
    "plt.xlabel('False Positive Rate (FPR)')\n",
    "plt.ylabel('True Positive Rate (TPR)')\n",
    "plt.title('ROC Curve for Credit Fraud Prediction')\n",
    "plt.legend(loc=\"best\")\n",
    "plt.show()\n",
    "\n",
    "print(f'Area under curve (AUC):{roc_auc}')\n",
    "print()"
   ]
  },
  {
   "cell_type": "code",
   "execution_count": null,
   "id": "fb5000a6-b88f-4d96-abfc-6a736e3e0078",
   "metadata": {},
   "outputs": [],
   "source": [
    "# evaluate on the original test set\n",
    "y_pred = fitted_searchDTC.predict(X_test)\n",
    "\n",
    "# Generate confusion matrix\n",
    "cf_matrix = confusion_matrix(y_test, y_pred)\n",
    "\n",
    "# Get target names\n",
    "cols = [\"0\",\"1\"]\n",
    "\n",
    "# Convert to a DataFrame\n",
    "cf_df = pd.DataFrame(\n",
    "    cf_matrix,\n",
    "    columns=['Predicted ' + x for x in cols],\n",
    "    index=['True ' + x for x in cols]\n",
    ")\n",
    "\n",
    "ConfusionMatrixDisplay(cf_matrix).plot()\n",
    "plt.show()"
   ]
  },
  {
   "cell_type": "code",
   "execution_count": null,
   "id": "59e642c4-7898-4d2c-9d4b-23f1e0b31902",
   "metadata": {},
   "outputs": [],
   "source": [
    "print(\"TEST SET\")\n",
    "print(classification_report(y_test, y_pred))"
   ]
  },
  {
   "cell_type": "markdown",
   "id": "7cf0b6c0-b9ab-41e1-92e1-0f8f325b0680",
   "metadata": {},
   "source": [
    "### Insights"
   ]
  },
  {
   "cell_type": "markdown",
   "id": "9233d757-304b-4c75-bed1-d3d50e6ae08b",
   "metadata": {},
   "source": [
    "This..."
   ]
  },
  {
   "cell_type": "code",
   "execution_count": null,
   "id": "0a00a690-2044-466a-917c-003d055efe37",
   "metadata": {},
   "outputs": [],
   "source": []
  },
  {
   "cell_type": "markdown",
   "id": "6ec41e25-21f3-4329-96c5-25aa442c78cc",
   "metadata": {},
   "source": [
    "## Summary"
   ]
  },
  {
   "cell_type": "code",
   "execution_count": null,
   "id": "29bc4c28-329f-4e42-a936-7b016fd7a99d",
   "metadata": {},
   "outputs": [],
   "source": []
  },
  {
   "cell_type": "code",
   "execution_count": null,
   "id": "ecbfe024-2846-4231-a44f-0fc5461fe440",
   "metadata": {},
   "outputs": [],
   "source": []
  },
  {
   "cell_type": "code",
   "execution_count": null,
   "id": "bb9361c5-214a-44df-8f95-74a9baa3e7e7",
   "metadata": {},
   "outputs": [],
   "source": []
  },
  {
   "cell_type": "code",
   "execution_count": null,
   "id": "51d15486-d2f1-436f-9aee-9ca6557b506d",
   "metadata": {},
   "outputs": [],
   "source": []
  }
 ],
 "metadata": {
  "kernelspec": {
   "display_name": "capstone_env",
   "language": "python",
   "name": "capstone_env"
  },
  "language_info": {
   "codemirror_mode": {
    "name": "ipython",
    "version": 3
   },
   "file_extension": ".py",
   "mimetype": "text/x-python",
   "name": "python",
   "nbconvert_exporter": "python",
   "pygments_lexer": "ipython3",
   "version": "3.8.20"
  }
 },
 "nbformat": 4,
 "nbformat_minor": 5
}
