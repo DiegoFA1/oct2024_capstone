{
 "cells": [
  {
   "cell_type": "markdown",
   "id": "ee1e2317-2e4b-407f-89da-6e372542b7e3",
   "metadata": {},
   "source": [
    "# Advanced EDA"
   ]
  },
  {
   "cell_type": "markdown",
   "id": "2416de26-54e1-4046-b927-e46a47c2a6a8",
   "metadata": {},
   "source": [
    "Now that we have completed the preprocessing of the data, we can analyze the relationships between the numeric variables and our target variable, which in this case is ratings. Additionally, we can examine the relationships among the dependent variables. This exploration helps us gain a deeper understanding of the data before proceeding to modeling."
   ]
  },
  {
   "cell_type": "code",
   "execution_count": null,
   "id": "d915e8da-b365-45e0-be51-077f0297934a",
   "metadata": {},
   "outputs": [],
   "source": [
    "import numpy as np \n",
    "import pandas as pd\n",
    "import matplotlib.pyplot as plt\n",
    "import seaborn as sns"
   ]
  },
  {
   "cell_type": "code",
   "execution_count": null,
   "id": "ed27209c-c046-4b59-9bbc-8f95ffaf6e9e",
   "metadata": {},
   "outputs": [],
   "source": [
    "df = pd.read_csv('../data/PostBooksEDA.csv', index_col=0)\n",
    "df_encoded = pd.read_csv('../data/PostEncodedBooksEDA.csv', index_col=0)"
   ]
  },
  {
   "cell_type": "markdown",
   "id": "a7627e61-280e-4a16-b9a9-dc6f5ea311ad",
   "metadata": {},
   "source": [
    "## Correlations"
   ]
  },
  {
   "cell_type": "markdown",
   "id": "5b641ef3-1f9e-4188-acc1-70f59cbe0e23",
   "metadata": {},
   "source": [
    "One of the key aspects that provide valuable insights, especially for logistic models, is examining correlations. Therefore, we will analyze our encoded dataframe to identify which variables might interfere with one another."
   ]
  },
  {
   "cell_type": "code",
   "execution_count": null,
   "id": "5ba42ab6-6871-48c8-bc32-da1bfd1d9c73",
   "metadata": {},
   "outputs": [],
   "source": [
    "X = df_encoded.drop('rating', axis=1)\n",
    "y = df_encoded['rating'].copy()"
   ]
  },
  {
   "cell_type": "code",
   "execution_count": null,
   "id": "20099a50-728c-48dd-9874-ae698b281e79",
   "metadata": {},
   "outputs": [],
   "source": [
    "# Calculate all the correlations between each independent variable\n",
    "corr_df = X.corr()\n",
    "\n",
    "# Mask for upper triangular\n",
    "mask = np.triu(corr_df)\n",
    "\n",
    "# Visualize \n",
    "plt.figure(figsize=(20, 20))\n",
    "sns.heatmap(corr_df.round(2), annot=True, vmax=1, vmin=-1, center=0, cmap='coolwarm', mask=mask)\n",
    "plt.show()"
   ]
  },
  {
   "cell_type": "markdown",
   "id": "89754cbb-b8b1-4856-b7cd-405531328b19",
   "metadata": {},
   "source": [
    "We observe similar correlations between the columns encoded using frequency and mean encoding. This is expected, as the primary goal was to provide as much contextual value as possible to these columns. However, given the high correlations, it might be practical to drop one of these columns before modeling.\n",
    "\n",
    "We also observe a high correlation between the unkown values in the language and book category columns. This occurs because most of the values in the dataset are unknown. Dropping the unkown columns could help models uncover better relationships among the less common variables.\n",
    "\n",
    "North America, being the leading category among continents, shows some correlation with other continent values. Dropping one of these continents could improve the model's performance.\n",
    "\n",
    "Summary: For Logistic models, drop Europe, Unkown_lg and Unkown_Category, and avg of all reviews."
   ]
  },
  {
   "cell_type": "markdown",
   "id": "4eaade6e-cc92-4a36-9ec9-9cccd5129df2",
   "metadata": {},
   "source": [
    "## Relationship between the data"
   ]
  },
  {
   "cell_type": "markdown",
   "id": "e187f562-30d7-4b8d-8c91-8b23a4105ff5",
   "metadata": {},
   "source": [
    "### Distribution of the numerical data"
   ]
  },
  {
   "cell_type": "code",
   "execution_count": null,
   "id": "b63a5ecb-3e1a-4752-b01a-34c83df6ef62",
   "metadata": {},
   "outputs": [],
   "source": [
    "X.columns"
   ]
  },
  {
   "cell_type": "code",
   "execution_count": null,
   "id": "15d8dfae-b784-4bc0-b6c9-0ff328faa733",
   "metadata": {},
   "outputs": [],
   "source": [
    "X_numerical = X[['age', 'year_of_publication', 'author_frequency', 'author_implicit_encoded',\n",
    " 'author_explicit_encoded', 'author_avg_all_reviews', 'publisher_frequency',\n",
    " 'publisher_implicit_encoded', 'publisher_explicit_encoded', 'publisher_avg_all_reviews']]"
   ]
  },
  {
   "cell_type": "code",
   "execution_count": null,
   "id": "95c369ce-cd2a-4519-ba4d-a8b3d692ac8f",
   "metadata": {},
   "outputs": [],
   "source": [
    "plt.subplots(5, 2, figsize=(15, 20))\n",
    "\n",
    "# Plotting\n",
    "for i, column in enumerate(X_numerical.columns, 1):\n",
    "    plt.subplot(5,2, i)\n",
    "    plt.hist(X_numerical[column])\n",
    "    plt.title(column)\n",
    "    \n",
    "plt.tight_layout(pad=0.5, w_pad=0.5, h_pad=5.0)"
   ]
  },
  {
   "cell_type": "markdown",
   "id": "8c3b2d5a-fac8-4539-a2b4-03c89270c9b8",
   "metadata": {},
   "source": [
    "The majority of readers fall between the ages of 20 and 50, with a peak in the 30–40 range, while book publications are heavily concentrated post-1900, particularly around the year 2000.\n",
    "\n",
    "Both author and publisher frequencies exhibit strong right skewness, indicating that a small number of contributors dominate the dataset, whereas the majority have limited representation\n",
    "\n",
    "Encoded variables for authors and publishers, both implicit and explicit, are centered but lean towards higher values, suggesting consistent scoring patterns. Interestingly, the average reviews per author and publisher remain low, with most clustered below two.\n",
    "\n",
    "These trends point to a dataset dominated by modern publications and a mix of high-frequency contributors and less-recognized entities"
   ]
  },
  {
   "cell_type": "markdown",
   "id": "d180b26d-6453-437d-aedb-f83df7f5b210",
   "metadata": {},
   "source": [
    "## Categorical data relationship with Target variable"
   ]
  },
  {
   "cell_type": "code",
   "execution_count": null,
   "id": "8e3d33b6-1239-4272-97d1-98c3f0b25cad",
   "metadata": {},
   "outputs": [],
   "source": [
    "X_categorical = X.drop(columns=['age', 'year_of_publication', 'author_frequency', 'author_implicit_encoded',\n",
    " 'author_explicit_encoded', 'author_avg_all_reviews', 'publisher_frequency',\n",
    " 'publisher_implicit_encoded', 'publisher_explicit_encoded', 'publisher_avg_all_reviews'], axis=1)"
   ]
  },
  {
   "cell_type": "code",
   "execution_count": null,
   "id": "3d159c64-0572-4f55-92f4-7bd913c4b242",
   "metadata": {},
   "outputs": [],
   "source": [
    "X_categorical"
   ]
  },
  {
   "cell_type": "code",
   "execution_count": null,
   "id": "83b207b2-9ef8-4231-a40e-12d72a767925",
   "metadata": {},
   "outputs": [],
   "source": [
    "for col in X_categorical.columns:\n",
    "    plt.figure(figsize=(10, 6))\n",
    "    \n",
    "    # Create a dataframe for the categorical column and the target\n",
    "    data = X_categorical.assign(y=y)\n",
    "    \n",
    "    # Filter data where the column value is 1\n",
    "    filtered_data = data[data[col] == 1]\n",
    "    \n",
    "    # Grouped bar plot with target on the x-axis\n",
    "    grouped_data = filtered_data.groupby(['y', col]).size().reset_index(name='count')\n",
    "    sns.barplot(data=grouped_data, x='y', y='count', hue=col, palette='Set2')\n",
    "\n",
    "    # Add plot title and labels\n",
    "    plt.title(f\"Distribution of {col} by Target (Only 1s)\")\n",
    "    plt.xlabel(\"Rating\")\n",
    "    plt.ylabel(\"Count\")\n",
    "    plt.legend(title=col, loc='upper right')\n",
    "    plt.show()"
   ]
  },
  {
   "cell_type": "markdown",
   "id": "ea09b938-1e86-4bca-a537-1ca0ac0bf7cf",
   "metadata": {},
   "source": [
    "## Insights"
   ]
  },
  {
   "cell_type": "markdown",
   "id": "69144f9b-9537-48ad-b564-bb288735c099",
   "metadata": {},
   "source": [
    "### Continent"
   ]
  },
  {
   "cell_type": "markdown",
   "id": "43daab38-cd9d-4937-834b-c16017cd40a3",
   "metadata": {},
   "source": [
    "Books from North America and Europe overwhelmingly dominate the dataset in representation, with North America having the highest count of 0 target values. However, both continents display consistent increases in higher target ratings (7–10), affirming their substantial contributions to top-rated books. Ohter continents show similar patterns, with a smaller presence overall but a notable contribution to higher target values, reflecting niche but impactful content from these regions."
   ]
  },
  {
   "cell_type": "markdown",
   "id": "e4270617-7496-4f78-8042-32de6d24bbbb",
   "metadata": {},
   "source": [
    "### Language"
   ]
  },
  {
   "cell_type": "markdown",
   "id": "76e18347-23ed-4ed2-a07b-1f9a92fae94d",
   "metadata": {},
   "source": [
    "English books show a consistent rise in ratings for higher target values (7–10), indicating strong contributions to top-rated books. Other languages like German (de), Spanish (es), French (fr), and Italian (it) have smaller overall representations but follow a similar trend, with a steady increase in higher target values.\n",
    "\n",
    "The unknown language category (unknown_lg) also exhibits a significant count of 0 values but performs well in higher targets, emphasizing that unclassified language books can still resonate positively with audiences."
   ]
  },
  {
   "cell_type": "markdown",
   "id": "5b859eb5-cdac-4fe9-8cc6-f4a83951c468",
   "metadata": {},
   "source": [
    "### Book Categories"
   ]
  },
  {
   "cell_type": "markdown",
   "id": "39d0d23d-02d8-414b-b182-bc1f662abc10",
   "metadata": {},
   "source": [
    "The fiction category stands out as the most dominant, with a large number of books at 0 target values but a steady and consistent rise in ratings for higher targets (7–10), showcasing its widespread appeal and consistent high ratings.\n",
    "\n",
    "Niche categories like children’s books, cookbooks, poetry, religion & spirituality, and science & technology also show smaller overall engagement but have significant positive ratings in the higher target range, reflecting their strong appeal to their audiences.\n",
    "\n",
    "The unknown category, despite its broad representation and many 0 values, demonstrates diversity and quality in higher ratings, suggesting unclassified books can perform well with audiences on this dataset."
   ]
  },
  {
   "cell_type": "markdown",
   "id": "09dd08ea-9b66-4d84-9113-354cf7f95a65",
   "metadata": {},
   "source": [
    "## Overall Patterns"
   ]
  },
  {
   "cell_type": "markdown",
   "id": "7d4ad641-8646-49ea-acac-5fb36d34afa6",
   "metadata": {},
   "source": [
    "The data reveals consistent patterns across languages, continents, and book categories. Most distributions are dominated by books with 0 target values, indicating lower overall engagement for a significant portion of the dataset. However, there is a clear and steady rise in ratings for higher target values (7–10) across all groups. This suggests that while many books may not be widely interacted with, those that do receive ratings tend to perform well, highlighting their appeal to niche or specific audiences."
   ]
  },
  {
   "cell_type": "markdown",
   "id": "3f57700e-00d0-4a12-83b9-2e9fdb9f339e",
   "metadata": {},
   "source": [
    "## Insights for modeling"
   ]
  },
  {
   "cell_type": "markdown",
   "id": "f771398c-d68e-4eca-96f2-93cb59d94fb6",
   "metadata": {},
   "source": [
    "Most groups have a significant number of books with 0 rating. This indicates class imbalance, which could affect model performance. \n",
    "\n",
    "The data’s imbalance, skewness, and group-specific trends needs a modeling approach that balances the dominance of the majority class (0 ratings) with the importance of high ratings (7–10). "
   ]
  },
  {
   "cell_type": "markdown",
   "id": "cffe575c-feed-43da-b892-b1ede5b7060f",
   "metadata": {},
   "source": [
    "## Insights for Business"
   ]
  },
  {
   "cell_type": "markdown",
   "id": "f9328b70-962c-49e9-b311-c255867eb3c1",
   "metadata": {},
   "source": [
    "North America and Europe dominate the dataset in terms of representation, highlighting these as primary markets for books.\n",
    "\n",
    "Books in languages like Spanish, German, and French exhibit high-quality performance, indicating opportunities to diversify offerings in these languages."
   ]
  },
  {
   "cell_type": "markdown",
   "id": "bc4be8b3-710a-45e9-bdc4-64da0b4e3dd3",
   "metadata": {},
   "source": [
    "Fiction is the most dominant category, showcasing widespread appeal and consistent high ratings. Businesses should prioritize fiction in their inventory and promotions to meet broad audience demand. However, niche categories such as self-help, science & technology, and poetry, while smaller in volume, show significant positive ratings in higher target ranges."
   ]
  },
  {
   "cell_type": "markdown",
   "id": "abc5ac0e-b2e9-4692-badb-6a6e774844d9",
   "metadata": {},
   "source": [
    "The `unknown_category` and `unknown_lg` groups demonstrate diversity and notable performance in higher ratings, despite their unclassified nature. Businesses can explore better metadata tagging for these groups to uncover hidden value and refine their categorization processes to target these potential high-performing books more effective"
   ]
  },
  {
   "cell_type": "markdown",
   "id": "24d04b15-1cb6-472b-82ac-4db713d998de",
   "metadata": {},
   "source": [
    "Since higher ratings correlate with increased engagement, businesses should encourage reviews and ratings for their books. Furhtermore, the large number of books with 0 target values indicates potential underperformance or a lack of audience interaction. Businesses should analyze these segments further to identify whether the issue is content relevance, marketing strategy, or discoverability, and develop targeted interventions to improve engagement."
   ]
  }
 ],
 "metadata": {
  "kernelspec": {
   "display_name": "capstone_env",
   "language": "python",
   "name": "capstone_env"
  },
  "language_info": {
   "codemirror_mode": {
    "name": "ipython",
    "version": 3
   },
   "file_extension": ".py",
   "mimetype": "text/x-python",
   "name": "python",
   "nbconvert_exporter": "python",
   "pygments_lexer": "ipython3",
   "version": "3.8.20"
  }
 },
 "nbformat": 4,
 "nbformat_minor": 5
}
