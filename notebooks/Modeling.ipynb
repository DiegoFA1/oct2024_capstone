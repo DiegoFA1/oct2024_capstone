{
 "cells": [
  {
   "cell_type": "code",
   "execution_count": null,
   "id": "a8280670-4970-41b3-b7b3-da64beb02c96",
   "metadata": {},
   "outputs": [],
   "source": []
  }
 ],
 "metadata": {
  "kernelspec": {
   "display_name": "",
   "name": ""
  },
  "language_info": {
   "name": ""
  }
 },
 "nbformat": 4,
 "nbformat_minor": 5
}
