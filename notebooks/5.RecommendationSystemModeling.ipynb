{
 "cells": [
  {
   "cell_type": "code",
   "execution_count": 1,
   "id": "f1bb9845-d618-4fe6-98b1-113d2fdde684",
   "metadata": {},
   "outputs": [],
   "source": [
    "import numpy as np \n",
    "import pandas as pd\n",
    "import matplotlib.pyplot as plt\n",
    "import seaborn as sns\n",
    "# Ignore futurewarnings\n",
    "import warnings\n",
    "warnings.filterwarnings('ignore')"
   ]
  },
  {
   "cell_type": "code",
   "execution_count": 2,
   "id": "e557cb83-3fc4-4121-bddd-af1fb3e7d283",
   "metadata": {},
   "outputs": [],
   "source": [
    "df = pd.read_csv('../data/PostBooksEDA.csv', index_col=0)\n",
    "df_encoded = pd.read_csv('../data/PostEncodedBooksEDA.csv', index_col=0)"
   ]
  },
  {
   "cell_type": "markdown",
   "id": "8e1f00b2-ce7d-4859-8c13-2afdaec5666f",
   "metadata": {},
   "source": [
    "# Content Based Recommendations"
   ]
  },
  {
   "cell_type": "markdown",
   "id": "cee65102-377d-41d9-b832-3e389edbbc55",
   "metadata": {},
   "source": [
    "These recommendation engines are built around the idea if a user likes some item (or a particular basket of items) then they will like similar items based on the item content/description. If I watched the Avengers, then I probably would want to watch other superhero-themed movies. If we look at a few books along with their descriptions:"
   ]
  },
  {
   "cell_type": "code",
   "execution_count": 3,
   "id": "1f64c1a2-3131-4b36-aa4d-c386c2a81f77",
   "metadata": {},
   "outputs": [
    {
     "data": {
      "text/html": [
       "<div>\n",
       "<style scoped>\n",
       "    .dataframe tbody tr th:only-of-type {\n",
       "        vertical-align: middle;\n",
       "    }\n",
       "\n",
       "    .dataframe tbody tr th {\n",
       "        vertical-align: top;\n",
       "    }\n",
       "\n",
       "    .dataframe thead th {\n",
       "        text-align: right;\n",
       "    }\n",
       "</style>\n",
       "<table border=\"1\" class=\"dataframe\">\n",
       "  <thead>\n",
       "    <tr style=\"text-align: right;\">\n",
       "      <th></th>\n",
       "      <th>book_title</th>\n",
       "      <th>category</th>\n",
       "    </tr>\n",
       "  </thead>\n",
       "  <tbody>\n",
       "    <tr>\n",
       "      <th>0</th>\n",
       "      <td>Classical Mythology</td>\n",
       "      <td>science &amp; technology</td>\n",
       "    </tr>\n",
       "    <tr>\n",
       "      <th>1</th>\n",
       "      <td>Clara Callan</td>\n",
       "      <td>unknown_category</td>\n",
       "    </tr>\n",
       "    <tr>\n",
       "      <th>2</th>\n",
       "      <td>Clara Callan</td>\n",
       "      <td>unknown_category</td>\n",
       "    </tr>\n",
       "    <tr>\n",
       "      <th>4</th>\n",
       "      <td>Clara Callan</td>\n",
       "      <td>unknown_category</td>\n",
       "    </tr>\n",
       "    <tr>\n",
       "      <th>5</th>\n",
       "      <td>Clara Callan</td>\n",
       "      <td>unknown_category</td>\n",
       "    </tr>\n",
       "    <tr>\n",
       "      <th>6</th>\n",
       "      <td>Clara Callan</td>\n",
       "      <td>unknown_category</td>\n",
       "    </tr>\n",
       "    <tr>\n",
       "      <th>7</th>\n",
       "      <td>Clara Callan</td>\n",
       "      <td>unknown_category</td>\n",
       "    </tr>\n",
       "    <tr>\n",
       "      <th>9</th>\n",
       "      <td>Clara Callan</td>\n",
       "      <td>unknown_category</td>\n",
       "    </tr>\n",
       "    <tr>\n",
       "      <th>10</th>\n",
       "      <td>Clara Callan</td>\n",
       "      <td>unknown_category</td>\n",
       "    </tr>\n",
       "    <tr>\n",
       "      <th>11</th>\n",
       "      <td>Clara Callan</td>\n",
       "      <td>unknown_category</td>\n",
       "    </tr>\n",
       "  </tbody>\n",
       "</table>\n",
       "</div>"
      ],
      "text/plain": [
       "             book_title              category\n",
       "0   Classical Mythology  science & technology\n",
       "1          Clara Callan      unknown_category\n",
       "2          Clara Callan      unknown_category\n",
       "4          Clara Callan      unknown_category\n",
       "5          Clara Callan      unknown_category\n",
       "6          Clara Callan      unknown_category\n",
       "7          Clara Callan      unknown_category\n",
       "9          Clara Callan      unknown_category\n",
       "10         Clara Callan      unknown_category\n",
       "11         Clara Callan      unknown_category"
      ]
     },
     "execution_count": 3,
     "metadata": {},
     "output_type": "execute_result"
    }
   ],
   "source": [
    "df_descriptions = df[['book_title', 'category']]\n",
    "df_descriptions.head(10)"
   ]
  },
  {
   "cell_type": "code",
   "execution_count": null,
   "id": "d423543b-8a7c-4c95-8825-c65d5c22a2b6",
   "metadata": {},
   "outputs": [],
   "source": []
  },
  {
   "cell_type": "code",
   "execution_count": null,
   "id": "e40a928f-c752-44de-89ca-1c1446aa4761",
   "metadata": {},
   "outputs": [],
   "source": []
  },
  {
   "cell_type": "code",
   "execution_count": null,
   "id": "01306ba7-a2c2-4d45-8f93-920c6d57354c",
   "metadata": {},
   "outputs": [],
   "source": []
  },
  {
   "cell_type": "code",
   "execution_count": null,
   "id": "b1954835-64f3-46a6-9c62-d365f2c3cb2a",
   "metadata": {},
   "outputs": [],
   "source": []
  },
  {
   "cell_type": "code",
   "execution_count": null,
   "id": "d66df42d-f4bd-4b3b-be50-1c70feb3b79d",
   "metadata": {},
   "outputs": [],
   "source": []
  }
 ],
 "metadata": {
  "kernelspec": {
   "display_name": "capstone_env",
   "language": "python",
   "name": "capstone_env"
  },
  "language_info": {
   "codemirror_mode": {
    "name": "ipython",
    "version": 3
   },
   "file_extension": ".py",
   "mimetype": "text/x-python",
   "name": "python",
   "nbconvert_exporter": "python",
   "pygments_lexer": "ipython3",
   "version": "3.8.20"
  }
 },
 "nbformat": 4,
 "nbformat_minor": 5
}
