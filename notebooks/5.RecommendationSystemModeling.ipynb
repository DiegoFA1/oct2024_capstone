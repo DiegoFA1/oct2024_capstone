{
 "cells": [
  {
   "cell_type": "code",
   "execution_count": 1,
   "id": "f1bb9845-d618-4fe6-98b1-113d2fdde684",
   "metadata": {},
   "outputs": [],
   "source": [
    "import numpy as np \n",
    "import pandas as pd\n",
    "import matplotlib.pyplot as plt\n",
    "import seaborn as sns\n",
    "from sklearn.feature_extraction.text import TfidfVectorizer\n",
    "from sklearn.metrics.pairwise import cosine_similarity\n",
    "from scipy.sparse import lil_matrix\n",
    "from sklearn.model_selection import train_test_split\n",
    "\n",
    "# Ignore futurewarnings\n",
    "import warnings\n",
    "warnings.filterwarnings('ignore')"
   ]
  },
  {
   "cell_type": "code",
   "execution_count": 2,
   "id": "e557cb83-3fc4-4121-bddd-af1fb3e7d283",
   "metadata": {},
   "outputs": [],
   "source": [
    "df = pd.read_csv('../data/PostBooksEDA.csv', index_col=0)\n",
    "df_books = pd.read_csv('../data/Books_data.csv', index_col=0)"
   ]
  },
  {
   "cell_type": "code",
   "execution_count": 3,
   "id": "02e06d03-701e-4521-bfde-176e52997837",
   "metadata": {},
   "outputs": [
    {
     "data": {
      "text/html": [
       "<div>\n",
       "<style scoped>\n",
       "    .dataframe tbody tr th:only-of-type {\n",
       "        vertical-align: middle;\n",
       "    }\n",
       "\n",
       "    .dataframe tbody tr th {\n",
       "        vertical-align: top;\n",
       "    }\n",
       "\n",
       "    .dataframe thead th {\n",
       "        text-align: right;\n",
       "    }\n",
       "</style>\n",
       "<table border=\"1\" class=\"dataframe\">\n",
       "  <thead>\n",
       "    <tr style=\"text-align: right;\">\n",
       "      <th></th>\n",
       "      <th>user_id</th>\n",
       "      <th>age</th>\n",
       "      <th>isbn</th>\n",
       "      <th>rating</th>\n",
       "      <th>book_title</th>\n",
       "      <th>book_author</th>\n",
       "      <th>year_of_publication</th>\n",
       "      <th>publisher</th>\n",
       "      <th>language</th>\n",
       "      <th>category</th>\n",
       "      <th>continent</th>\n",
       "      <th>author_frequency</th>\n",
       "      <th>author_implicit_encoded</th>\n",
       "      <th>author_explicit_encoded</th>\n",
       "      <th>author_avg_all_reviews</th>\n",
       "      <th>publisher_frequency</th>\n",
       "      <th>publisher_implicit_encoded</th>\n",
       "      <th>publisher_explicit_encoded</th>\n",
       "      <th>publisher_avg_all_reviews</th>\n",
       "    </tr>\n",
       "  </thead>\n",
       "  <tbody>\n",
       "    <tr>\n",
       "      <th>0</th>\n",
       "      <td>2</td>\n",
       "      <td>18.0000</td>\n",
       "      <td>0195153448</td>\n",
       "      <td>0</td>\n",
       "      <td>Classical Mythology</td>\n",
       "      <td>Mark P. O. Morford</td>\n",
       "      <td>2002.0</td>\n",
       "      <td>Oxford University Press</td>\n",
       "      <td>en</td>\n",
       "      <td>science &amp; technology</td>\n",
       "      <td>North America</td>\n",
       "      <td>2</td>\n",
       "      <td>0.500000</td>\n",
       "      <td>7.000000</td>\n",
       "      <td>3.5</td>\n",
       "      <td>2542</td>\n",
       "      <td>0.564123</td>\n",
       "      <td>7.750000</td>\n",
       "      <td>3.378049</td>\n",
       "    </tr>\n",
       "    <tr>\n",
       "      <th>1</th>\n",
       "      <td>8</td>\n",
       "      <td>34.7439</td>\n",
       "      <td>0002005018</td>\n",
       "      <td>5</td>\n",
       "      <td>Clara Callan</td>\n",
       "      <td>Richard Bruce Wright</td>\n",
       "      <td>2001.0</td>\n",
       "      <td>HarperFlamingo Canada</td>\n",
       "      <td>en</td>\n",
       "      <td>unknown_category</td>\n",
       "      <td>North America</td>\n",
       "      <td>13</td>\n",
       "      <td>0.461538</td>\n",
       "      <td>7.428571</td>\n",
       "      <td>4.0</td>\n",
       "      <td>45</td>\n",
       "      <td>0.533333</td>\n",
       "      <td>7.333333</td>\n",
       "      <td>3.422222</td>\n",
       "    </tr>\n",
       "    <tr>\n",
       "      <th>2</th>\n",
       "      <td>11400</td>\n",
       "      <td>49.0000</td>\n",
       "      <td>0002005018</td>\n",
       "      <td>0</td>\n",
       "      <td>Clara Callan</td>\n",
       "      <td>Richard Bruce Wright</td>\n",
       "      <td>2001.0</td>\n",
       "      <td>HarperFlamingo Canada</td>\n",
       "      <td>en</td>\n",
       "      <td>unknown_category</td>\n",
       "      <td>North America</td>\n",
       "      <td>13</td>\n",
       "      <td>0.461538</td>\n",
       "      <td>7.428571</td>\n",
       "      <td>4.0</td>\n",
       "      <td>45</td>\n",
       "      <td>0.533333</td>\n",
       "      <td>7.333333</td>\n",
       "      <td>3.422222</td>\n",
       "    </tr>\n",
       "    <tr>\n",
       "      <th>4</th>\n",
       "      <td>41385</td>\n",
       "      <td>34.7439</td>\n",
       "      <td>0002005018</td>\n",
       "      <td>0</td>\n",
       "      <td>Clara Callan</td>\n",
       "      <td>Richard Bruce Wright</td>\n",
       "      <td>2001.0</td>\n",
       "      <td>HarperFlamingo Canada</td>\n",
       "      <td>en</td>\n",
       "      <td>unknown_category</td>\n",
       "      <td>North America</td>\n",
       "      <td>13</td>\n",
       "      <td>0.461538</td>\n",
       "      <td>7.428571</td>\n",
       "      <td>4.0</td>\n",
       "      <td>45</td>\n",
       "      <td>0.533333</td>\n",
       "      <td>7.333333</td>\n",
       "      <td>3.422222</td>\n",
       "    </tr>\n",
       "    <tr>\n",
       "      <th>5</th>\n",
       "      <td>67544</td>\n",
       "      <td>30.0000</td>\n",
       "      <td>0002005018</td>\n",
       "      <td>8</td>\n",
       "      <td>Clara Callan</td>\n",
       "      <td>Richard Bruce Wright</td>\n",
       "      <td>2001.0</td>\n",
       "      <td>HarperFlamingo Canada</td>\n",
       "      <td>en</td>\n",
       "      <td>unknown_category</td>\n",
       "      <td>North America</td>\n",
       "      <td>13</td>\n",
       "      <td>0.461538</td>\n",
       "      <td>7.428571</td>\n",
       "      <td>4.0</td>\n",
       "      <td>45</td>\n",
       "      <td>0.533333</td>\n",
       "      <td>7.333333</td>\n",
       "      <td>3.422222</td>\n",
       "    </tr>\n",
       "  </tbody>\n",
       "</table>\n",
       "</div>"
      ],
      "text/plain": [
       "   user_id      age        isbn  rating           book_title  \\\n",
       "0        2  18.0000  0195153448       0  Classical Mythology   \n",
       "1        8  34.7439  0002005018       5         Clara Callan   \n",
       "2    11400  49.0000  0002005018       0         Clara Callan   \n",
       "4    41385  34.7439  0002005018       0         Clara Callan   \n",
       "5    67544  30.0000  0002005018       8         Clara Callan   \n",
       "\n",
       "            book_author  year_of_publication                publisher  \\\n",
       "0    Mark P. O. Morford               2002.0  Oxford University Press   \n",
       "1  Richard Bruce Wright               2001.0    HarperFlamingo Canada   \n",
       "2  Richard Bruce Wright               2001.0    HarperFlamingo Canada   \n",
       "4  Richard Bruce Wright               2001.0    HarperFlamingo Canada   \n",
       "5  Richard Bruce Wright               2001.0    HarperFlamingo Canada   \n",
       "\n",
       "  language              category      continent  author_frequency  \\\n",
       "0       en  science & technology  North America                 2   \n",
       "1       en      unknown_category  North America                13   \n",
       "2       en      unknown_category  North America                13   \n",
       "4       en      unknown_category  North America                13   \n",
       "5       en      unknown_category  North America                13   \n",
       "\n",
       "   author_implicit_encoded  author_explicit_encoded  author_avg_all_reviews  \\\n",
       "0                 0.500000                 7.000000                     3.5   \n",
       "1                 0.461538                 7.428571                     4.0   \n",
       "2                 0.461538                 7.428571                     4.0   \n",
       "4                 0.461538                 7.428571                     4.0   \n",
       "5                 0.461538                 7.428571                     4.0   \n",
       "\n",
       "   publisher_frequency  publisher_implicit_encoded  \\\n",
       "0                 2542                    0.564123   \n",
       "1                   45                    0.533333   \n",
       "2                   45                    0.533333   \n",
       "4                   45                    0.533333   \n",
       "5                   45                    0.533333   \n",
       "\n",
       "   publisher_explicit_encoded  publisher_avg_all_reviews  \n",
       "0                    7.750000                   3.378049  \n",
       "1                    7.333333                   3.422222  \n",
       "2                    7.333333                   3.422222  \n",
       "4                    7.333333                   3.422222  \n",
       "5                    7.333333                   3.422222  "
      ]
     },
     "execution_count": 3,
     "metadata": {},
     "output_type": "execute_result"
    }
   ],
   "source": [
    "df.head()"
   ]
  },
  {
   "cell_type": "markdown",
   "id": "8e1f00b2-ce7d-4859-8c13-2afdaec5666f",
   "metadata": {},
   "source": [
    "## Content Based Recommendations"
   ]
  },
  {
   "cell_type": "markdown",
   "id": "cee65102-377d-41d9-b832-3e389edbbc55",
   "metadata": {},
   "source": [
    "These recommendation engines are built around the idea if a user likes some item (or a particular basket of items) then they will like similar items based on the item content/description. If I watched the Avengers, then I probably would want to watch other superhero-themed movies. If we look at a few books along with their descriptions:"
   ]
  },
  {
   "cell_type": "code",
   "execution_count": 4,
   "id": "1f64c1a2-3131-4b36-aa4d-c386c2a81f77",
   "metadata": {},
   "outputs": [
    {
     "data": {
      "text/plain": [
       "book_title\n",
       "Wild Animus                                        2365\n",
       "The Lovely Bones: A Novel                          1202\n",
       "The Da Vinci Code                                   868\n",
       "A Painted House                                     793\n",
       "The Nanny Diaries: A Novel                          787\n",
       "Bridget Jones's Diary                               772\n",
       "The Secret Life of Bees                             740\n",
       "Divine Secrets of the Ya-Ya Sisterhood: A Novel     714\n",
       "The Red Tent (Bestselling Backlist)                 684\n",
       "Angels & Demons                                     654\n",
       "Name: count, dtype: int64"
      ]
     },
     "execution_count": 4,
     "metadata": {},
     "output_type": "execute_result"
    }
   ],
   "source": [
    "df_titles = df['book_title'].value_counts()\n",
    "df_titles.head(10)"
   ]
  },
  {
   "cell_type": "markdown",
   "id": "067654a1-f1c1-4427-8b3f-3fec5b67d095",
   "metadata": {},
   "source": [
    "Because each one of our rows represents a review with not an unique book title we are going to group the dataframe by book_title to use the vectorizer."
   ]
  },
  {
   "cell_type": "code",
   "execution_count": 5,
   "id": "2b9f9178-3748-42eb-920e-5c2d258b51b0",
   "metadata": {},
   "outputs": [],
   "source": [
    "df_filtered = df[df['rating'] > 0]\n",
    "\n",
    "unique_titles = df_filtered.groupby('book_title').agg(\n",
    "                            review_count=('rating', 'count'),\n",
    "                            avg_review_score=('rating', 'mean')).reset_index()"
   ]
  },
  {
   "cell_type": "code",
   "execution_count": 6,
   "id": "cdbba4ae-6ffc-40ec-8042-eff05fd96c44",
   "metadata": {},
   "outputs": [
    {
     "data": {
      "text/html": [
       "<div>\n",
       "<style scoped>\n",
       "    .dataframe tbody tr th:only-of-type {\n",
       "        vertical-align: middle;\n",
       "    }\n",
       "\n",
       "    .dataframe tbody tr th {\n",
       "        vertical-align: top;\n",
       "    }\n",
       "\n",
       "    .dataframe thead th {\n",
       "        text-align: right;\n",
       "    }\n",
       "</style>\n",
       "<table border=\"1\" class=\"dataframe\">\n",
       "  <thead>\n",
       "    <tr style=\"text-align: right;\">\n",
       "      <th></th>\n",
       "      <th>book_title</th>\n",
       "      <th>review_count</th>\n",
       "      <th>avg_review_score</th>\n",
       "    </tr>\n",
       "  </thead>\n",
       "  <tbody>\n",
       "    <tr>\n",
       "      <th>0</th>\n",
       "      <td>A Light in the Storm: The Civil War Diary of ...</td>\n",
       "      <td>1</td>\n",
       "      <td>9.000000</td>\n",
       "    </tr>\n",
       "    <tr>\n",
       "      <th>1</th>\n",
       "      <td>Ask Lily (Young Women of Faith: Lily Series, ...</td>\n",
       "      <td>1</td>\n",
       "      <td>8.000000</td>\n",
       "    </tr>\n",
       "    <tr>\n",
       "      <th>2</th>\n",
       "      <td>Dark Justice</td>\n",
       "      <td>1</td>\n",
       "      <td>10.000000</td>\n",
       "    </tr>\n",
       "    <tr>\n",
       "      <th>3</th>\n",
       "      <td>Earth Prayers From around the World: 365 Pray...</td>\n",
       "      <td>7</td>\n",
       "      <td>7.142857</td>\n",
       "    </tr>\n",
       "    <tr>\n",
       "      <th>4</th>\n",
       "      <td>Final Fantasy Anthology: Official Strategy Gu...</td>\n",
       "      <td>2</td>\n",
       "      <td>10.000000</td>\n",
       "    </tr>\n",
       "    <tr>\n",
       "      <th>...</th>\n",
       "      <td>...</td>\n",
       "      <td>...</td>\n",
       "      <td>...</td>\n",
       "    </tr>\n",
       "    <tr>\n",
       "      <th>129832</th>\n",
       "      <td>Ã?Â?bernachten mit Stil. Die schÃ?Â¶nsten Coun...</td>\n",
       "      <td>1</td>\n",
       "      <td>8.000000</td>\n",
       "    </tr>\n",
       "    <tr>\n",
       "      <th>129833</th>\n",
       "      <td>Ã?Â?rger mit Produkt X. Roman.</td>\n",
       "      <td>3</td>\n",
       "      <td>7.000000</td>\n",
       "    </tr>\n",
       "    <tr>\n",
       "      <th>129834</th>\n",
       "      <td>Ã?Â?sterlich leben.</td>\n",
       "      <td>1</td>\n",
       "      <td>7.000000</td>\n",
       "    </tr>\n",
       "    <tr>\n",
       "      <th>129835</th>\n",
       "      <td>Ã?Â?stlich der Berge.</td>\n",
       "      <td>1</td>\n",
       "      <td>8.000000</td>\n",
       "    </tr>\n",
       "    <tr>\n",
       "      <th>129836</th>\n",
       "      <td>Ã?Â?thique en toc</td>\n",
       "      <td>1</td>\n",
       "      <td>8.000000</td>\n",
       "    </tr>\n",
       "  </tbody>\n",
       "</table>\n",
       "<p>129837 rows × 3 columns</p>\n",
       "</div>"
      ],
      "text/plain": [
       "                                               book_title  review_count  \\\n",
       "0        A Light in the Storm: The Civil War Diary of ...             1   \n",
       "1        Ask Lily (Young Women of Faith: Lily Series, ...             1   \n",
       "2                                            Dark Justice             1   \n",
       "3        Earth Prayers From around the World: 365 Pray...             7   \n",
       "4        Final Fantasy Anthology: Official Strategy Gu...             2   \n",
       "...                                                   ...           ...   \n",
       "129832  Ã?Â?bernachten mit Stil. Die schÃ?Â¶nsten Coun...             1   \n",
       "129833                     Ã?Â?rger mit Produkt X. Roman.             3   \n",
       "129834                                Ã?Â?sterlich leben.             1   \n",
       "129835                              Ã?Â?stlich der Berge.             1   \n",
       "129836                                  Ã?Â?thique en toc             1   \n",
       "\n",
       "        avg_review_score  \n",
       "0               9.000000  \n",
       "1               8.000000  \n",
       "2              10.000000  \n",
       "3               7.142857  \n",
       "4              10.000000  \n",
       "...                  ...  \n",
       "129832          8.000000  \n",
       "129833          7.000000  \n",
       "129834          7.000000  \n",
       "129835          8.000000  \n",
       "129836          8.000000  \n",
       "\n",
       "[129837 rows x 3 columns]"
      ]
     },
     "execution_count": 6,
     "metadata": {},
     "output_type": "execute_result"
    }
   ],
   "source": [
    "unique_titles"
   ]
  },
  {
   "cell_type": "code",
   "execution_count": 7,
   "id": "d423543b-8a7c-4c95-8825-c65d5c22a2b6",
   "metadata": {},
   "outputs": [],
   "source": [
    "vectorizer = TfidfVectorizer(stop_words = \"english\", min_df=2)\n",
    "TF_IDF_matrix = vectorizer.fit_transform(unique_titles['book_title'])"
   ]
  },
  {
   "cell_type": "code",
   "execution_count": 8,
   "id": "e40a928f-c752-44de-89ca-1c1446aa4761",
   "metadata": {},
   "outputs": [
    {
     "data": {
      "text/plain": [
       "(129837, 27840)"
      ]
     },
     "execution_count": 8,
     "metadata": {},
     "output_type": "execute_result"
    }
   ],
   "source": [
    "TF_IDF_matrix.shape"
   ]
  },
  {
   "cell_type": "code",
   "execution_count": 9,
   "id": "01306ba7-a2c2-4d45-8f93-920c6d57354c",
   "metadata": {},
   "outputs": [
    {
     "data": {
      "text/plain": [
       "<129837x27840 sparse matrix of type '<class 'numpy.float64'>'\n",
       "\twith 522584 stored elements in Compressed Sparse Row format>"
      ]
     },
     "execution_count": 9,
     "metadata": {},
     "output_type": "execute_result"
    }
   ],
   "source": [
    "TF_IDF_matrix"
   ]
  },
  {
   "cell_type": "code",
   "execution_count": 10,
   "id": "b1954835-64f3-46a6-9c62-d365f2c3cb2a",
   "metadata": {},
   "outputs": [
    {
     "data": {
      "text/html": [
       "<div>\n",
       "<style scoped>\n",
       "    .dataframe tbody tr th:only-of-type {\n",
       "        vertical-align: middle;\n",
       "    }\n",
       "\n",
       "    .dataframe tbody tr th {\n",
       "        vertical-align: top;\n",
       "    }\n",
       "\n",
       "    .dataframe thead th {\n",
       "        text-align: right;\n",
       "    }\n",
       "</style>\n",
       "<table border=\"1\" class=\"dataframe\">\n",
       "  <thead>\n",
       "    <tr style=\"text-align: right;\">\n",
       "      <th></th>\n",
       "      <th>book_title</th>\n",
       "      <th>review_count</th>\n",
       "      <th>avg_review_score</th>\n",
       "    </tr>\n",
       "  </thead>\n",
       "  <tbody>\n",
       "    <tr>\n",
       "      <th>1364</th>\n",
       "      <td>A Closer Look at Harry Potter: Bending and Sha...</td>\n",
       "      <td>1</td>\n",
       "      <td>4.0</td>\n",
       "    </tr>\n",
       "    <tr>\n",
       "      <th>11289</th>\n",
       "      <td>Beacham's Sourcebook For Teaching Young Adult ...</td>\n",
       "      <td>2</td>\n",
       "      <td>9.0</td>\n",
       "    </tr>\n",
       "    <tr>\n",
       "      <th>39538</th>\n",
       "      <td>Garri Potter i uznik Azkabana (Harry Potter an...</td>\n",
       "      <td>1</td>\n",
       "      <td>10.0</td>\n",
       "    </tr>\n",
       "    <tr>\n",
       "      <th>43411</th>\n",
       "      <td>Harri Potter maen yr Athronydd (Harry Potter a...</td>\n",
       "      <td>1</td>\n",
       "      <td>9.0</td>\n",
       "    </tr>\n",
       "    <tr>\n",
       "      <th>43424</th>\n",
       "      <td>Harrius Potter et Philosophi Lapis (Harry Pott...</td>\n",
       "      <td>1</td>\n",
       "      <td>8.0</td>\n",
       "    </tr>\n",
       "  </tbody>\n",
       "</table>\n",
       "</div>"
      ],
      "text/plain": [
       "                                              book_title  review_count  \\\n",
       "1364   A Closer Look at Harry Potter: Bending and Sha...             1   \n",
       "11289  Beacham's Sourcebook For Teaching Young Adult ...             2   \n",
       "39538  Garri Potter i uznik Azkabana (Harry Potter an...             1   \n",
       "43411  Harri Potter maen yr Athronydd (Harry Potter a...             1   \n",
       "43424  Harrius Potter et Philosophi Lapis (Harry Pott...             1   \n",
       "\n",
       "       avg_review_score  \n",
       "1364                4.0  \n",
       "11289               9.0  \n",
       "39538              10.0  \n",
       "43411               9.0  \n",
       "43424               8.0  "
      ]
     },
     "execution_count": 10,
     "metadata": {},
     "output_type": "execute_result"
    }
   ],
   "source": [
    "unique_titles[unique_titles['book_title'].str.contains('Harry Potter', na=False)].head()"
   ]
  },
  {
   "cell_type": "code",
   "execution_count": 11,
   "id": "e563871b-cf2e-4414-99e1-732a2872268a",
   "metadata": {},
   "outputs": [
    {
     "name": "stdout",
     "output_type": "stream",
     "text": [
      "Similarity: [[0.46690432]]\n"
     ]
    }
   ],
   "source": [
    "from sklearn.metrics.pairwise import cosine_similarity\n",
    "\n",
    "book_1 = TF_IDF_matrix[ (unique_titles['book_title'] == 'Harry Potter and the Chamber of Secrets (Book 2)').values,  ]\n",
    "book_2 = TF_IDF_matrix[ (unique_titles['book_title'] == 'Harry Potter and the Prisoner of Azkaban (Book 3)').values,  ]\n",
    "\n",
    "print(\"Similarity:\", cosine_similarity(book_1, book_2)) # Notice the result is a 2D 1X1 array, so to grab\n",
    "                                                          # the number we will need to index                                               "
   ]
  },
  {
   "cell_type": "markdown",
   "id": "8df5c788-5421-4e24-931a-ed90bf76d008",
   "metadata": {},
   "source": [
    "Not only can we use the sklearn.metrics.pairwise.cosine_similiarity function to compute that between two different vectors, we can pass the entire tf-idf matrix into the function as a single argument and it will compute the similarity between each column and every other column, giving back a square matrix, where the entry at is the similarity between movie and (like a correlation matrix for features)."
   ]
  },
  {
   "cell_type": "code",
   "execution_count": 12,
   "id": "dcb966d9-dd38-42a1-96fd-d7f155f4070e",
   "metadata": {},
   "outputs": [],
   "source": [
    "similarities = cosine_similarity(TF_IDF_matrix, dense_output=False)"
   ]
  },
  {
   "cell_type": "code",
   "execution_count": 13,
   "id": "e8b68822-f90a-4e33-a478-dd5b4ac63c35",
   "metadata": {},
   "outputs": [
    {
     "data": {
      "text/plain": [
       "(129837, 129837)"
      ]
     },
     "execution_count": 13,
     "metadata": {},
     "output_type": "execute_result"
    }
   ],
   "source": [
    "# Check the shape\n",
    "# rows and columns should be equal, and the number of movies we started with (rows)\n",
    "similarities.shape"
   ]
  },
  {
   "cell_type": "markdown",
   "id": "b0e337a8-50f4-439d-8558-59ebc2ef408e",
   "metadata": {},
   "source": [
    "Now that we can directly compare two movies and we can make recommendations of the form: if you like movie $a$ then you will also like movies $b$, $c$, $d$, $etc$.\n",
    "\n",
    "We can do this just picking a candidate film and taking its column in the similarity matrix, and then finding those rows where the similarities are highest:"
   ]
  },
  {
   "cell_type": "code",
   "execution_count": 14,
   "id": "6843ff20-c4f7-46f9-ad07-e6721523f98d",
   "metadata": {},
   "outputs": [
    {
     "data": {
      "text/html": [
       "<div>\n",
       "<style scoped>\n",
       "    .dataframe tbody tr th:only-of-type {\n",
       "        vertical-align: middle;\n",
       "    }\n",
       "\n",
       "    .dataframe tbody tr th {\n",
       "        vertical-align: top;\n",
       "    }\n",
       "\n",
       "    .dataframe thead th {\n",
       "        text-align: right;\n",
       "    }\n",
       "</style>\n",
       "<table border=\"1\" class=\"dataframe\">\n",
       "  <thead>\n",
       "    <tr style=\"text-align: right;\">\n",
       "      <th></th>\n",
       "      <th>book_title</th>\n",
       "      <th>review_count</th>\n",
       "      <th>avg_review_score</th>\n",
       "    </tr>\n",
       "  </thead>\n",
       "  <tbody>\n",
       "    <tr>\n",
       "      <th>43453</th>\n",
       "      <td>Harry Potter and the Chamber of Secrets (Book 2)</td>\n",
       "      <td>313</td>\n",
       "      <td>8.84345</td>\n",
       "    </tr>\n",
       "  </tbody>\n",
       "</table>\n",
       "</div>"
      ],
      "text/plain": [
       "                                             book_title  review_count  \\\n",
       "43453  Harry Potter and the Chamber of Secrets (Book 2)           313   \n",
       "\n",
       "       avg_review_score  \n",
       "43453           8.84345  "
      ]
     },
     "execution_count": 14,
     "metadata": {},
     "output_type": "execute_result"
    }
   ],
   "source": [
    "# Test with a sample movie\n",
    "unique_titles[unique_titles['book_title'] == 'Harry Potter and the Chamber of Secrets (Book 2)']"
   ]
  },
  {
   "cell_type": "code",
   "execution_count": 15,
   "id": "d8303d70-8e30-481f-8ee2-98f3a72bf577",
   "metadata": {},
   "outputs": [],
   "source": [
    "# Get the column based upon the index\n",
    "unique_title_index = unique_titles[unique_titles['book_title'] == 'Harry Potter and the Chamber of Secrets (Book 2)'].index\n",
    "\n",
    "# Create a dataframe with the movie titles\n",
    "sim_df = pd.DataFrame({'book': unique_titles ['book_title'],\n",
    "                       'similarity': np.array(similarities[unique_title_index, :].todense()).squeeze()})"
   ]
  },
  {
   "cell_type": "code",
   "execution_count": 16,
   "id": "70e1b003-d9d4-4a99-b5e9-cc8cc1b4206a",
   "metadata": {},
   "outputs": [
    {
     "data": {
      "text/html": [
       "<div>\n",
       "<style scoped>\n",
       "    .dataframe tbody tr th:only-of-type {\n",
       "        vertical-align: middle;\n",
       "    }\n",
       "\n",
       "    .dataframe tbody tr th {\n",
       "        vertical-align: top;\n",
       "    }\n",
       "\n",
       "    .dataframe thead th {\n",
       "        text-align: right;\n",
       "    }\n",
       "</style>\n",
       "<table border=\"1\" class=\"dataframe\">\n",
       "  <thead>\n",
       "    <tr style=\"text-align: right;\">\n",
       "      <th></th>\n",
       "      <th>book</th>\n",
       "      <th>similarity</th>\n",
       "    </tr>\n",
       "  </thead>\n",
       "  <tbody>\n",
       "    <tr>\n",
       "      <th>0</th>\n",
       "      <td>A Light in the Storm: The Civil War Diary of ...</td>\n",
       "      <td>0.0</td>\n",
       "    </tr>\n",
       "    <tr>\n",
       "      <th>84792</th>\n",
       "      <td>Shadow Watch (Tom Clancy's Power Plays (Paperb...</td>\n",
       "      <td>0.0</td>\n",
       "    </tr>\n",
       "    <tr>\n",
       "      <th>84791</th>\n",
       "      <td>Shadow Warriors: Inside the Special Forces</td>\n",
       "      <td>0.0</td>\n",
       "    </tr>\n",
       "    <tr>\n",
       "      <th>84789</th>\n",
       "      <td>Shadow Walker</td>\n",
       "      <td>0.0</td>\n",
       "    </tr>\n",
       "    <tr>\n",
       "      <th>84788</th>\n",
       "      <td>Shadow Steed</td>\n",
       "      <td>0.0</td>\n",
       "    </tr>\n",
       "    <tr>\n",
       "      <th>84786</th>\n",
       "      <td>Shadow Spinner (Jean Karl Books (Paperback))</td>\n",
       "      <td>0.0</td>\n",
       "    </tr>\n",
       "    <tr>\n",
       "      <th>84785</th>\n",
       "      <td>Shadow Song</td>\n",
       "      <td>0.0</td>\n",
       "    </tr>\n",
       "    <tr>\n",
       "      <th>84784</th>\n",
       "      <td>Shadow Ranch: A Novel</td>\n",
       "      <td>0.0</td>\n",
       "    </tr>\n",
       "    <tr>\n",
       "      <th>84783</th>\n",
       "      <td>Shadow Queen</td>\n",
       "      <td>0.0</td>\n",
       "    </tr>\n",
       "    <tr>\n",
       "      <th>84781</th>\n",
       "      <td>Shadow Puppets (Ender)</td>\n",
       "      <td>0.0</td>\n",
       "    </tr>\n",
       "  </tbody>\n",
       "</table>\n",
       "</div>"
      ],
      "text/plain": [
       "                                                    book  similarity\n",
       "0       A Light in the Storm: The Civil War Diary of ...         0.0\n",
       "84792  Shadow Watch (Tom Clancy's Power Plays (Paperb...         0.0\n",
       "84791         Shadow Warriors: Inside the Special Forces         0.0\n",
       "84789                                      Shadow Walker         0.0\n",
       "84788                                       Shadow Steed         0.0\n",
       "84786       Shadow Spinner (Jean Karl Books (Paperback))         0.0\n",
       "84785                                        Shadow Song         0.0\n",
       "84784                              Shadow Ranch: A Novel         0.0\n",
       "84783                                       Shadow Queen         0.0\n",
       "84781                             Shadow Puppets (Ender)         0.0"
      ]
     },
     "execution_count": 16,
     "metadata": {},
     "output_type": "execute_result"
    }
   ],
   "source": [
    "# Return the top 10 least similar movies\n",
    "sim_df.sort_values(by='similarity', ascending=True).head(10)"
   ]
  },
  {
   "cell_type": "markdown",
   "id": "cc4cb2c1-1e3f-4937-acda-fda2718dead7",
   "metadata": {},
   "source": [
    "#### Testing"
   ]
  },
  {
   "cell_type": "code",
   "execution_count": 17,
   "id": "adf350d2-0b50-44b9-bb09-54867dbc1b7f",
   "metadata": {},
   "outputs": [],
   "source": [
    "from recommendation import content_recommender"
   ]
  },
  {
   "cell_type": "code",
   "execution_count": 18,
   "id": "c89617c1-bbcb-4745-9658-8af54a45ef93",
   "metadata": {},
   "outputs": [
    {
     "data": {
      "text/html": [
       "<div>\n",
       "<style scoped>\n",
       "    .dataframe tbody tr th:only-of-type {\n",
       "        vertical-align: middle;\n",
       "    }\n",
       "\n",
       "    .dataframe tbody tr th {\n",
       "        vertical-align: top;\n",
       "    }\n",
       "\n",
       "    .dataframe thead th {\n",
       "        text-align: right;\n",
       "    }\n",
       "</style>\n",
       "<table border=\"1\" class=\"dataframe\">\n",
       "  <thead>\n",
       "    <tr style=\"text-align: right;\">\n",
       "      <th></th>\n",
       "      <th>book</th>\n",
       "      <th>similarity</th>\n",
       "      <th>Number of reviews</th>\n",
       "      <th>Avg Rating</th>\n",
       "    </tr>\n",
       "  </thead>\n",
       "  <tbody>\n",
       "    <tr>\n",
       "      <th>43453</th>\n",
       "      <td>Harry Potter and the Chamber of Secrets (Book 2)</td>\n",
       "      <td>1.000000</td>\n",
       "      <td>313</td>\n",
       "      <td>8.843450</td>\n",
       "    </tr>\n",
       "    <tr>\n",
       "      <th>43456</th>\n",
       "      <td>Harry Potter and the Chamber of Secrets Postca...</td>\n",
       "      <td>0.871738</td>\n",
       "      <td>23</td>\n",
       "      <td>9.869565</td>\n",
       "    </tr>\n",
       "    <tr>\n",
       "      <th>96651</th>\n",
       "      <td>The Chamber</td>\n",
       "      <td>0.587331</td>\n",
       "      <td>199</td>\n",
       "      <td>7.417085</td>\n",
       "    </tr>\n",
       "    <tr>\n",
       "      <th>43481</th>\n",
       "      <td>Harry Potter and the Sorcerer's Stone (Harry P...</td>\n",
       "      <td>0.575320</td>\n",
       "      <td>297</td>\n",
       "      <td>8.915825</td>\n",
       "    </tr>\n",
       "    <tr>\n",
       "      <th>43460</th>\n",
       "      <td>Harry Potter and the Goblet of Fire (Book 4)</td>\n",
       "      <td>0.524694</td>\n",
       "      <td>233</td>\n",
       "      <td>9.154506</td>\n",
       "    </tr>\n",
       "    <tr>\n",
       "      <th>43464</th>\n",
       "      <td>Harry Potter and the Order of the Phoenix (Boo...</td>\n",
       "      <td>0.505216</td>\n",
       "      <td>201</td>\n",
       "      <td>9.034826</td>\n",
       "    </tr>\n",
       "    <tr>\n",
       "      <th>43478</th>\n",
       "      <td>Harry Potter and the Sorcerer's Stone (Book 1)</td>\n",
       "      <td>0.500895</td>\n",
       "      <td>168</td>\n",
       "      <td>9.077381</td>\n",
       "    </tr>\n",
       "    <tr>\n",
       "      <th>43471</th>\n",
       "      <td>Harry Potter and the Prisoner of Azkaban (Book 3)</td>\n",
       "      <td>0.466904</td>\n",
       "      <td>263</td>\n",
       "      <td>9.076046</td>\n",
       "    </tr>\n",
       "    <tr>\n",
       "      <th>83838</th>\n",
       "      <td>Secrets</td>\n",
       "      <td>0.393631</td>\n",
       "      <td>29</td>\n",
       "      <td>7.068966</td>\n",
       "    </tr>\n",
       "    <tr>\n",
       "      <th>43495</th>\n",
       "      <td>Harry Potter y la piedra filosofal</td>\n",
       "      <td>0.373569</td>\n",
       "      <td>13</td>\n",
       "      <td>8.615385</td>\n",
       "    </tr>\n",
       "  </tbody>\n",
       "</table>\n",
       "</div>"
      ],
      "text/plain": [
       "                                                    book  similarity  \\\n",
       "43453   Harry Potter and the Chamber of Secrets (Book 2)    1.000000   \n",
       "43456  Harry Potter and the Chamber of Secrets Postca...    0.871738   \n",
       "96651                                        The Chamber    0.587331   \n",
       "43481  Harry Potter and the Sorcerer's Stone (Harry P...    0.575320   \n",
       "43460       Harry Potter and the Goblet of Fire (Book 4)    0.524694   \n",
       "43464  Harry Potter and the Order of the Phoenix (Boo...    0.505216   \n",
       "43478     Harry Potter and the Sorcerer's Stone (Book 1)    0.500895   \n",
       "43471  Harry Potter and the Prisoner of Azkaban (Book 3)    0.466904   \n",
       "83838                                            Secrets    0.393631   \n",
       "43495                 Harry Potter y la piedra filosofal    0.373569   \n",
       "\n",
       "       Number of reviews  Avg Rating  \n",
       "43453                313    8.843450  \n",
       "43456                 23    9.869565  \n",
       "96651                199    7.417085  \n",
       "43481                297    8.915825  \n",
       "43460                233    9.154506  \n",
       "43464                201    9.034826  \n",
       "43478                168    9.077381  \n",
       "43471                263    9.076046  \n",
       "83838                 29    7.068966  \n",
       "43495                 13    8.615385  "
      ]
     },
     "execution_count": 18,
     "metadata": {},
     "output_type": "execute_result"
    }
   ],
   "source": [
    "# Test the recommender\n",
    "similar_books = content_recommender(\"Harry Potter and the Chamber of Secrets (Book 2)\", unique_titles, similarities, vote_threshold=10)\n",
    "similar_books.head(10)"
   ]
  },
  {
   "cell_type": "markdown",
   "id": "8de98a19-84af-42c1-ab0f-72f8afd1e277",
   "metadata": {},
   "source": [
    "## Collaborative Based Recommendations Filtering - Item-Based Filtering "
   ]
  },
  {
   "cell_type": "markdown",
   "id": "af4085d4-a26a-48a7-84ac-6d48d3064c3b",
   "metadata": {},
   "source": [
    "Collaborative filtering also relies on similarity between items, as well as similarity between users.\n",
    "\n",
    "Unlike content-based systems, a collaborative system looks at an item as a collection of ratings. Every item has ratings by some users, and if two items get very similar ratings from users, the items themselves are similar (notice this system is not at all aware of the items' content).\n",
    "\n",
    "Similarly, we can define users to be similar if they rate items similarly."
   ]
  },
  {
   "cell_type": "code",
   "execution_count": null,
   "id": "eddd1a58-dd39-4e33-98fc-af8821f2a5b1",
   "metadata": {},
   "outputs": [],
   "source": [
    "len(df['isbn'].value_counts())"
   ]
  },
  {
   "cell_type": "code",
   "execution_count": null,
   "id": "38eebca6-50a8-4da1-b7bb-3093c11adacf",
   "metadata": {},
   "outputs": [],
   "source": [
    "len(df['user_id'].value_counts())"
   ]
  },
  {
   "cell_type": "markdown",
   "id": "284718a2-0407-46c2-80c1-5f8e84ebab0a",
   "metadata": {},
   "source": [
    "Matrix size would be 86405 * 264011\n",
    "\n",
    "We are going to select the columns that we are going to build the matrix on"
   ]
  },
  {
   "cell_type": "code",
   "execution_count": null,
   "id": "18eaf45c-e2fc-4911-8003-eeea4df8f45e",
   "metadata": {},
   "outputs": [],
   "source": [
    "df_temp = df[['isbn', 'rating', 'user_id']]"
   ]
  },
  {
   "cell_type": "code",
   "execution_count": null,
   "id": "1a057af8-038f-4573-b9f5-0c6f6a476159",
   "metadata": {},
   "outputs": [],
   "source": [
    "df_temp"
   ]
  },
  {
   "cell_type": "code",
   "execution_count": null,
   "id": "d789bfda-2968-44cf-9c61-ce6268782e9a",
   "metadata": {},
   "outputs": [],
   "source": [
    "df_temp.shape"
   ]
  },
  {
   "cell_type": "markdown",
   "id": "86f2375b-29ae-42f2-9a0f-e486bfb94049",
   "metadata": {},
   "source": [
    "First we are going to get the number of ratings for each book"
   ]
  },
  {
   "cell_type": "code",
   "execution_count": null,
   "id": "d28b4e1a-c91d-49d3-bed3-f8bf2cbeec4a",
   "metadata": {},
   "outputs": [],
   "source": [
    "books_rated = pd.DataFrame(df.groupby('isbn')['rating'].count()).rename(columns={'rating':'total_rating_count'}).reset_index()"
   ]
  },
  {
   "cell_type": "code",
   "execution_count": null,
   "id": "a0f98a50-ff62-43c3-9c1f-48cf6f2a90a4",
   "metadata": {},
   "outputs": [],
   "source": [
    "books_rated"
   ]
  },
  {
   "cell_type": "markdown",
   "id": "43c802f3-6473-40e5-a83b-66e98be5b7ef",
   "metadata": {},
   "source": [
    "We are going to merge this new dataframe to the df_temp to later on work with only the books with a certain threshold of number of reviews, in this case books with more than 5 ratings."
   ]
  },
  {
   "cell_type": "code",
   "execution_count": null,
   "id": "fbf719e9-8b5f-4339-95b7-c4d88da674bb",
   "metadata": {},
   "outputs": [],
   "source": [
    "final = pd.merge(df_temp , books_rated, how='left', left_on='isbn',right_on='isbn')\n",
    "# The number of Total Rating Count is the same threshold on the Books_data.csv, containing the metadata of the books\n",
    "final = final[final['total_rating_count']>5]\n",
    "final.shape"
   ]
  },
  {
   "cell_type": "code",
   "execution_count": null,
   "id": "4d3eb16f-f4c4-47ec-a161-4bc3a8881f6f",
   "metadata": {},
   "outputs": [],
   "source": [
    "final.head()"
   ]
  },
  {
   "cell_type": "code",
   "execution_count": null,
   "id": "c9947b34-b92f-4c7a-b3a5-c0d19d57b386",
   "metadata": {},
   "outputs": [],
   "source": [
    "'''\n",
    " Prepare a matrix\n",
    "  rows: Users\n",
    "  columns: Books ISBN\n",
    "  values : ratings\n",
    "'''\n",
    "\n",
    "matrix = pd.pivot_table(data=final, index='isbn', columns='user_id', values='rating')\n",
    "matrix.head()"
   ]
  },
  {
   "cell_type": "code",
   "execution_count": null,
   "id": "a453308a-d9dd-4521-bb03-9127d191ea1b",
   "metadata": {},
   "outputs": [],
   "source": [
    "matrix.shape"
   ]
  },
  {
   "cell_type": "code",
   "execution_count": null,
   "id": "1f4f3744-16bf-420e-a0e5-4187951216a7",
   "metadata": {},
   "outputs": [],
   "source": [
    "# We are going to fill the null values with 0\n",
    "matrix.fillna(0,inplace=True)\n",
    "matrix.head()"
   ]
  },
  {
   "cell_type": "markdown",
   "id": "99407e17-5def-46cd-83d8-3cdb054c5f51",
   "metadata": {},
   "source": [
    "- The matrix provides the human-readable information (e.g., book titles and user details).\n",
    "- The csr_data provides the numerical format needed for computational efficiency in algorithms like KNN."
   ]
  },
  {
   "cell_type": "code",
   "execution_count": null,
   "id": "164bd5b9-3bce-4b48-ad60-5185fbd0ce56",
   "metadata": {},
   "outputs": [],
   "source": [
    "from scipy.sparse import csr_matrix\n",
    "csr_data = csr_matrix(matrix.values)\n",
    "matrix.reset_index(inplace=True)"
   ]
  },
  {
   "cell_type": "markdown",
   "id": "fadb0aeb-7b2a-40ed-b9bf-592543b45606",
   "metadata": {},
   "source": [
    "#### Saving the matrix and csr_data"
   ]
  },
  {
   "cell_type": "code",
   "execution_count": null,
   "id": "b6d8ea69-d75c-43dc-8365-b4c00932f163",
   "metadata": {},
   "outputs": [],
   "source": [
    "print(matrix.columns)"
   ]
  },
  {
   "cell_type": "code",
   "execution_count": null,
   "id": "627eb1b5-c2f4-486c-8adf-f649669612f4",
   "metadata": {},
   "outputs": [],
   "source": [
    "from scipy.sparse import save_npz\n",
    "import json\n",
    "\n",
    "# To save the data from the original matrix for later extract the book titles we are going to get the indexes of the book_titles\n",
    "# and then save it using json \n",
    "# Assuming rows correspond to books in the csr_matrix\n",
    "book_isbn = matrix['isbn'].tolist()\n",
    "\n",
    "# Assuming columns correspond to user IDs\n",
    "user_ids = matrix.columns[1:].tolist()  # Skip the 'book_title' column\n",
    "\n",
    "# Save book titles and user IDs as JSON files\n",
    "with open('../data/book_isbn.json', 'w') as f:\n",
    "    json.dump(book_isbn, f)\n",
    "\n",
    "with open('../data/user_ids.json', 'w') as f:\n",
    "    json.dump(user_ids, f)\n",
    "\n",
    "# Save the csr_matrix to a file\n",
    "save_npz('../data/csr_data.npz', csr_data)"
   ]
  },
  {
   "cell_type": "markdown",
   "id": "38a1e667-057d-4838-b462-e264433b4cad",
   "metadata": {},
   "source": [
    "### Model Creation Nearest Neighbors"
   ]
  },
  {
   "cell_type": "code",
   "execution_count": null,
   "id": "ce328e3c-d8e2-44e5-964e-b9b0598bf915",
   "metadata": {},
   "outputs": [],
   "source": [
    "from sklearn.model_selection import GridSearchCV\n",
    "from sklearn.neighbors import NearestNeighbors\n",
    "import numpy as np\n",
    "\n",
    "# Define hyperparameters to tune\n",
    "param_grid = {\n",
    "    'n_neighbors': [10, 15, 20],\n",
    "    'metric': ['cosine', 'euclidean', 'manhattan'],\n",
    "    'algorithm': ['auto', 'brute']\n",
    "}\n",
    "\n",
    "# Initialize the NearestNeighbors model\n",
    "knn = NearestNeighbors()\n",
    "\n",
    "# Use GridSearchCV\n",
    "grid_search = GridSearchCV(knn, param_grid, cv=5, scoring='neg_mean_squared_error', verbose=1)\n",
    "\n",
    "# Fit with the csr data\n",
    "grid_search.fit(csr_data)\n",
    "\n",
    "# Get the best parameters\n",
    "print(\"Best Parameters:\", grid_search.best_params_)"
   ]
  },
  {
   "cell_type": "code",
   "execution_count": null,
   "id": "7071d97e-a1ed-4e3a-a534-89b1d25c063c",
   "metadata": {},
   "outputs": [],
   "source": [
    "# Save the model to a file\n",
    "from joblib import dump\n",
    "best_model = grid_search.best_estimator_\n",
    "dump(best_model, '../models/model.joblib')"
   ]
  },
  {
   "cell_type": "markdown",
   "id": "80a3a19f-3d2a-478c-ab70-a872cd1022da",
   "metadata": {
    "jp-MarkdownHeadingCollapsed": true
   },
   "source": [
    "## Testing"
   ]
  },
  {
   "cell_type": "code",
   "execution_count": null,
   "id": "2b6a2ed1-6103-4e0e-a964-39afbb699c57",
   "metadata": {},
   "outputs": [],
   "source": [
    "import json\n",
    "from recommendation import recommend\n",
    "from scipy.sparse import load_npz\n",
    "from joblib import load\n",
    "\n",
    "# Load the model from the file\n",
    "optimized_knn = load('../models/model.joblib')\n",
    "\n",
    "# Load the csr_matrix from the file\n",
    "csr_data = load_npz('../data/csr_data.npz')\n",
    "\n",
    "# Load book titles IDs\n",
    "with open('../data/book_isbn.json', 'r') as f:\n",
    "    book_isbns = json.load(f)\n",
    "\n",
    "# load dataframe\n",
    "df_books = pd.read_csv('../data/Books_data.csv')\n"
   ]
  },
  {
   "cell_type": "code",
   "execution_count": null,
   "id": "6e6935af-d4a5-40a2-9bd2-049711b7877f",
   "metadata": {},
   "outputs": [],
   "source": [
    "recommendations = recommend(\n",
    "    book_isbn=\"0439064864\",  # Harry Potter and the Chamber of Secrets (Book 2)\n",
    "    knn_model=optimized_knn,\n",
    "    csr_data=csr_data,\n",
    "    book_isbns=book_isbns,  # List of ISBNs corresponding to the rows in csr_data\n",
    "    dataframe=df_books,  # Original DataFrame with book metadata\n",
    "    n_neighbors=10\n",
    ")\n",
    "\n",
    "recommendations"
   ]
  },
  {
   "cell_type": "code",
   "execution_count": null,
   "id": "4973cd0d-d298-4acf-ab5d-6ed361ed50da",
   "metadata": {},
   "outputs": [],
   "source": [
    "recommendations = recommend(\n",
    "    book_isbn=\"0451525078\",  # Harry Potter and the Chamber of Secrets (Book 2)\n",
    "    knn_model=optimized_knn,\n",
    "    csr_data=csr_data,\n",
    "    book_isbns=book_isbns,  # List of ISBNs corresponding to the rows in csr_data\n",
    "    dataframe=df_books,  # Original DataFrame with book metadata\n",
    "    n_neighbors=10\n",
    ")\n",
    "\n",
    "recommendations"
   ]
  },
  {
   "cell_type": "code",
   "execution_count": null,
   "id": "a333d945-9f12-482e-a304-c2624e207de9",
   "metadata": {},
   "outputs": [],
   "source": [
    "recommendations = recommend(\n",
    "    book_isbn=\"0553564684\",  # Star Wars: Tales from the Mos Eisley Cantina\n",
    "    knn_model=optimized_knn,\n",
    "    csr_data=csr_data,\n",
    "    book_isbns=book_isbns,  # List of ISBNs corresponding to the rows in csr_data\n",
    "    dataframe=df_books,  # Original DataFrame with book metadata\n",
    "    n_neighbors=15\n",
    ")\n",
    "\n",
    "recommendations"
   ]
  },
  {
   "cell_type": "markdown",
   "id": "3bffdde9-7795-422c-bd62-5cba228d9f77",
   "metadata": {
    "jp-MarkdownHeadingCollapsed": true
   },
   "source": [
    "## Evaluation Using Precision and Recall"
   ]
  },
  {
   "cell_type": "code",
   "execution_count": null,
   "id": "159d9418-465f-4b03-89c0-c28f118ef3e9",
   "metadata": {},
   "outputs": [],
   "source": [
    "import json\n",
    "from scipy.sparse import load_npz, csr_matrix\n",
    "from joblib import load\n",
    "from sklearn.model_selection import train_test_split\n",
    "import numpy as np\n",
    "\n",
    "# Load the model from the file\n",
    "optimized_knn = load('../models/model.joblib')\n",
    "\n",
    "# Load the csr_matrix from the file\n",
    "csr_data = load_npz('../data/csr_data.npz')\n",
    "\n",
    "# Load book titles and Users IDs\n",
    "with open('../data/book_isbn.json', 'r') as f:\n",
    "    book_isbns = json.load(f)\n",
    "\n",
    "with open('../data/user_ids.json', 'r') as f:\n",
    "    user_ids = json.load(f)\n"
   ]
  },
  {
   "cell_type": "code",
   "execution_count": null,
   "id": "e3bd65f2-ea7d-4b01-9ed4-05defc62db87",
   "metadata": {},
   "outputs": [],
   "source": [
    "print(f\"Number of columns in csr_data: {csr_data.shape[1]}\")\n",
    "print(f\"Number of rows in csr_data: {csr_data.shape[0]}\")\n",
    "print(f\"Length of user_ids: {len(user_ids)}\")\n",
    "print(f\"Length of book_isbns: {len(book_isbns)}\")"
   ]
  },
  {
   "cell_type": "code",
   "execution_count": null,
   "id": "69b18a30-78e1-40ef-888a-b6dfd9ff0d42",
   "metadata": {},
   "outputs": [],
   "source": [
    "import numpy as np\n",
    "from scipy.sparse import csr_matrix\n",
    "from sklearn.model_selection import train_test_split\n",
    "\n",
    "# Convert book_isbns to a NumPy array for indexing\n",
    "book_isbns = np.array(book_isbns)\n",
    "\n",
    "# Convert the sparse matrix to dense format for splitting\n",
    "csr_dense = csr_data.toarray()\n",
    "\n",
    "# Split data into training and testing sets (80/20 split)\n",
    "train_data, test_data = train_test_split(csr_dense, test_size=0.2, random_state=42)\n",
    "\n",
    "# Convert training data back to sparse format\n",
    "csr_train = csr_matrix(train_data)\n",
    "\n",
    "# Helper function for Precision@k\n",
    "def precision_at_k(recommended_items, relevant_items, k):\n",
    "    \"\"\"Compute Precision@k\"\"\"\n",
    "    recommended_at_k = recommended_items[:k]\n",
    "    relevant_at_k = set(recommended_at_k).intersection(set(relevant_items))\n",
    "    return len(relevant_at_k) / k\n",
    "\n",
    "# Helper function for Recall@k\n",
    "def recall_at_k(recommended_items, relevant_items, k):\n",
    "    \"\"\"Compute Recall@k\"\"\"\n",
    "    recommended_at_k = recommended_items[:k]\n",
    "    relevant_at_k = set(recommended_at_k).intersection(set(relevant_items))\n",
    "    return len(relevant_at_k) / len(relevant_items) if relevant_items else 0\n",
    "\n",
    "# Function to evaluate the recommendation system\n",
    "def evaluate_recommender(knn_model, csr_train, test_data, book_isbns, k=10):\n",
    "    \"\"\"\n",
    "    Evaluate the recommendation system using Precision@k and Recall@k.\n",
    "\n",
    "    Parameters:\n",
    "    - knn_model: Trained kNN model.\n",
    "    - csr_train: Sparse matrix for training data.\n",
    "    - test_data: Dense matrix for testing data.\n",
    "    - book_isbns: List or array of book ISBNs (rows of the matrix).\n",
    "    - k: Number of top recommendations to consider.\n",
    "\n",
    "    Returns:\n",
    "    - mean_precision: Average Precision@k across all books.\n",
    "    - mean_recall: Average Recall@k across all books.\n",
    "    \"\"\"\n",
    "    precision_scores = []\n",
    "    recall_scores = []\n",
    "\n",
    "    for book_idx, test_row in enumerate(test_data):  # Iterate over books (rows)\n",
    "        # Get the users who interacted with this book (non-zero entries in the test set)\n",
    "        relevant_users = set(np.flatnonzero(test_row))\n",
    "\n",
    "        if not relevant_users:\n",
    "            continue  # Skip books with no test interactions\n",
    "\n",
    "        # Generate recommendations for the book\n",
    "        distances, indices = knn_model.kneighbors(csr_train[book_idx], n_neighbors=k)\n",
    "        recommended_books = book_isbns[indices.flatten()]  # Map indices to book ISBNs\n",
    "\n",
    "        # Get books that share users with the current book in the test set\n",
    "        relevant_books = set(\n",
    "            book_isbns[np.flatnonzero(csr_dense[:, list(relevant_users)].sum(axis=1))]\n",
    "        )\n",
    "\n",
    "        # Compute Precision@k and Recall@k\n",
    "        precision_scores.append(precision_at_k(recommended_books, relevant_books, k))\n",
    "        recall_scores.append(recall_at_k(recommended_books, relevant_books, k))\n",
    "\n",
    "    # Calculate average Precision@k and Recall@k\n",
    "    mean_precision = np.mean(precision_scores)\n",
    "    mean_recall = np.mean(recall_scores)\n",
    "\n",
    "    return mean_precision, mean_recall\n",
    "\n",
    "# Evaluate the kNN model\n",
    "mean_precision, mean_recall = evaluate_recommender(optimized_knn, csr_train, test_data, book_isbns, k=10)\n",
    "\n",
    "# Print evaluation metrics\n",
    "print(f\"Mean Precision@k: {mean_precision}\")\n",
    "print(f\"Mean Recall@k: {mean_recall}\")\n"
   ]
  },
  {
   "cell_type": "markdown",
   "id": "699a29ad-bff0-423e-ba99-76c9f27f56ca",
   "metadata": {},
   "source": [
    "## Evaluation 2"
   ]
  },
  {
   "cell_type": "code",
   "execution_count": null,
   "id": "9142dd39-87fe-44d2-8245-1f0a258d7a3b",
   "metadata": {},
   "outputs": [],
   "source": [
    "import json\n",
    "from scipy.sparse import load_npz, csr_matrix\n",
    "from joblib import load\n",
    "from sklearn.model_selection import train_test_split\n",
    "import numpy as np\n",
    "import surprise\n",
    "\n",
    "# Load the model from the file\n",
    "optimized_knn = load('../models/model.joblib')\n",
    "\n",
    "# Load the csr_matrix from the file\n",
    "csr_data = load_npz('../data/csr_data.npz')\n",
    "\n",
    "# Load book titles and Users IDs\n",
    "with open('../data/book_isbn.json', 'r') as f:\n",
    "    book_isbns = json.load(f)\n",
    "\n",
    "with open('../data/user_ids.json', 'r') as f:\n",
    "    user_ids = json.load(f)\n"
   ]
  },
  {
   "cell_type": "code",
   "execution_count": null,
   "id": "81307d26-28ff-4711-827a-12d786edc630",
   "metadata": {},
   "outputs": [],
   "source": [
    "from surprise import accuracy\n",
    "from surprise.model_selection import train_test_split\n"
   ]
  },
  {
   "cell_type": "code",
   "execution_count": null,
   "id": "d44ea3e3-0610-4e90-8cd1-c627ec496203",
   "metadata": {},
   "outputs": [],
   "source": []
  },
  {
   "cell_type": "code",
   "execution_count": null,
   "id": "7bd8d94c-f555-42be-b8b5-60403aa06bc4",
   "metadata": {},
   "outputs": [],
   "source": []
  }
 ],
 "metadata": {
  "kernelspec": {
   "display_name": "capstone_env",
   "language": "python",
   "name": "capstone_env"
  },
  "language_info": {
   "codemirror_mode": {
    "name": "ipython",
    "version": 3
   },
   "file_extension": ".py",
   "mimetype": "text/x-python",
   "name": "python",
   "nbconvert_exporter": "python",
   "pygments_lexer": "ipython3",
   "version": "3.8.20"
  }
 },
 "nbformat": 4,
 "nbformat_minor": 5
}
